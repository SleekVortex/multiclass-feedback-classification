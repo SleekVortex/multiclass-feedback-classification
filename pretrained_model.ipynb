{
  "cells": [
    {
      "cell_type": "markdown",
      "metadata": {
        "id": "fZU4NahmV9T7"
      },
      "source": [
        "## 1. Импорт зависимостей"
      ]
    },
    {
      "cell_type": "code",
      "execution_count": 114,
      "metadata": {
        "colab": {
          "base_uri": "https://localhost:8080/"
        },
        "id": "962nWy_S_1Lp",
        "outputId": "4e13583f-40f5-41a8-fcb8-4e0a174c7e70"
      },
      "outputs": [
        {
          "name": "stdout",
          "output_type": "stream",
          "text": [
            "Drive already mounted at /content/drive; to attempt to forcibly remount, call drive.mount(\"/content/drive\", force_remount=True).\n"
          ]
        }
      ],
      "source": [
        "from google.colab import drive\n",
        "drive.mount('/content/drive')"
      ]
    },
    {
      "cell_type": "code",
      "execution_count": 115,
      "metadata": {
        "id": "Fip6xdShSnTZ"
      },
      "outputs": [],
      "source": [
        "import os\n",
        "import time\n",
        "import torch\n",
        "import random\n",
        "import datetime\n",
        "import numpy as np\n",
        "import numpy as np\n",
        "import pandas as pd\n",
        "import seaborn as sns\n",
        "import matplotlib.pyplot as plt\n",
        "\n",
        "from sklearn.metrics import (\n",
        "    accuracy_score, precision_score,\n",
        "    recall_score, f1_score\n",
        "    )\n",
        "from sklearn.preprocessing import LabelEncoder\n",
        "from torch.utils.data import (\n",
        "    TensorDataset, random_split, DataLoader,\n",
        "    RandomSampler, SequentialSampler\n",
        "    )\n",
        "from transformers import(\n",
        "    BertForSequenceClassification, AdamW,\n",
        "    BertTokenizer, AutoTokenizer,\n",
        "    get_linear_schedule_with_warmup\n",
        "    )"
      ]
    },
    {
      "cell_type": "markdown",
      "metadata": {
        "id": "QilWhNW5V9T9"
      },
      "source": [
        "Проверим доступность GPU"
      ]
    },
    {
      "cell_type": "code",
      "execution_count": 116,
      "metadata": {
        "colab": {
          "base_uri": "https://localhost:8080/"
        },
        "id": "aTPkhk_XSnTa",
        "outputId": "e53b4225-b13c-4348-dd70-096805352807"
      },
      "outputs": [
        {
          "name": "stdout",
          "output_type": "stream",
          "text": [
            "There are 1 GPU(s) available.\n",
            "We will use the GPU: Tesla T4\n"
          ]
        }
      ],
      "source": [
        "if torch.cuda.is_available():\n",
        "    device = torch.device(\"cuda\")\n",
        "    print('There are %d GPU(s) available.' % torch.cuda.device_count())\n",
        "    print('We will use the GPU:', torch.cuda.get_device_name(0))\n",
        "\n",
        "else:\n",
        "    print('No GPU available, using the CPU instead.')\n",
        "    device = torch.device(\"cpu\")"
      ]
    },
    {
      "cell_type": "markdown",
      "metadata": {
        "id": "IZcefGy3SnTb"
      },
      "source": [
        "## 2. Загрузка данных"
      ]
    },
    {
      "cell_type": "markdown",
      "metadata": {
        "id": "yJ_uQ0rrV9T9"
      },
      "source": [
        "Данные, в отличие от других файлов используются в виде тренировочной и тестовой выборки, чтобы не хранить одновременно лишние данные в памяти.\n",
        "\n",
        "Данные были разделены на train и test с помощью sklearn train_test_split с random_state=42."
      ]
    },
    {
      "cell_type": "code",
      "execution_count": 117,
      "metadata": {
        "colab": {
          "base_uri": "https://localhost:8080/",
          "height": 571
        },
        "id": "nV5mgxY7SnTc",
        "outputId": "66b6dec0-f5f3-459c-c293-2a7adbdf1343"
      },
      "outputs": [
        {
          "name": "stdout",
          "output_type": "stream",
          "text": [
            "Number of training sentences: 298,053\n",
            "\n"
          ]
        },
        {
          "data": {
            "application/vnd.google.colaboratory.intrinsic+json": {
              "summary": "{\n  \"name\": \"df\",\n  \"rows\": 10,\n  \"fields\": [\n    {\n      \"column\": \"review\",\n      \"properties\": {\n        \"dtype\": \"string\",\n        \"num_unique_values\": 10,\n        \"samples\": [\n          \"\\u041e\\u0442\\u0443\\u0447\\u0438\\u043b\\u0441\\u044f \\u043f\\u0435\\u0440\\u0432\\u044b\\u0439 \\u0433\\u043e\\u0434, \\u0432\\u0441\\u0435 \\u043d\\u0440\\u0430\\u0432\\u0438\\u0442\\u0441\\u044f! \\u0423\\u0447\\u0438\\u0442\\u044c\\u0441\\u044f \\u0438\\u043d\\u0442\\u0435\\u0440\\u0435\\u0441\\u043d\\u043e, \\u043d\\u0435 \\u043d\\u0430\\u0434\\u043e \\u0440\\u0430\\u043d\\u043e \\u0432\\u0441\\u0442\\u0430\\u0432\\u0430\\u0442\\u044c, \\u0447\\u0442\\u043e-\\u0442\\u043e \\u0437\\u0443\\u0431\\u0440\\u0438\\u0442\\u044c. \\u0412\\u0441\\u0435 \\u0434\\u043e\\u043d\\u043e\\u0441\\u044f\\u0442 \\u043f\\u043e\\u043d\\u044f\\u0442\\u043d\\u043e \\u0438 \\u0434\\u043e\\u0441\\u0442\\u0443\\u043f\\u043d\\u043e, \\u043d\\u0435\\u0442 \\u0442\\u0430\\u043a\\u043e\\u0433\\u043e, \\u0447\\u0442\\u043e \\u043f\\u0440\\u043e\\u0441\\u0442\\u043e \\u0447\\u0438\\u0442\\u0430\\u044e\\u0442 \\u0432\\u0441\\u043b\\u0443\\u0445 \\u0443\\u0447\\u0435\\u0431\\u043d\\u0438\\u043a. \\u0414\\u0430\\u0436\\u0435 \\u0438\\u043d\\u043e\\u0433\\u0434\\u0430 \\u0441\\u0430\\u043c \\u0443\\u0434\\u0438\\u0432\\u043b\\u044f\\u044e\\u0441\\u044c, \\u0447\\u0442\\u043e \\u0441\\u043b\\u0443\\u0448\\u0430\\u044e \\u0438 \\u0441\\u043c\\u043e\\u0442\\u0440\\u044e \\u0430\\u0431\\u0441\\u043e\\u043b\\u044e\\u0442\\u043d\\u043e \\u0432\\u0441\\u0435 \\u0432\\u0435\\u0431\\u0438\\u043d\\u0430\\u0440\\u044b.\\u041c\\u043d\\u0435 \\u043a\\u0430\\u0436\\u0435\\u0442\\u0441\\u044f, \\u0432 \\u041c\\u0422\\u0418 \\u043f\\u0440\\u0435\\u043f\\u043e\\u0434\\u0430\\u0432\\u0430\\u0442\\u0435\\u043b\\u0438 \\u0433\\u043e\\u0440\\u0430\\u0437\\u0434\\u043e \\u0432\\u043d\\u0438\\u043c\\u0430\\u0442\\u0435\\u043b\\u044c\\u043d\\u0435\\u0435, \\u0447\\u0435\\u043c \\u0432 \\u043e\\u0431\\u044b\\u0447\\u043d\\u044b\\u0445 \\u0432\\u0443\\u0437\\u0430\\u0445 \\u043d\\u0430 \\u043e\\u0431\\u044b\\u0447\\u043d\\u044b\\u0445 \\u0437\\u0430\\u043d\\u044f\\u0442\\u0438\\u044f\\u0445. \\u041c\\u043e\\u0436\\u0435\\u0442, \\u0438\\u0437-\\u0437\\u0430 \\u0442\\u043e\\u0433\\u043e, \\u0447\\u0442\\u043e \\u043e\\u0431\\u0443\\u0447\\u0435\\u043d\\u0438\\u0435 \\u043f\\u0440\\u043e\\u0445\\u043e\\u0434\\u0438\\u0442 \\u043e\\u043d\\u043b\\u0430\\u0439\\u043d, \\u043e\\u043d\\u0438 \\u0431\\u043e\\u043b\\u044c\\u0448\\u0435 \\u0431\\u0435\\u0441\\u043f\\u043e\\u043a\\u043e\\u044f\\u0442\\u0441\\u044f, \\u0432\\u0441\\u0435 \\u043b\\u0438 \\u043f\\u043e\\u043d\\u044f\\u043b \\u0441\\u0442\\u0443\\u0434\\u0435\\u043d\\u0442. \\u041c\\u043d\\u0435 \\u0442\\u0430\\u043a\\u043e\\u0439 \\u043f\\u043e\\u0434\\u0445\\u043e\\u0434 \\u043d\\u0440\\u0430\\u0432\\u0438\\u0442\\u0441\\u044f, \\u044d\\u0442\\u043e \\u0438 \\u043f\\u0440\\u0438\\u044f\\u0442\\u043d\\u043e, \\u0438 \\u043f\\u043e\\u043b\\u0435\\u0437\\u043d\\u043e. \\u041d\\u0438\\u043a\\u043e\\u0433\\u0434\\u0430 \\u043d\\u0435 \\u0441\\u0442\\u0435\\u0441\\u043d\\u044f\\u0435\\u0448\\u044c\\u0441\\u044f \\u0447\\u0442\\u043e-\\u0442\\u043e \\u0441\\u043f\\u0440\\u043e\\u0441\\u0438\\u0442\\u044c \\u0438\\u043b\\u0438 \\u0443\\u0442\\u043e\\u0447\\u043d\\u0438\\u0442\\u044c.\",\n          \"\\u0417\\u0434\\u0440\\u0430\\u0432\\u0441\\u0442\\u0432\\u0443\\u0439\\u0442\\u0435. \\u0425\\u043e\\u0442\\u0435\\u043b\\u0430 \\u0431\\u044b \\u0442\\u043e\\u0436\\u0435 \\u043d\\u0430\\u043f\\u0438\\u0441\\u0430\\u0442\\u044c \\u043d\\u0435\\u0433\\u0430\\u0442\\u0438\\u0432\\u043d\\u044b\\u0439 \\u043e\\u0442\\u0437\\u044b\\u0432. \\u042f \\u0441\\u0434\\u0430\\u043b\\u0430 \\u0442\\u0433\\u043f \\u0441\\u043e 2 \\u0440\\u0430\\u0437\\u0430 (\\u0438 \\u0441\\u043b\\u0430\\u0432\\u0443 \\u0431\\u043e\\u0433\\u0443) \\u041d\\u041e! \\u0422\\u0435, \\u043a\\u0442\\u043e \\u0431\\u044b\\u043b\\u0438 \\u043d\\u0430 \\u043a\\u043e\\u043c\\u0438\\u0441\\u0441\\u0438\\u0438, \\u0441\\u0434\\u0430\\u0432\\u0430\\u043b\\u0438 \\u0441 \\u043d\\u0430\\u0443\\u0448\\u043d\\u0438\\u043a\\u043e\\u043c. \\u0421\\u0434\\u0430\\u043b \\u043f\\u0430\\u0440\\u0435\\u043d\\u044c, \\u043a\\u043e\\u0442\\u043e\\u0440\\u044b\\u0439 \\u043d\\u0435 \\u043c\\u043e\\u0436\\u0435\\u0442 \\u0433\\u043e\\u0432\\u043e\\u0440\\u0438\\u0442\\u044c \\u043d\\u0430 \\u0440\\u0443\\u0441\\u0441\\u043a\\u043e\\u043c \\u0441\\u043e\\u0432\\u0441\\u0435\\u043c (\\u043e\\u043d \\u0437\\u0430\\u043f\\u043b\\u0430\\u0442\\u0438\\u043b \\u0437\\u0430 \\u044d\\u043a\\u0437!). \\u0418\\u0437 \\u043c\\u043e\\u0435\\u0439 \\u0433\\u0440\\u0443\\u043f\\u043f\\u044b \\u0442\\u043e\\u0436\\u0435 \\u043e\\u0442\\u0447\\u0438\\u0441\\u043b\\u0438 \\u043b\\u044e\\u0434\\u0435\\u0439! \\u0410 \\u043e\\u043d\\u0438 \\u0433\\u043e\\u0442\\u043e\\u0432\\u0438\\u043b\\u0438\\u0441\\u044c \\u0438 \\u0443\\u0447\\u0438\\u043b\\u0438! \\u041f\\u0438\\u0441\\u0430\\u043b\\u0438 \\u0441\\u0430\\u043c\\u0438 (\\u043a\\u0440\\u043e\\u043c\\u0435 n \\u043a\\u043e\\u043b-\\u0432\\u043e \\u0447\\u0435\\u043b\\u043e\\u0432\\u0435\\u043a, \\u043a\\u043e\\u0442\\u043e\\u0440\\u044b\\u0435 \\u0432 \\u0438\\u0442\\u043e\\u0433\\u0435 \\u0438 \\u0441\\u0434\\u0430\\u043b\\u0438 \\u0442\\u0433\\u043f). \\u0415\\u0441\\u0442\\u044c \\u0435\\u0449\\u0435 \\u0432\\u0435\\u0441\\u0435\\u043b\\u044b\\u0439 \\u043f\\u0440\\u0435\\u0434\\u043c\\u0435\\u0442 \\u0433\\u0440\\u0430\\u0436\\u0434\\u0430\\u043d\\u0441\\u043a\\u043e\\u0435 \\u043f\\u0440\\u0430\\u0432\\u043e, \\u0441\\u0435\\u043c\\u0438\\u043d\\u0430\\u0440\\u0438\\u0441\\u0442 \\u0432\\u0440\\u043e\\u0434\\u0435 \\u0438 \\u0435\\u0441\\u0442\\u044c, \\u043d\\u043e \\u0438 \\u043d\\u0435\\u0442 (\\u043d\\u0430 40 \\u043c\\u0438\\u043d\\u0443\\u0442 \\u043e\\u0442 \\u043d\\u0430\\u0447\\u0430\\u043b\\u0430 \\u0441\\u0435\\u043c\\u0438\\u043d\\u0430\\u0440\\u0430 \\u0432\\u0441\\u0435\\u0433\\u0434\\u0430 \\u0437\\u0430\\u0434\\u0435\\u0440\\u0436\\u0438\\u0432\\u0430\\u0435\\u0442\\u0441\\u044f). \\u041d\\u0443 \\u0432 \\u043a\\u043e\\u043d\\u0446\\u0435 \\u043a\\u043e\\u043d\\u0446\\u043e\\u0432, \\u0447\\u0442\\u043e \\u044d\\u0442\\u043e \\u0442\\u0430\\u043a\\u043e\\u0435! \\u0423\\u0447\\u0443\\u0441\\u044c \\u0432 \\u043a\\u043e\\u043b\\u043b\\u0435\\u0434\\u0436\\u0435 \\u043d\\u0430 2 \\u043a\\u0443\\u0440\\u0441\\u0435. \\u041f\\u0440\\u0435\\u043f\\u043e\\u0434 \\u043f\\u043e \\u0418\\u0413\\u041f\\u0417\\u0421, \\u043e\\u043e\\u043e\\u043e, \\u044d\\u0442\\u043e \\u0447\\u0442\\u043e-\\u0442\\u043e (\\u0442\\u043e \\u0435\\u0433\\u043e \\u043d\\u0435\\u0442, \\u0442\\u043e \\u043e\\u043d \\u0435\\u0441\\u0442\\u044c). \\u0415\\u0441\\u043b\\u0438 \\u0437\\u0430\\u043a\\u0440\\u044b\\u0442\\u044c \\u0433\\u043b\\u0430\\u0437\\u0430 \\u043d\\u0430 \\u044d\\u0442\\u043e\\u0442 \\u0448\\u043b\\u0430\\u043a (\\u044f \\u043d\\u0435 \\u0445\\u043e\\u0442\\u0435\\u043b\\u0430 \\u043f\\u0438\\u0441\\u0430\\u0442\\u044c \\u043a\\u043e\\u043d\\u043a\\u0440\\u0435\\u0442\\u043d\\u044b\\u0435 \\u0444\\u0430\\u043c\\u0438\\u043b\\u0438\\u0438 \\u0432\\u044b\\u0448\\u0435), \\u0442\\u043e \\u0435\\u0441\\u0442\\u044c \\u0438 \\u0447\\u0443\\u0434\\u0435\\u0441\\u043d\\u044b\\u0435 \\u043f\\u0440\\u0435\\u043f\\u043e\\u0434\\u0430\\u0432\\u0430\\u0442\\u0435\\u043b\\u0438. \\u041d\\u043e \\u0438\\u0445 \\u0442\\u0430\\u043a \\u043c\\u0430\\u043b\\u043e ( ( ( ( \\u043f\\u0440\\u044f\\u043c\\u043e \\u0433\\u0440\\u0443\\u0441\\u0442\\u044c ( ( ( \\u0430 \\u0435\\u0449\\u0435, \\u0432\\u0435\\u0441\\u0435\\u043b\\u043e \\u0433\\u043e\\u0442\\u043e\\u0432\\u0438\\u0442\\u044c\\u0441\\u044f \\u043a \\u044d\\u043a\\u0437\\u0430\\u043c\\u0435\\u043d\\u0430\\u043c (1 \\u044d\\u043a\\u0437 \\u043f\\u043e\\u0442\\u043e\\u043c 2 \\u0434\\u043d\\u044f \\u043f\\u0435\\u0440\\u0435\\u0440\\u044b\\u0432 \\u0438 \\u0435\\u0449\\u0435 \\u043e\\u0434\\u0438\\u043d \\u044d\\u043a\\u0437, \\u043f\\u043e\\u0442\\u043e\\u043c \\u043f\\u0435\\u0440\\u0435\\u0440\\u044b\\u0432 2 \\u0434\\u043d\\u044f \\u0438 \\u0435\\u0449\\u0435 \\u043e\\u0434\\u0438\\u043d \\u044d\\u043a\\u0437\\u0430\\u043c\\u0435\\u043d).\\u0418\\u0437\\u0432\\u0438\\u043d\\u0438\\u0442\\u0435 \\u0435\\u0441\\u043b\\u0438 \\u0435\\u0441\\u0442\\u044c \\u043e\\u0448\\u0438\\u0431\\u043a\\u0438. \\u0412\\u0441\\u0435 \\u043c\\u044b \\u043d\\u0435 \\u0438\\u0434\\u0435\\u0430\\u043b\\u044c\\u043d\\u044b. \\u0418 \\u0434\\u0430\\u0436\\u0435 \\u043d\\u0430 \\u043b\\u0435\\u043a\\u0446\\u0438\\u044f\\u0445/\\u0441\\u0435\\u043c\\u0438\\u043d\\u0430\\u0440\\u0430\\u0445 \\u043f\\u0440\\u0430\\u0432\\u0438\\u043b\\u044c\\u043d\\u043e\\u0435 \\u0443\\u0434\\u0430\\u0440\\u0435\\u043d\\u0438\\u0435 \\u0432 \\u0441\\u043b\\u043e\\u0432\\u0430\\u0445 \\u043c\\u043e\\u0436\\u043d\\u043e \\u0432\\u044b\\u0443\\u0447\\u0438\\u0442\\u044c! \\u042d\\u0442\\u043e \\u043e\\u0447\\u0435\\u043d\\u044c \\u0440\\u0435\\u0436\\u0435\\u0442 \\u0441\\u043b\\u0443\\u0445. \\u041d\\u043e \\u044f \\u0441\\u0430\\u043c\\u0430 \\u0433\\u0440\\u0430\\u043c\\u043c\\u0430\\u0442\\u0435\\u0439\\u043a\\u0430, \\u043f\\u043e\\u044d\\u0442\\u043e\\u043c\\u0443 \\u043d\\u043e\\u0440\\u043c\\u0430\\u0441\\u0438\\u043a \\u0441\\u043b\\u0443\\u0448\\u0430\\u0442\\u044c \\u0442\\u0430\\u043a\\u0443\\u044e \\u043f\\u0440\\u0430\\u0432\\u0438\\u043b\\u044c\\u043d\\u0443\\u044e \\u0440\\u0435\\u0447\\u044c.\",\n          \"\\u0427\\u0438\\u0441\\u0442\\u043e\\u0442\\u0430 \\u0438 \\u043d\\u043e\\u0432\\u0438\\u0437\\u043d\\u0430 \\u0430\\u0443\\u0434\\u0438\\u0442\\u043e\\u0440\\u0438\\u0438 \\u043f\\u043e\\u0440\\u0430\\u0436\\u0430\\u0435\\u0442, \\u043d\\u043e \\u043e\\u0433\\u043e\\u0440\\u0447\\u0430\\u0435\\u0442 \\u043f\\u043b\\u0430\\u043d\\u0438\\u0440\\u043e\\u0432\\u043a\\u0430 \\u0437\\u0434\\u0430\\u043d\\u0438\\u044f. \\u041d\\u0430\\u0439\\u0442\\u0438 \\u043d\\u0443\\u0436\\u043d\\u0443\\u044e \\u0434\\u0432\\u0435\\u0440\\u044c \\u043e\\u0447\\u0435\\u043d\\u044c \\u0442\\u044f\\u0436\\u0435\\u043b\\u043e.\"\n        ],\n        \"semantic_type\": \"\",\n        \"description\": \"\"\n      }\n    },\n    {\n      \"column\": \"review_snippet\",\n      \"properties\": {\n        \"dtype\": \"string\",\n        \"num_unique_values\": 10,\n        \"samples\": [\n          \"\\u041e\\u0442\\u0443\\u0447\\u0438\\u043b\\u0441\\u044f \\u043f\\u0435\\u0440\\u0432\\u044b\\u0439 \\u0433\\u043e\\u0434, \\u0432\\u0441\\u0435 \\u043d\\u0440\\u0430\\u0432\\u0438\\u0442\\u0441\\u044f\",\n          \"\\u0418 \\u0434\\u0430\\u0436\\u0435 \\u043d\\u0430 \\u043b\\u0435\\u043a\\u0446\\u0438\\u044f\\u0445/\\u0441\\u0435\\u043c\\u0438\\u043d\\u0430\\u0440\\u0430\\u0445 \\u043f\\u0440\\u0430\\u0432\\u0438\\u043b\\u044c\\u043d\\u043e\\u0435 \\u0443\\u0434\\u0430\\u0440\\u0435\\u043d\\u0438\\u0435 \\u0432 \\u0441\\u043b\\u043e\\u0432\\u0430\\u0445 \\u043c\\u043e\\u0436\\u043d\\u043e \\u0432\\u044b\\u0443\\u0447\\u0438\\u0442\\u044c\",\n          \"\\u0427\\u0438\\u0441\\u0442\\u043e\\u0442\\u0430 \\u0438 \\u043d\\u043e\\u0432\\u0438\\u0437\\u043d\\u0430 \\u0430\\u0443\\u0434\\u0438\\u0442\\u043e\\u0440\\u0438\\u0438 \\u043f\\u043e\\u0440\\u0430\\u0436\\u0430\\u0435\\u0442, \\u043d\\u043e \\u043e\\u0433\\u043e\\u0440\\u0447\\u0430\\u0435\\u0442 \\u043f\\u043b\\u0430\\u043d\\u0438\\u0440\\u043e\\u0432\\u043a\\u0430 \\u0437\\u0434\\u0430\\u043d\\u0438\\u044f. \\u041d\\u0430\\u0439\\u0442\\u0438 \\u043d\\u0443\\u0436\\u043d\\u0443\\u044e \\u0434\\u0432\\u0435\\u0440\\u044c \\u043e\\u0447\\u0435\\u043d\\u044c \\u0442\\u044f\\u0436\\u0435\\u043b\\u043e.\"\n        ],\n        \"semantic_type\": \"\",\n        \"description\": \"\"\n      }\n    },\n    {\n      \"column\": \"category\",\n      \"properties\": {\n        \"dtype\": \"category\",\n        \"num_unique_values\": 3,\n        \"samples\": [\n          \"\\u041e\\u0431\\u0440\\u0430\\u0437\\u043e\\u0432\\u0430\\u0442\\u0435\\u043b\\u044c\\u043d\\u0430\\u044f \\u0434\\u0435\\u044f\\u0442\\u0435\\u043b\\u044c\\u043d\\u043e\\u0441\\u0442\\u044c + \\u041d\\u0418\\u0420\",\n          \"\\u0424\\u0438\\u043d\\u0430\\u043d\\u0441\\u043e\\u0432\\u043e-\\u044d\\u043a\\u043e\\u043d\\u043e\\u043c\\u0438\\u0447\\u0435\\u0441\\u043a\\u0430\\u044f \\u0434\\u0435\\u044f\\u0442\\u0435\\u043b\\u044c\\u043d\\u043e\\u0441\\u0442\\u044c\",\n          \"\\u041b\\u043e\\u044f\\u043b\\u044c\\u043d\\u043e\\u0441\\u0442\\u044c \\u043a \\u0412\\u0423\\u0417\\u0443\"\n        ],\n        \"semantic_type\": \"\",\n        \"description\": \"\"\n      }\n    }\n  ]\n}",
              "type": "dataframe"
            },
            "text/html": [
              "\n",
              "  <div id=\"df-ddb32be5-61e3-42f3-b435-1924fb5a31c1\" class=\"colab-df-container\">\n",
              "    <div>\n",
              "<style scoped>\n",
              "    .dataframe tbody tr th:only-of-type {\n",
              "        vertical-align: middle;\n",
              "    }\n",
              "\n",
              "    .dataframe tbody tr th {\n",
              "        vertical-align: top;\n",
              "    }\n",
              "\n",
              "    .dataframe thead th {\n",
              "        text-align: right;\n",
              "    }\n",
              "</style>\n",
              "<table border=\"1\" class=\"dataframe\">\n",
              "  <thead>\n",
              "    <tr style=\"text-align: right;\">\n",
              "      <th></th>\n",
              "      <th>review</th>\n",
              "      <th>review_snippet</th>\n",
              "      <th>category</th>\n",
              "    </tr>\n",
              "  </thead>\n",
              "  <tbody>\n",
              "    <tr>\n",
              "      <th>43120</th>\n",
              "      <td>В интернете вообще очень сложно встретить поло...</td>\n",
              "      <td>Кстати, ещё есть некоторые пары дистанционно, ...</td>\n",
              "      <td>Образовательная деятельность + НИР</td>\n",
              "    </tr>\n",
              "    <tr>\n",
              "      <th>212182</th>\n",
              "      <td>Здравствуйте. Хотела бы тоже написать негативн...</td>\n",
              "      <td>И даже на лекциях/семинарах правильное ударени...</td>\n",
              "      <td>Образовательная деятельность + НИР</td>\n",
              "    </tr>\n",
              "    <tr>\n",
              "      <th>48132</th>\n",
              "      <td>Я доволен знаниями, полученными за 4 года обуч...</td>\n",
              "      <td>Я доволен знаниями, полученными за 4 года обуч...</td>\n",
              "      <td>Образовательная деятельность + НИР</td>\n",
              "    </tr>\n",
              "    <tr>\n",
              "      <th>125961</th>\n",
              "      <td>В списках ФЭФ очень много олимпиадников с ориг...</td>\n",
              "      <td>В списках ФЭФ очень много олимпиадников с ориг...</td>\n",
              "      <td>Финансово-экономическая деятельность</td>\n",
              "    </tr>\n",
              "    <tr>\n",
              "      <th>22095</th>\n",
              "      <td>Всем кто ещё не определился и рассматривает да...</td>\n",
              "      <td>Однако, при всех прочих равных довелось мне ощ...</td>\n",
              "      <td>Лояльность к ВУЗу</td>\n",
              "    </tr>\n",
              "    <tr>\n",
              "      <th>49150</th>\n",
              "      <td>Чистота и новизна аудитории поражает, но огорч...</td>\n",
              "      <td>Чистота и новизна аудитории поражает, но огорч...</td>\n",
              "      <td>Лояльность к ВУЗу</td>\n",
              "    </tr>\n",
              "    <tr>\n",
              "      <th>283853</th>\n",
              "      <td>Начиталась тут всего удивительного и хочу расс...</td>\n",
              "      <td>Оснащение не по первому слову техники, но для ...</td>\n",
              "      <td>Образовательная деятельность + НИР</td>\n",
              "    </tr>\n",
              "    <tr>\n",
              "      <th>111312</th>\n",
              "      <td>Московский гуманитарный университет- \\nдействи...</td>\n",
              "      <td>Стоит отметить, что вуз помогает вам с</td>\n",
              "      <td>Лояльность к ВУЗу</td>\n",
              "    </tr>\n",
              "    <tr>\n",
              "      <th>292462</th>\n",
              "      <td>Отучился первый год, все нравится! Учиться инт...</td>\n",
              "      <td>Отучился первый год, все нравится</td>\n",
              "      <td>Лояльность к ВУЗу</td>\n",
              "    </tr>\n",
              "    <tr>\n",
              "      <th>222502</th>\n",
              "      <td>Приехала поступать на заочную форму обучения. ...</td>\n",
              "      <td>И вправду, списки в последний раз обновлялись ...</td>\n",
              "      <td>Финансово-экономическая деятельность</td>\n",
              "    </tr>\n",
              "  </tbody>\n",
              "</table>\n",
              "</div>\n",
              "    <div class=\"colab-df-buttons\">\n",
              "\n",
              "  <div class=\"colab-df-container\">\n",
              "    <button class=\"colab-df-convert\" onclick=\"convertToInteractive('df-ddb32be5-61e3-42f3-b435-1924fb5a31c1')\"\n",
              "            title=\"Convert this dataframe to an interactive table.\"\n",
              "            style=\"display:none;\">\n",
              "\n",
              "  <svg xmlns=\"http://www.w3.org/2000/svg\" height=\"24px\" viewBox=\"0 -960 960 960\">\n",
              "    <path d=\"M120-120v-720h720v720H120Zm60-500h600v-160H180v160Zm220 220h160v-160H400v160Zm0 220h160v-160H400v160ZM180-400h160v-160H180v160Zm440 0h160v-160H620v160ZM180-180h160v-160H180v160Zm440 0h160v-160H620v160Z\"/>\n",
              "  </svg>\n",
              "    </button>\n",
              "\n",
              "  <style>\n",
              "    .colab-df-container {\n",
              "      display:flex;\n",
              "      gap: 12px;\n",
              "    }\n",
              "\n",
              "    .colab-df-convert {\n",
              "      background-color: #E8F0FE;\n",
              "      border: none;\n",
              "      border-radius: 50%;\n",
              "      cursor: pointer;\n",
              "      display: none;\n",
              "      fill: #1967D2;\n",
              "      height: 32px;\n",
              "      padding: 0 0 0 0;\n",
              "      width: 32px;\n",
              "    }\n",
              "\n",
              "    .colab-df-convert:hover {\n",
              "      background-color: #E2EBFA;\n",
              "      box-shadow: 0px 1px 2px rgba(60, 64, 67, 0.3), 0px 1px 3px 1px rgba(60, 64, 67, 0.15);\n",
              "      fill: #174EA6;\n",
              "    }\n",
              "\n",
              "    .colab-df-buttons div {\n",
              "      margin-bottom: 4px;\n",
              "    }\n",
              "\n",
              "    [theme=dark] .colab-df-convert {\n",
              "      background-color: #3B4455;\n",
              "      fill: #D2E3FC;\n",
              "    }\n",
              "\n",
              "    [theme=dark] .colab-df-convert:hover {\n",
              "      background-color: #434B5C;\n",
              "      box-shadow: 0px 1px 3px 1px rgba(0, 0, 0, 0.15);\n",
              "      filter: drop-shadow(0px 1px 2px rgba(0, 0, 0, 0.3));\n",
              "      fill: #FFFFFF;\n",
              "    }\n",
              "  </style>\n",
              "\n",
              "    <script>\n",
              "      const buttonEl =\n",
              "        document.querySelector('#df-ddb32be5-61e3-42f3-b435-1924fb5a31c1 button.colab-df-convert');\n",
              "      buttonEl.style.display =\n",
              "        google.colab.kernel.accessAllowed ? 'block' : 'none';\n",
              "\n",
              "      async function convertToInteractive(key) {\n",
              "        const element = document.querySelector('#df-ddb32be5-61e3-42f3-b435-1924fb5a31c1');\n",
              "        const dataTable =\n",
              "          await google.colab.kernel.invokeFunction('convertToInteractive',\n",
              "                                                    [key], {});\n",
              "        if (!dataTable) return;\n",
              "\n",
              "        const docLinkHtml = 'Like what you see? Visit the ' +\n",
              "          '<a target=\"_blank\" href=https://colab.research.google.com/notebooks/data_table.ipynb>data table notebook</a>'\n",
              "          + ' to learn more about interactive tables.';\n",
              "        element.innerHTML = '';\n",
              "        dataTable['output_type'] = 'display_data';\n",
              "        await google.colab.output.renderOutput(dataTable, element);\n",
              "        const docLink = document.createElement('div');\n",
              "        docLink.innerHTML = docLinkHtml;\n",
              "        element.appendChild(docLink);\n",
              "      }\n",
              "    </script>\n",
              "  </div>\n",
              "\n",
              "\n",
              "<div id=\"df-f9a17050-213b-48d5-b383-cf5242af3ee2\">\n",
              "  <button class=\"colab-df-quickchart\" onclick=\"quickchart('df-f9a17050-213b-48d5-b383-cf5242af3ee2')\"\n",
              "            title=\"Suggest charts\"\n",
              "            style=\"display:none;\">\n",
              "\n",
              "<svg xmlns=\"http://www.w3.org/2000/svg\" height=\"24px\"viewBox=\"0 0 24 24\"\n",
              "     width=\"24px\">\n",
              "    <g>\n",
              "        <path d=\"M19 3H5c-1.1 0-2 .9-2 2v14c0 1.1.9 2 2 2h14c1.1 0 2-.9 2-2V5c0-1.1-.9-2-2-2zM9 17H7v-7h2v7zm4 0h-2V7h2v10zm4 0h-2v-4h2v4z\"/>\n",
              "    </g>\n",
              "</svg>\n",
              "  </button>\n",
              "\n",
              "<style>\n",
              "  .colab-df-quickchart {\n",
              "      --bg-color: #E8F0FE;\n",
              "      --fill-color: #1967D2;\n",
              "      --hover-bg-color: #E2EBFA;\n",
              "      --hover-fill-color: #174EA6;\n",
              "      --disabled-fill-color: #AAA;\n",
              "      --disabled-bg-color: #DDD;\n",
              "  }\n",
              "\n",
              "  [theme=dark] .colab-df-quickchart {\n",
              "      --bg-color: #3B4455;\n",
              "      --fill-color: #D2E3FC;\n",
              "      --hover-bg-color: #434B5C;\n",
              "      --hover-fill-color: #FFFFFF;\n",
              "      --disabled-bg-color: #3B4455;\n",
              "      --disabled-fill-color: #666;\n",
              "  }\n",
              "\n",
              "  .colab-df-quickchart {\n",
              "    background-color: var(--bg-color);\n",
              "    border: none;\n",
              "    border-radius: 50%;\n",
              "    cursor: pointer;\n",
              "    display: none;\n",
              "    fill: var(--fill-color);\n",
              "    height: 32px;\n",
              "    padding: 0;\n",
              "    width: 32px;\n",
              "  }\n",
              "\n",
              "  .colab-df-quickchart:hover {\n",
              "    background-color: var(--hover-bg-color);\n",
              "    box-shadow: 0 1px 2px rgba(60, 64, 67, 0.3), 0 1px 3px 1px rgba(60, 64, 67, 0.15);\n",
              "    fill: var(--button-hover-fill-color);\n",
              "  }\n",
              "\n",
              "  .colab-df-quickchart-complete:disabled,\n",
              "  .colab-df-quickchart-complete:disabled:hover {\n",
              "    background-color: var(--disabled-bg-color);\n",
              "    fill: var(--disabled-fill-color);\n",
              "    box-shadow: none;\n",
              "  }\n",
              "\n",
              "  .colab-df-spinner {\n",
              "    border: 2px solid var(--fill-color);\n",
              "    border-color: transparent;\n",
              "    border-bottom-color: var(--fill-color);\n",
              "    animation:\n",
              "      spin 1s steps(1) infinite;\n",
              "  }\n",
              "\n",
              "  @keyframes spin {\n",
              "    0% {\n",
              "      border-color: transparent;\n",
              "      border-bottom-color: var(--fill-color);\n",
              "      border-left-color: var(--fill-color);\n",
              "    }\n",
              "    20% {\n",
              "      border-color: transparent;\n",
              "      border-left-color: var(--fill-color);\n",
              "      border-top-color: var(--fill-color);\n",
              "    }\n",
              "    30% {\n",
              "      border-color: transparent;\n",
              "      border-left-color: var(--fill-color);\n",
              "      border-top-color: var(--fill-color);\n",
              "      border-right-color: var(--fill-color);\n",
              "    }\n",
              "    40% {\n",
              "      border-color: transparent;\n",
              "      border-right-color: var(--fill-color);\n",
              "      border-top-color: var(--fill-color);\n",
              "    }\n",
              "    60% {\n",
              "      border-color: transparent;\n",
              "      border-right-color: var(--fill-color);\n",
              "    }\n",
              "    80% {\n",
              "      border-color: transparent;\n",
              "      border-right-color: var(--fill-color);\n",
              "      border-bottom-color: var(--fill-color);\n",
              "    }\n",
              "    90% {\n",
              "      border-color: transparent;\n",
              "      border-bottom-color: var(--fill-color);\n",
              "    }\n",
              "  }\n",
              "</style>\n",
              "\n",
              "  <script>\n",
              "    async function quickchart(key) {\n",
              "      const quickchartButtonEl =\n",
              "        document.querySelector('#' + key + ' button');\n",
              "      quickchartButtonEl.disabled = true;  // To prevent multiple clicks.\n",
              "      quickchartButtonEl.classList.add('colab-df-spinner');\n",
              "      try {\n",
              "        const charts = await google.colab.kernel.invokeFunction(\n",
              "            'suggestCharts', [key], {});\n",
              "      } catch (error) {\n",
              "        console.error('Error during call to suggestCharts:', error);\n",
              "      }\n",
              "      quickchartButtonEl.classList.remove('colab-df-spinner');\n",
              "      quickchartButtonEl.classList.add('colab-df-quickchart-complete');\n",
              "    }\n",
              "    (() => {\n",
              "      let quickchartButtonEl =\n",
              "        document.querySelector('#df-f9a17050-213b-48d5-b383-cf5242af3ee2 button');\n",
              "      quickchartButtonEl.style.display =\n",
              "        google.colab.kernel.accessAllowed ? 'block' : 'none';\n",
              "    })();\n",
              "  </script>\n",
              "</div>\n",
              "    </div>\n",
              "  </div>\n"
            ],
            "text/plain": [
              "                                                   review  \\\n",
              "43120   В интернете вообще очень сложно встретить поло...   \n",
              "212182  Здравствуйте. Хотела бы тоже написать негативн...   \n",
              "48132   Я доволен знаниями, полученными за 4 года обуч...   \n",
              "125961  В списках ФЭФ очень много олимпиадников с ориг...   \n",
              "22095   Всем кто ещё не определился и рассматривает да...   \n",
              "49150   Чистота и новизна аудитории поражает, но огорч...   \n",
              "283853  Начиталась тут всего удивительного и хочу расс...   \n",
              "111312  Московский гуманитарный университет- \\nдействи...   \n",
              "292462  Отучился первый год, все нравится! Учиться инт...   \n",
              "222502  Приехала поступать на заочную форму обучения. ...   \n",
              "\n",
              "                                           review_snippet  \\\n",
              "43120   Кстати, ещё есть некоторые пары дистанционно, ...   \n",
              "212182  И даже на лекциях/семинарах правильное ударени...   \n",
              "48132   Я доволен знаниями, полученными за 4 года обуч...   \n",
              "125961  В списках ФЭФ очень много олимпиадников с ориг...   \n",
              "22095   Однако, при всех прочих равных довелось мне ощ...   \n",
              "49150   Чистота и новизна аудитории поражает, но огорч...   \n",
              "283853  Оснащение не по первому слову техники, но для ...   \n",
              "111312             Стоит отметить, что вуз помогает вам с   \n",
              "292462                  Отучился первый год, все нравится   \n",
              "222502  И вправду, списки в последний раз обновлялись ...   \n",
              "\n",
              "                                    category  \n",
              "43120     Образовательная деятельность + НИР  \n",
              "212182    Образовательная деятельность + НИР  \n",
              "48132     Образовательная деятельность + НИР  \n",
              "125961  Финансово-экономическая деятельность  \n",
              "22095                      Лояльность к ВУЗу  \n",
              "49150                      Лояльность к ВУЗу  \n",
              "283853    Образовательная деятельность + НИР  \n",
              "111312                     Лояльность к ВУЗу  \n",
              "292462                     Лояльность к ВУЗу  \n",
              "222502  Финансово-экономическая деятельность  "
            ]
          },
          "execution_count": 117,
          "metadata": {},
          "output_type": "execute_result"
        }
      ],
      "source": [
        "# Load the dataset into a pandas dataframe.\n",
        "df = pd.read_csv(\"drive/MyDrive/train_data.csv\")\n",
        "\n",
        "# Report the number of sentences.\n",
        "print('Number of training sentences: {:,}\\n'.format(df.shape[0]))\n",
        "\n",
        "# Display 10 random rows from the data.\n",
        "df.sample(10)"
      ]
    },
    {
      "cell_type": "code",
      "execution_count": 118,
      "metadata": {
        "id": "lL8aNt8btzqb"
      },
      "outputs": [],
      "source": [
        "text_column = 'review_snippet'\n",
        "label_column = 'category'"
      ]
    },
    {
      "cell_type": "code",
      "execution_count": 119,
      "metadata": {
        "colab": {
          "base_uri": "https://localhost:8080/"
        },
        "id": "dTfoKmd4Mo-E",
        "outputId": "94965847-f466-4220-97d7-b03205e8e109"
      },
      "outputs": [
        {
          "data": {
            "text/plain": [
              "array(['Лояльность к ВУЗу', 'Образовательная деятельность + НИР',\n",
              "       'Финансово-экономическая деятельность',\n",
              "       'Административная деятельность', 'Внеучебная деятельность',\n",
              "       'Инфраструктура'], dtype=object)"
            ]
          },
          "execution_count": 119,
          "metadata": {},
          "output_type": "execute_result"
        }
      ],
      "source": [
        "df[label_column].unique()"
      ]
    },
    {
      "cell_type": "code",
      "execution_count": 120,
      "metadata": {
        "id": "QfSYFD7hBOGc"
      },
      "outputs": [],
      "source": [
        "encoder = LabelEncoder()\n",
        "encoder.fit(df[label_column])\n",
        "df[label_column] = encoder.transform(df[label_column])"
      ]
    },
    {
      "cell_type": "code",
      "execution_count": 121,
      "metadata": {
        "colab": {
          "base_uri": "https://localhost:8080/",
          "height": 206
        },
        "id": "aAFetBpFBtjf",
        "outputId": "a73aa6f7-106c-45d4-ce06-76722b78c008"
      },
      "outputs": [
        {
          "data": {
            "application/vnd.google.colaboratory.intrinsic+json": {
              "type": "dataframe",
              "variable_name": "df"
            },
            "text/html": [
              "\n",
              "  <div id=\"df-4f97be8c-61c9-435e-9f4d-989a5c9031ac\" class=\"colab-df-container\">\n",
              "    <div>\n",
              "<style scoped>\n",
              "    .dataframe tbody tr th:only-of-type {\n",
              "        vertical-align: middle;\n",
              "    }\n",
              "\n",
              "    .dataframe tbody tr th {\n",
              "        vertical-align: top;\n",
              "    }\n",
              "\n",
              "    .dataframe thead th {\n",
              "        text-align: right;\n",
              "    }\n",
              "</style>\n",
              "<table border=\"1\" class=\"dataframe\">\n",
              "  <thead>\n",
              "    <tr style=\"text-align: right;\">\n",
              "      <th></th>\n",
              "      <th>review</th>\n",
              "      <th>review_snippet</th>\n",
              "      <th>category</th>\n",
              "    </tr>\n",
              "  </thead>\n",
              "  <tbody>\n",
              "    <tr>\n",
              "      <th>0</th>\n",
              "      <td>На сайте МГУПП выложили еще три образовательны...</td>\n",
              "      <td>МГУПП, \"Я тебя замучаю любовью могучею, Жаркою...</td>\n",
              "      <td>3</td>\n",
              "    </tr>\n",
              "    <tr>\n",
              "      <th>1</th>\n",
              "      <td>Всем привет! Отзыв о РУДН может быть либо обье...</td>\n",
              "      <td>Он читает на бакалавриате курс «спортивная жур...</td>\n",
              "      <td>4</td>\n",
              "    </tr>\n",
              "    <tr>\n",
              "      <th>2</th>\n",
              "      <td>Отличный институт,старшая ходила в ,, Ступеньк...</td>\n",
              "      <td>ны приемлемы</td>\n",
              "      <td>5</td>\n",
              "    </tr>\n",
              "    <tr>\n",
              "      <th>3</th>\n",
              "      <td>Ректор РНИМУ (он биохимик) первым делом разогн...</td>\n",
              "      <td>Ректор РНИМУ (он биохимик) первым делом разогн...</td>\n",
              "      <td>0</td>\n",
              "    </tr>\n",
              "    <tr>\n",
              "      <th>4</th>\n",
              "      <td>Если есть возможность, то стоит, вуз хорошо ко...</td>\n",
              "      <td>Если есть возможность, то стоит, вуз хорошо ко...</td>\n",
              "      <td>1</td>\n",
              "    </tr>\n",
              "  </tbody>\n",
              "</table>\n",
              "</div>\n",
              "    <div class=\"colab-df-buttons\">\n",
              "\n",
              "  <div class=\"colab-df-container\">\n",
              "    <button class=\"colab-df-convert\" onclick=\"convertToInteractive('df-4f97be8c-61c9-435e-9f4d-989a5c9031ac')\"\n",
              "            title=\"Convert this dataframe to an interactive table.\"\n",
              "            style=\"display:none;\">\n",
              "\n",
              "  <svg xmlns=\"http://www.w3.org/2000/svg\" height=\"24px\" viewBox=\"0 -960 960 960\">\n",
              "    <path d=\"M120-120v-720h720v720H120Zm60-500h600v-160H180v160Zm220 220h160v-160H400v160Zm0 220h160v-160H400v160ZM180-400h160v-160H180v160Zm440 0h160v-160H620v160ZM180-180h160v-160H180v160Zm440 0h160v-160H620v160Z\"/>\n",
              "  </svg>\n",
              "    </button>\n",
              "\n",
              "  <style>\n",
              "    .colab-df-container {\n",
              "      display:flex;\n",
              "      gap: 12px;\n",
              "    }\n",
              "\n",
              "    .colab-df-convert {\n",
              "      background-color: #E8F0FE;\n",
              "      border: none;\n",
              "      border-radius: 50%;\n",
              "      cursor: pointer;\n",
              "      display: none;\n",
              "      fill: #1967D2;\n",
              "      height: 32px;\n",
              "      padding: 0 0 0 0;\n",
              "      width: 32px;\n",
              "    }\n",
              "\n",
              "    .colab-df-convert:hover {\n",
              "      background-color: #E2EBFA;\n",
              "      box-shadow: 0px 1px 2px rgba(60, 64, 67, 0.3), 0px 1px 3px 1px rgba(60, 64, 67, 0.15);\n",
              "      fill: #174EA6;\n",
              "    }\n",
              "\n",
              "    .colab-df-buttons div {\n",
              "      margin-bottom: 4px;\n",
              "    }\n",
              "\n",
              "    [theme=dark] .colab-df-convert {\n",
              "      background-color: #3B4455;\n",
              "      fill: #D2E3FC;\n",
              "    }\n",
              "\n",
              "    [theme=dark] .colab-df-convert:hover {\n",
              "      background-color: #434B5C;\n",
              "      box-shadow: 0px 1px 3px 1px rgba(0, 0, 0, 0.15);\n",
              "      filter: drop-shadow(0px 1px 2px rgba(0, 0, 0, 0.3));\n",
              "      fill: #FFFFFF;\n",
              "    }\n",
              "  </style>\n",
              "\n",
              "    <script>\n",
              "      const buttonEl =\n",
              "        document.querySelector('#df-4f97be8c-61c9-435e-9f4d-989a5c9031ac button.colab-df-convert');\n",
              "      buttonEl.style.display =\n",
              "        google.colab.kernel.accessAllowed ? 'block' : 'none';\n",
              "\n",
              "      async function convertToInteractive(key) {\n",
              "        const element = document.querySelector('#df-4f97be8c-61c9-435e-9f4d-989a5c9031ac');\n",
              "        const dataTable =\n",
              "          await google.colab.kernel.invokeFunction('convertToInteractive',\n",
              "                                                    [key], {});\n",
              "        if (!dataTable) return;\n",
              "\n",
              "        const docLinkHtml = 'Like what you see? Visit the ' +\n",
              "          '<a target=\"_blank\" href=https://colab.research.google.com/notebooks/data_table.ipynb>data table notebook</a>'\n",
              "          + ' to learn more about interactive tables.';\n",
              "        element.innerHTML = '';\n",
              "        dataTable['output_type'] = 'display_data';\n",
              "        await google.colab.output.renderOutput(dataTable, element);\n",
              "        const docLink = document.createElement('div');\n",
              "        docLink.innerHTML = docLinkHtml;\n",
              "        element.appendChild(docLink);\n",
              "      }\n",
              "    </script>\n",
              "  </div>\n",
              "\n",
              "\n",
              "<div id=\"df-606c41d8-9d66-44fe-8253-17f5f3ac3729\">\n",
              "  <button class=\"colab-df-quickchart\" onclick=\"quickchart('df-606c41d8-9d66-44fe-8253-17f5f3ac3729')\"\n",
              "            title=\"Suggest charts\"\n",
              "            style=\"display:none;\">\n",
              "\n",
              "<svg xmlns=\"http://www.w3.org/2000/svg\" height=\"24px\"viewBox=\"0 0 24 24\"\n",
              "     width=\"24px\">\n",
              "    <g>\n",
              "        <path d=\"M19 3H5c-1.1 0-2 .9-2 2v14c0 1.1.9 2 2 2h14c1.1 0 2-.9 2-2V5c0-1.1-.9-2-2-2zM9 17H7v-7h2v7zm4 0h-2V7h2v10zm4 0h-2v-4h2v4z\"/>\n",
              "    </g>\n",
              "</svg>\n",
              "  </button>\n",
              "\n",
              "<style>\n",
              "  .colab-df-quickchart {\n",
              "      --bg-color: #E8F0FE;\n",
              "      --fill-color: #1967D2;\n",
              "      --hover-bg-color: #E2EBFA;\n",
              "      --hover-fill-color: #174EA6;\n",
              "      --disabled-fill-color: #AAA;\n",
              "      --disabled-bg-color: #DDD;\n",
              "  }\n",
              "\n",
              "  [theme=dark] .colab-df-quickchart {\n",
              "      --bg-color: #3B4455;\n",
              "      --fill-color: #D2E3FC;\n",
              "      --hover-bg-color: #434B5C;\n",
              "      --hover-fill-color: #FFFFFF;\n",
              "      --disabled-bg-color: #3B4455;\n",
              "      --disabled-fill-color: #666;\n",
              "  }\n",
              "\n",
              "  .colab-df-quickchart {\n",
              "    background-color: var(--bg-color);\n",
              "    border: none;\n",
              "    border-radius: 50%;\n",
              "    cursor: pointer;\n",
              "    display: none;\n",
              "    fill: var(--fill-color);\n",
              "    height: 32px;\n",
              "    padding: 0;\n",
              "    width: 32px;\n",
              "  }\n",
              "\n",
              "  .colab-df-quickchart:hover {\n",
              "    background-color: var(--hover-bg-color);\n",
              "    box-shadow: 0 1px 2px rgba(60, 64, 67, 0.3), 0 1px 3px 1px rgba(60, 64, 67, 0.15);\n",
              "    fill: var(--button-hover-fill-color);\n",
              "  }\n",
              "\n",
              "  .colab-df-quickchart-complete:disabled,\n",
              "  .colab-df-quickchart-complete:disabled:hover {\n",
              "    background-color: var(--disabled-bg-color);\n",
              "    fill: var(--disabled-fill-color);\n",
              "    box-shadow: none;\n",
              "  }\n",
              "\n",
              "  .colab-df-spinner {\n",
              "    border: 2px solid var(--fill-color);\n",
              "    border-color: transparent;\n",
              "    border-bottom-color: var(--fill-color);\n",
              "    animation:\n",
              "      spin 1s steps(1) infinite;\n",
              "  }\n",
              "\n",
              "  @keyframes spin {\n",
              "    0% {\n",
              "      border-color: transparent;\n",
              "      border-bottom-color: var(--fill-color);\n",
              "      border-left-color: var(--fill-color);\n",
              "    }\n",
              "    20% {\n",
              "      border-color: transparent;\n",
              "      border-left-color: var(--fill-color);\n",
              "      border-top-color: var(--fill-color);\n",
              "    }\n",
              "    30% {\n",
              "      border-color: transparent;\n",
              "      border-left-color: var(--fill-color);\n",
              "      border-top-color: var(--fill-color);\n",
              "      border-right-color: var(--fill-color);\n",
              "    }\n",
              "    40% {\n",
              "      border-color: transparent;\n",
              "      border-right-color: var(--fill-color);\n",
              "      border-top-color: var(--fill-color);\n",
              "    }\n",
              "    60% {\n",
              "      border-color: transparent;\n",
              "      border-right-color: var(--fill-color);\n",
              "    }\n",
              "    80% {\n",
              "      border-color: transparent;\n",
              "      border-right-color: var(--fill-color);\n",
              "      border-bottom-color: var(--fill-color);\n",
              "    }\n",
              "    90% {\n",
              "      border-color: transparent;\n",
              "      border-bottom-color: var(--fill-color);\n",
              "    }\n",
              "  }\n",
              "</style>\n",
              "\n",
              "  <script>\n",
              "    async function quickchart(key) {\n",
              "      const quickchartButtonEl =\n",
              "        document.querySelector('#' + key + ' button');\n",
              "      quickchartButtonEl.disabled = true;  // To prevent multiple clicks.\n",
              "      quickchartButtonEl.classList.add('colab-df-spinner');\n",
              "      try {\n",
              "        const charts = await google.colab.kernel.invokeFunction(\n",
              "            'suggestCharts', [key], {});\n",
              "      } catch (error) {\n",
              "        console.error('Error during call to suggestCharts:', error);\n",
              "      }\n",
              "      quickchartButtonEl.classList.remove('colab-df-spinner');\n",
              "      quickchartButtonEl.classList.add('colab-df-quickchart-complete');\n",
              "    }\n",
              "    (() => {\n",
              "      let quickchartButtonEl =\n",
              "        document.querySelector('#df-606c41d8-9d66-44fe-8253-17f5f3ac3729 button');\n",
              "      quickchartButtonEl.style.display =\n",
              "        google.colab.kernel.accessAllowed ? 'block' : 'none';\n",
              "    })();\n",
              "  </script>\n",
              "</div>\n",
              "    </div>\n",
              "  </div>\n"
            ],
            "text/plain": [
              "                                              review  \\\n",
              "0  На сайте МГУПП выложили еще три образовательны...   \n",
              "1  Всем привет! Отзыв о РУДН может быть либо обье...   \n",
              "2  Отличный институт,старшая ходила в ,, Ступеньк...   \n",
              "3  Ректор РНИМУ (он биохимик) первым делом разогн...   \n",
              "4  Если есть возможность, то стоит, вуз хорошо ко...   \n",
              "\n",
              "                                      review_snippet  category  \n",
              "0  МГУПП, \"Я тебя замучаю любовью могучею, Жаркою...         3  \n",
              "1  Он читает на бакалавриате курс «спортивная жур...         4  \n",
              "2                                       ны приемлемы         5  \n",
              "3  Ректор РНИМУ (он биохимик) первым делом разогн...         0  \n",
              "4  Если есть возможность, то стоит, вуз хорошо ко...         1  "
            ]
          },
          "execution_count": 121,
          "metadata": {},
          "output_type": "execute_result"
        }
      ],
      "source": [
        "df.head()"
      ]
    },
    {
      "cell_type": "code",
      "execution_count": 122,
      "metadata": {
        "id": "ttbizLQLSnTc"
      },
      "outputs": [],
      "source": [
        "# Get the lists of sentences and their labels.\n",
        "texts = df[text_column].astype(str).values\n",
        "labels = df[label_column].values.astype(int)"
      ]
    },
    {
      "cell_type": "code",
      "execution_count": 123,
      "metadata": {
        "colab": {
          "base_uri": "https://localhost:8080/"
        },
        "id": "g-svVqbVSnTc",
        "outputId": "7789bdcc-dca1-4409-8977-414ac5e34a82"
      },
      "outputs": [
        {
          "data": {
            "text/plain": [
              "(array(['МГУПП, \"Я тебя замучаю любовью могучею, Жаркою, опасною и разнообразною!\" (С)',\n",
              "        'Он читает на бакалавриате курс «спортивная журналистика» (еще он читает какие-то предметы в магистратуре, но точно не могу сказать, потому что с ребятами с магистратуры мы практически не пересекаемся)',\n",
              "        'ны приемлемы'], dtype=object),\n",
              " array([3, 4, 5]))"
            ]
          },
          "execution_count": 123,
          "metadata": {},
          "output_type": "execute_result"
        }
      ],
      "source": [
        "texts[:3], labels[:3]"
      ]
    },
    {
      "cell_type": "code",
      "execution_count": 124,
      "metadata": {
        "colab": {
          "base_uri": "https://localhost:8080/"
        },
        "id": "HGTHCe-1EmkN",
        "outputId": "fb1d2f9a-0d86-4d6c-eadb-06f2c241340d"
      },
      "outputs": [
        {
          "data": {
            "text/plain": [
              "6"
            ]
          },
          "execution_count": 124,
          "metadata": {},
          "output_type": "execute_result"
        }
      ],
      "source": [
        "classes_amount = len(df[label_column].unique())\n",
        "classes_amount"
      ]
    },
    {
      "cell_type": "markdown",
      "metadata": {
        "id": "akr1js7ISnTd"
      },
      "source": [
        "# 3. Токенизация & Форматирование Input\n",
        "\n",
        "В данной секции преобразуем данные к формату, с которым работает BERT."
      ]
    },
    {
      "cell_type": "markdown",
      "metadata": {
        "id": "pVoGkHTQSnTd"
      },
      "source": [
        "## 3.1. BERT Tokenizer"
      ]
    },
    {
      "cell_type": "markdown",
      "metadata": {
        "id": "J16asS-9V9T-"
      },
      "source": [
        "В ходе работы будем использовать предобученную модель архтектуры BERT на русском языке: cointegrated/rubert-tiny2"
      ]
    },
    {
      "cell_type": "code",
      "execution_count": 125,
      "metadata": {
        "id": "aTURn5PTV9T_"
      },
      "outputs": [],
      "source": [
        "model_name = 'cointegrated/rubert-tiny2'\n",
        "batch_size = 32\n",
        "random_state = 42"
      ]
    },
    {
      "cell_type": "code",
      "execution_count": 126,
      "metadata": {
        "colab": {
          "base_uri": "https://localhost:8080/"
        },
        "id": "OGJmBNuqSnTd",
        "outputId": "ef0ed2fc-765b-4fb9-d118-36ed9c78294f"
      },
      "outputs": [
        {
          "name": "stdout",
          "output_type": "stream",
          "text": [
            "Loading cointegrated/rubert-tiny2 tokenizer...\n"
          ]
        }
      ],
      "source": [
        "# Load the BERT tokenizer.\n",
        "print(f'Loading {model_name} tokenizer...')\n",
        "tokenizer = BertTokenizer.from_pretrained(model_name)"
      ]
    },
    {
      "cell_type": "markdown",
      "metadata": {
        "id": "ywqHXBlcSnTd"
      },
      "source": [
        "Применим токенайзер к одному из наших текстов и посмотрим, что получится.\n"
      ]
    },
    {
      "cell_type": "code",
      "execution_count": 127,
      "metadata": {
        "colab": {
          "base_uri": "https://localhost:8080/"
        },
        "id": "hFbDUBaXSnTd",
        "outputId": "a185a85c-6f4e-4c51-e4dc-79c6be418e3a"
      },
      "outputs": [
        {
          "name": "stdout",
          "output_type": "stream",
          "text": [
            "Original:  МГУПП, \"Я тебя замучаю любовью могучею, Жаркою, опасною и разнообразною!\" (С)\n",
            "Tokenized:  ['МГУ', '##ПП', ',', '\"', 'Я', 'тебя', 'заму', '##чаю', 'любовью', 'могу', '##че', '##ю', ',', 'Жар', '##кою', ',', 'опасно', '##ю', 'и', 'разнообраз', '##ною', '!', '\"', '(', 'С', ')']\n",
            "Token IDs:  [2, 21737, 36341, 16, 6, 311, 29852, 51459, 42177, 37044, 11677, 2847, 920, 16, 60919, 5636, 16, 41223, 920, 320, 30679, 5559, 5, 6, 12, 297, 13, 3]\n"
          ]
        }
      ],
      "source": [
        "# Print the original sentence.\n",
        "print('Original: ', texts[0])\n",
        "\n",
        "# Print the sentence split into tokens.\n",
        "print('Tokenized: ', tokenizer.tokenize(texts[0]))\n",
        "\n",
        "# Print the sentence mapped to token ids.\n",
        "print('Token IDs: ', tokenizer.encode(texts[0]))"
      ]
    },
    {
      "cell_type": "markdown",
      "metadata": {
        "id": "KEaJR9gQSnTe"
      },
      "source": [
        "## 3.2. Токенизация данных"
      ]
    },
    {
      "cell_type": "markdown",
      "metadata": {
        "id": "hZGuiz6FSnTe"
      },
      "source": [
        "Перед тем, как закодировать текст, найдем максимальную длину текстов.\n",
        "\n",
        "\n",
        "В ячейке ниже происходит проход по датасету для определения максимальной длины."
      ]
    },
    {
      "cell_type": "code",
      "execution_count": 128,
      "metadata": {
        "colab": {
          "base_uri": "https://localhost:8080/"
        },
        "id": "BBzLHWY3SnTe",
        "outputId": "9ca5b8cc-0189-4438-b1c0-147dfd4dad1d"
      },
      "outputs": [
        {
          "name": "stderr",
          "output_type": "stream",
          "text": [
            "Token indices sequence length is longer than the specified maximum sequence length for this model (6112 > 2048). Running this sequence through the model will result in indexing errors\n"
          ]
        },
        {
          "name": "stdout",
          "output_type": "stream",
          "text": [
            "Max sentence length:  6112\n"
          ]
        }
      ],
      "source": [
        "max_length = 0\n",
        "text_lens = []\n",
        "\n",
        "for text in texts:\n",
        "  input_ids = tokenizer.encode(text, add_special_tokens=True)\n",
        "  current_len = len(input_ids)\n",
        "  text_lens.append(current_len)\n",
        "\n",
        "text_lens = np.array(text_lens)\n",
        "max_length = text_lens.max()\n",
        "print('Max sentence length: ', max_length)"
      ]
    },
    {
      "cell_type": "code",
      "execution_count": 129,
      "metadata": {
        "colab": {
          "base_uri": "https://localhost:8080/"
        },
        "id": "J8VvELhdH9zH",
        "outputId": "b95b7404-b38c-48ae-dd76-707e1f414552"
      },
      "outputs": [
        {
          "name": "stdout",
          "output_type": "stream",
          "text": [
            "Mean: 25.048702747497927\n",
            "Median: 20.0\n",
            "Variance: 4761.615810043571\n",
            "Standard deviation: 69.00446224733275\n",
            "Q1 = 13.0, Q3 = 30.0\n"
          ]
        }
      ],
      "source": [
        "# 1. Mean\n",
        "mean = text_lens.mean()\n",
        "\n",
        "# 2. Variance\n",
        "variance = text_lens.var()\n",
        "\n",
        "# 3. Standard deviation\n",
        "std = text_lens.std()\n",
        "\n",
        "# 4. Quartiles\n",
        "Q1 = np.percentile(text_lens, 25)\n",
        "Q2 = np.percentile(text_lens, 50)\n",
        "Q3 = np.percentile(text_lens, 75)\n",
        "\n",
        "# Print results\n",
        "print(\"Mean:\", mean)\n",
        "print(\"Median:\", Q2)\n",
        "print(\"Variance:\", variance)\n",
        "print(\"Standard deviation:\", std)\n",
        "print(f\"Q1 = {Q1}, Q3 = {Q3}\")\n"
      ]
    },
    {
      "cell_type": "markdown",
      "metadata": {
        "id": "yRIwvzlJJ1VB"
      },
      "source": [
        "За длину возьмем 3 квартиль"
      ]
    },
    {
      "cell_type": "code",
      "execution_count": 130,
      "metadata": {
        "id": "_br3oQUrJ2ph"
      },
      "outputs": [],
      "source": [
        "max_length = int(Q3)"
      ]
    },
    {
      "cell_type": "markdown",
      "metadata": {
        "id": "L3CgL2axV9UA"
      },
      "source": [
        "Формируем токенизированные множества."
      ]
    },
    {
      "cell_type": "code",
      "execution_count": 131,
      "metadata": {
        "id": "8Ax1rHejSnTe"
      },
      "outputs": [],
      "source": [
        "# Tokenize all of the sentences and map the tokens to thier word IDs.\n",
        "def preparing_text_and_labels(texts, labels, max_length, truncation=False):\n",
        "    input_ids = []\n",
        "    attention_masks = []\n",
        "\n",
        "    for text in texts:\n",
        "\n",
        "        encoded_dict = tokenizer.encode_plus(\n",
        "                            text,\n",
        "                            add_special_tokens = True,\n",
        "                            max_length = max_length,\n",
        "                            padding='max_length',\n",
        "                            return_attention_mask = True,\n",
        "                            return_tensors = 'pt',\n",
        "                            truncation=truncation\n",
        "                    )\n",
        "\n",
        "        # Add the encoded sentence to the list.\n",
        "        input_ids.append(encoded_dict['input_ids'])\n",
        "\n",
        "        # And its attention mask (simply differentiates padding from non-padding).\n",
        "        attention_masks.append(encoded_dict['attention_mask'])\n",
        "\n",
        "    # Convert the lists into tensors.\n",
        "    input_ids = torch.cat(input_ids, dim=0)\n",
        "    attention_masks = torch.cat(attention_masks, dim=0)\n",
        "    labels = torch.tensor(labels)\n",
        "    return input_ids, attention_masks, labels\n"
      ]
    },
    {
      "cell_type": "code",
      "execution_count": 132,
      "metadata": {
        "colab": {
          "base_uri": "https://localhost:8080/"
        },
        "id": "fA-dIvevGJEi",
        "outputId": "e7bd0a98-1ae2-47e2-846b-027beb1136b5"
      },
      "outputs": [
        {
          "name": "stdout",
          "output_type": "stream",
          "text": [
            "Original:  МГУПП, \"Я тебя замучаю любовью могучею, Жаркою, опасною и разнообразною!\" (С)\n",
            "Token IDs: tensor([    2, 21737, 36341,    16,     6,   311, 29852, 51459, 42177, 37044,\n",
            "        11677,  2847,   920,    16, 60919,  5636,    16, 41223,   920,   320,\n",
            "        30679,  5559,     5,     6,    12,   297,    13,     3,     0,     0])\n"
          ]
        }
      ],
      "source": [
        "input_ids, attention_masks, labels = preparing_text_and_labels(texts, labels, max_length=max_length, truncation=True)\n",
        "\n",
        "print('Original: ', texts[0])\n",
        "print('Token IDs:', input_ids[0])"
      ]
    },
    {
      "cell_type": "markdown",
      "metadata": {
        "id": "RVqnJHDQSnTe"
      },
      "source": [
        "## 3.3. Training & Validation Split\n"
      ]
    },
    {
      "cell_type": "markdown",
      "metadata": {
        "id": "NYb-dJTISnTf"
      },
      "source": [
        "Разделим данные на train и val в пропорции  90% к 10%."
      ]
    },
    {
      "cell_type": "code",
      "execution_count": 133,
      "metadata": {
        "id": "Wze-EPSNlYiI"
      },
      "outputs": [],
      "source": [
        "train_part = 0.9"
      ]
    },
    {
      "cell_type": "code",
      "execution_count": 134,
      "metadata": {
        "colab": {
          "base_uri": "https://localhost:8080/"
        },
        "id": "xO-LOp_TSnTf",
        "outputId": "e2f7466f-4443-440a-a1fa-3ba51f623a48"
      },
      "outputs": [
        {
          "name": "stdout",
          "output_type": "stream",
          "text": [
            "268,247 training samples\n",
            "29,806 validation samples\n"
          ]
        }
      ],
      "source": [
        "# Combine the training inputs into a TensorDataset.\n",
        "dataset = TensorDataset(input_ids, attention_masks, labels)\n",
        "\n",
        "# Calculate the number of samples to include in each set.\n",
        "train_size = int(train_part * len(dataset))\n",
        "val_size = len(dataset) - train_size\n",
        "\n",
        "# Divide the dataset by randomly selecting samples.\n",
        "train_dataset, val_dataset = random_split(dataset, [train_size, val_size])\n",
        "\n",
        "print('{:>5,} training samples'.format(train_size))\n",
        "print('{:>5,} validation samples'.format(val_size))"
      ]
    },
    {
      "cell_type": "markdown",
      "metadata": {
        "id": "NNEVklJXSnTf"
      },
      "source": [
        "Также создадим итератор с использование класса  DataLoader из библиотеки torch."
      ]
    },
    {
      "cell_type": "code",
      "execution_count": 135,
      "metadata": {
        "id": "spvbsm6gSnTf"
      },
      "outputs": [],
      "source": [
        "train_dataloader = DataLoader(\n",
        "            train_dataset,\n",
        "            sampler = RandomSampler(train_dataset), # Select batches randomly\n",
        "            batch_size = batch_size\n",
        "        )\n",
        "\n",
        "validation_dataloader = DataLoader(\n",
        "            val_dataset,\n",
        "            sampler = SequentialSampler(val_dataset), # Pull out batches sequentially.\n",
        "            batch_size = batch_size\n",
        "        )"
      ]
    },
    {
      "cell_type": "markdown",
      "metadata": {
        "id": "mmFWHgOtSnTf"
      },
      "source": [
        "Теперь, когда данные отформатированы, можем обучить модель."
      ]
    },
    {
      "cell_type": "markdown",
      "metadata": {
        "id": "LcRB2SvUSnTf"
      },
      "source": [
        "## 4.1. BertForSequenceClassification"
      ]
    },
    {
      "cell_type": "code",
      "execution_count": 136,
      "metadata": {
        "colab": {
          "base_uri": "https://localhost:8080/"
        },
        "id": "rQwHDwCQSnTf",
        "outputId": "cbb61ff0-b058-49ed-fc1b-444729c91c03"
      },
      "outputs": [
        {
          "name": "stderr",
          "output_type": "stream",
          "text": [
            "Some weights of BertForSequenceClassification were not initialized from the model checkpoint at cointegrated/rubert-tiny2 and are newly initialized: ['classifier.bias', 'classifier.weight']\n",
            "You should probably TRAIN this model on a down-stream task to be able to use it for predictions and inference.\n"
          ]
        },
        {
          "data": {
            "text/plain": [
              "BertForSequenceClassification(\n",
              "  (bert): BertModel(\n",
              "    (embeddings): BertEmbeddings(\n",
              "      (word_embeddings): Embedding(83828, 312, padding_idx=0)\n",
              "      (position_embeddings): Embedding(2048, 312)\n",
              "      (token_type_embeddings): Embedding(2, 312)\n",
              "      (LayerNorm): LayerNorm((312,), eps=1e-12, elementwise_affine=True)\n",
              "      (dropout): Dropout(p=0.1, inplace=False)\n",
              "    )\n",
              "    (encoder): BertEncoder(\n",
              "      (layer): ModuleList(\n",
              "        (0-2): 3 x BertLayer(\n",
              "          (attention): BertAttention(\n",
              "            (self): BertSdpaSelfAttention(\n",
              "              (query): Linear(in_features=312, out_features=312, bias=True)\n",
              "              (key): Linear(in_features=312, out_features=312, bias=True)\n",
              "              (value): Linear(in_features=312, out_features=312, bias=True)\n",
              "              (dropout): Dropout(p=0.1, inplace=False)\n",
              "            )\n",
              "            (output): BertSelfOutput(\n",
              "              (dense): Linear(in_features=312, out_features=312, bias=True)\n",
              "              (LayerNorm): LayerNorm((312,), eps=1e-12, elementwise_affine=True)\n",
              "              (dropout): Dropout(p=0.1, inplace=False)\n",
              "            )\n",
              "          )\n",
              "          (intermediate): BertIntermediate(\n",
              "            (dense): Linear(in_features=312, out_features=600, bias=True)\n",
              "            (intermediate_act_fn): GELUActivation()\n",
              "          )\n",
              "          (output): BertOutput(\n",
              "            (dense): Linear(in_features=600, out_features=312, bias=True)\n",
              "            (LayerNorm): LayerNorm((312,), eps=1e-12, elementwise_affine=True)\n",
              "            (dropout): Dropout(p=0.1, inplace=False)\n",
              "          )\n",
              "        )\n",
              "      )\n",
              "    )\n",
              "    (pooler): BertPooler(\n",
              "      (dense): Linear(in_features=312, out_features=312, bias=True)\n",
              "      (activation): Tanh()\n",
              "    )\n",
              "  )\n",
              "  (dropout): Dropout(p=0.1, inplace=False)\n",
              "  (classifier): Linear(in_features=312, out_features=6, bias=True)\n",
              ")"
            ]
          },
          "execution_count": 136,
          "metadata": {},
          "output_type": "execute_result"
        }
      ],
      "source": [
        "model = BertForSequenceClassification.from_pretrained(\n",
        "    model_name,\n",
        "    num_labels = classes_amount, # The number of output labels--2 for binary classification.\n",
        "    output_attentions = False, # Whether the model returns attentions weights.\n",
        "    output_hidden_states = False, # Whether the model returns all hidden-states.\n",
        ")\n",
        "\n",
        "# Using GPU.\n",
        "model.cuda()"
      ]
    },
    {
      "cell_type": "markdown",
      "metadata": {
        "id": "RPBAOS4mSnTg"
      },
      "source": [
        "Ради интереса выведем на печать параметры для нескольких слоев:\n",
        "\n",
        "\n",
        "1. The embedding layer.\n",
        "2. Первый из 12 ти трансформеров.\n",
        "3. The output layer.\n",
        "\n",
        "\n"
      ]
    },
    {
      "cell_type": "code",
      "execution_count": 137,
      "metadata": {
        "colab": {
          "base_uri": "https://localhost:8080/"
        },
        "id": "vSMLeM8GSnTg",
        "outputId": "fb99318d-9c90-42ca-c242-e31fe7d39b67"
      },
      "outputs": [
        {
          "name": "stdout",
          "output_type": "stream",
          "text": [
            "The BERT model has 57 different named parameters.\n",
            "\n",
            "==== Embedding Layer ====\n",
            "\n",
            "bert.embeddings.word_embeddings.weight                  (83828, 312)\n",
            "bert.embeddings.position_embeddings.weight               (2048, 312)\n",
            "bert.embeddings.token_type_embeddings.weight                (2, 312)\n",
            "bert.embeddings.LayerNorm.weight                              (312,)\n",
            "bert.embeddings.LayerNorm.bias                                (312,)\n",
            "\n",
            "==== First Transformer ====\n",
            "\n",
            "bert.encoder.layer.0.attention.self.query.weight          (312, 312)\n",
            "bert.encoder.layer.0.attention.self.query.bias                (312,)\n",
            "bert.encoder.layer.0.attention.self.key.weight            (312, 312)\n",
            "bert.encoder.layer.0.attention.self.key.bias                  (312,)\n",
            "bert.encoder.layer.0.attention.self.value.weight          (312, 312)\n",
            "bert.encoder.layer.0.attention.self.value.bias                (312,)\n",
            "bert.encoder.layer.0.attention.output.dense.weight        (312, 312)\n",
            "bert.encoder.layer.0.attention.output.dense.bias              (312,)\n",
            "bert.encoder.layer.0.attention.output.LayerNorm.weight        (312,)\n",
            "bert.encoder.layer.0.attention.output.LayerNorm.bias          (312,)\n",
            "bert.encoder.layer.0.intermediate.dense.weight            (600, 312)\n",
            "bert.encoder.layer.0.intermediate.dense.bias                  (600,)\n",
            "bert.encoder.layer.0.output.dense.weight                  (312, 600)\n",
            "bert.encoder.layer.0.output.dense.bias                        (312,)\n",
            "bert.encoder.layer.0.output.LayerNorm.weight                  (312,)\n",
            "bert.encoder.layer.0.output.LayerNorm.bias                    (312,)\n",
            "\n",
            "==== Output Layer ====\n",
            "\n",
            "bert.pooler.dense.weight                                  (312, 312)\n",
            "bert.pooler.dense.bias                                        (312,)\n",
            "classifier.weight                                           (6, 312)\n",
            "classifier.bias                                                 (6,)\n"
          ]
        }
      ],
      "source": [
        "# Get all of the model's parameters as a list of tuples.\n",
        "params = list(model.named_parameters())\n",
        "\n",
        "print('The BERT model has {:} different named parameters.\\n'.format(len(params)))\n",
        "\n",
        "print('==== Embedding Layer ====\\n')\n",
        "\n",
        "for p in params[0:5]:\n",
        "    print(\"{:<55} {:>12}\".format(p[0], str(tuple(p[1].size()))))\n",
        "\n",
        "print('\\n==== First Transformer ====\\n')\n",
        "\n",
        "for p in params[5:21]:\n",
        "    print(\"{:<55} {:>12}\".format(p[0], str(tuple(p[1].size()))))\n",
        "\n",
        "print('\\n==== Output Layer ====\\n')\n",
        "\n",
        "for p in params[-4:]:\n",
        "    print(\"{:<55} {:>12}\".format(p[0], str(tuple(p[1].size()))))"
      ]
    },
    {
      "cell_type": "markdown",
      "metadata": {
        "id": "W-j-lqd5SnTg"
      },
      "source": [
        "## 4.2. Optimizer & Learning Rate Scheduler"
      ]
    },
    {
      "cell_type": "markdown",
      "metadata": {
        "id": "EyGINRSTSnTg"
      },
      "source": [
        "Определим optimizer и sheduler.\n",
        "\n",
        "Наиболее популярные конфигурации параметров:\n",
        "- **Batch size:** 16, 32  \n",
        "- **Learning rate (Adam):** 5e-5, 3e-5, 2e-5  \n",
        "- **Number of epochs:** 2, 3, 4\n",
        "\n",
        "Мы выберем:\n",
        "* Batch size: 32 (при инициализации DataLoaders)\n",
        "* Learning rate: 2e-5\n",
        "* Epochs: 4\n",
        "\n",
        "Параметр эпсилон `eps = 1e-8` - это \"очень маленькое число\", которое позволяет избежать деления на 0"
      ]
    },
    {
      "cell_type": "code",
      "execution_count": 138,
      "metadata": {
        "colab": {
          "base_uri": "https://localhost:8080/"
        },
        "id": "t4XXSuFsSnTg",
        "outputId": "cd536fb5-e85b-4380-f041-c16234967999"
      },
      "outputs": [
        {
          "name": "stderr",
          "output_type": "stream",
          "text": [
            "/usr/local/lib/python3.10/dist-packages/transformers/optimization.py:591: FutureWarning: This implementation of AdamW is deprecated and will be removed in a future version. Use the PyTorch implementation torch.optim.AdamW instead, or set `no_deprecation_warning=True` to disable this warning\n",
            "  warnings.warn(\n"
          ]
        }
      ],
      "source": [
        "optimizer = AdamW(model.parameters(),\n",
        "                  lr = 2e-5,\n",
        "                  eps = 1e-8\n",
        "                )\n"
      ]
    },
    {
      "cell_type": "code",
      "execution_count": 139,
      "metadata": {
        "id": "LpBjJUA3SnTg"
      },
      "outputs": [],
      "source": [
        "epochs = 4\n",
        "\n",
        "total_steps = len(train_dataloader) * epochs\n",
        "\n",
        "# Create the learning rate scheduler.\n",
        "scheduler = get_linear_schedule_with_warmup(optimizer,\n",
        "                                            num_warmup_steps = 0, # Default value in run_glue.py\n",
        "                                            num_training_steps = total_steps)"
      ]
    },
    {
      "cell_type": "markdown",
      "metadata": {
        "id": "yh10q9zPSnTg"
      },
      "source": [
        "## 4.3. Training Loop"
      ]
    },
    {
      "cell_type": "markdown",
      "metadata": {
        "id": "yF5WT5KpSnTh"
      },
      "source": [
        "Ниже приведена петля обучения (training loop). На каждом проходе по данным мы проходим по всему обучающему и валидационную датасетам.\n",
        "\n",
        "\n",
        "**Training:**\n",
        "- Распаковать обучающие данные и лейблы\n",
        "- Загрузить данные на GPU для ускорения\n",
        "- Занулить градиенты с предыдущего шаге\n",
        "- Forward pass (скормить данные в нейросеть и пробросить их вперед)\n",
        "- Backward pass (backpropagation - посчитать градиенты по всем параметрам с помощью обратного распространения ошибки)\n",
        "- Обновить параметры с помощью optimizer.step()\n",
        "- Посчитать статистики, чтобы следить за обучением\n",
        "\n",
        "**Evalution:**\n",
        "- Распаковать валидационные данные и лейблы\n",
        "- Загрузить данные на GPU для ускорения\n",
        "- Forward pass (скормить данные в нейросеть и пробросить их вперед)\n",
        "- Посчитать loss и статистики на валидационных данных, чтобы следить за обучением"
      ]
    },
    {
      "cell_type": "markdown",
      "metadata": {
        "id": "tiAAPIoSV9UC"
      },
      "source": [
        "##"
      ]
    },
    {
      "cell_type": "markdown",
      "metadata": {
        "id": "Xk3jZ2tWV9UC"
      },
      "source": [
        "Вспомогательная функция для вычисления F1."
      ]
    },
    {
      "cell_type": "code",
      "execution_count": 140,
      "metadata": {
        "id": "qTTN7kRDSnTh"
      },
      "outputs": [],
      "source": [
        "# Function to calculate the f1 of our predictions vs labels\n",
        "def flat_f1(preds, labels, average):\n",
        "    pred_flat = np.argmax(preds, axis=1).flatten()\n",
        "    labels_flat = labels.flatten()\n",
        "    return f1_score(pred_flat, labels_flat, average=average)"
      ]
    },
    {
      "cell_type": "markdown",
      "metadata": {
        "id": "Z2VuoVBgSnTh"
      },
      "source": [
        "Вспомогательная функция для отслеживания затраченного времени.\n"
      ]
    },
    {
      "cell_type": "code",
      "execution_count": 141,
      "metadata": {
        "id": "59zG0Q3oSnTh"
      },
      "outputs": [],
      "source": [
        "def format_time(elapsed):\n",
        "    '''\n",
        "    Takes a time in seconds and returns a string hh:mm:ss\n",
        "    '''\n",
        "    # Round to the nearest second.\n",
        "    elapsed_rounded = int(round((elapsed)))\n",
        "\n",
        "    # Format as hh:mm:ss\n",
        "    return str(datetime.timedelta(seconds=elapsed_rounded))\n"
      ]
    },
    {
      "cell_type": "markdown",
      "metadata": {
        "id": "-_TqzTA3SnTh"
      },
      "source": [
        "Все готово к обучению! Приступим!"
      ]
    },
    {
      "cell_type": "code",
      "execution_count": 142,
      "metadata": {
        "id": "seM4FhvNSnTh"
      },
      "outputs": [],
      "source": [
        "def fine_tune_model(train_dataloader, validation_dataloader,  average, random_state=random_state):\n",
        "\n",
        "    random.seed(random_state)\n",
        "    np.random.seed(random_state)\n",
        "    torch.manual_seed(random_state)\n",
        "    torch.cuda.manual_seed_all(random_state)\n",
        "\n",
        "    training_stats = []\n",
        "\n",
        "    # Measure the total training time for the whole run.\n",
        "    total_t0 = time.time()\n",
        "\n",
        "    # For each epoch...\n",
        "    for epoch_i in range(0, epochs):\n",
        "\n",
        "        print(\"\")\n",
        "        print('======== Epoch {:} / {:} ========'.format(epoch_i + 1, epochs))\n",
        "        print('Training...')\n",
        "\n",
        "        # Measure how long the training epoch takes.\n",
        "        t0 = time.time()\n",
        "\n",
        "        # Reset the total loss for this epoch.\n",
        "        total_train_loss = 0\n",
        "\n",
        "        model.train()\n",
        "\n",
        "        # For each batch of training data...\n",
        "        for step, batch in enumerate(train_dataloader):\n",
        "\n",
        "            # Progress update every 40 batches.\n",
        "            if step % 40 == 0 and not step == 0:\n",
        "                # Calculate elapsed time in minutes.\n",
        "                elapsed = format_time(time.time() - t0)\n",
        "\n",
        "                # Report progress.\n",
        "                print('  Batch {:>5,}  of  {:>5,}.    Elapsed: {:}.'.format(step, len(train_dataloader), elapsed))\n",
        "\n",
        "            b_input_ids = batch[0].to(device)\n",
        "            b_input_mask = batch[1].to(device)\n",
        "            b_labels = batch[2].to(device)\n",
        "\n",
        "            model.zero_grad()\n",
        "\n",
        "            res = model(b_input_ids,\n",
        "                                token_type_ids=None,\n",
        "                                attention_mask=b_input_mask,\n",
        "                                labels=b_labels)\n",
        "            loss = res['loss']\n",
        "            logits = res['logits']\n",
        "\n",
        "            total_train_loss += loss.item()\n",
        "\n",
        "            # Perform a backward pass to calculate the gradients.\n",
        "            loss.backward()\n",
        "\n",
        "            # This is to help prevent the \"exploding gradients\" problem.\n",
        "            torch.nn.utils.clip_grad_norm_(model.parameters(), 1.0)\n",
        "\n",
        "            optimizer.step()\n",
        "\n",
        "            # Update the learning rate.\n",
        "            scheduler.step()\n",
        "\n",
        "        # Calculate the average loss over all of the batches.\n",
        "        avg_train_loss = total_train_loss / len(train_dataloader)\n",
        "\n",
        "        # Measure how long this epoch took.\n",
        "        training_time = format_time(time.time() - t0)\n",
        "\n",
        "        print(\"\")\n",
        "        print(\"  Average training loss: {0:.2f}\".format(avg_train_loss))\n",
        "        print(\"  Training epcoh took: {:}\".format(training_time))\n",
        "\n",
        "        # Validation\n",
        "        print(\"\")\n",
        "        print(\"Running Validation...\")\n",
        "\n",
        "        t0 = time.time()\n",
        "\n",
        "        # Put the model in evaluation mode--the dropout layers behave differently\n",
        "        # during evaluation.\n",
        "        model.eval()\n",
        "\n",
        "        # Tracking variables\n",
        "        total_eval_f1 = 0\n",
        "        total_eval_loss = 0\n",
        "        nb_eval_steps = 0\n",
        "\n",
        "        # Evaluate data for one epoch\n",
        "        for batch in validation_dataloader:\n",
        "\n",
        "            b_input_ids = batch[0].to(device)\n",
        "            b_input_mask = batch[1].to(device)\n",
        "            b_labels = batch[2].to(device)\n",
        "\n",
        "            with torch.no_grad():\n",
        "\n",
        "                res = model(b_input_ids,\n",
        "                                    token_type_ids=None,\n",
        "                                    attention_mask=b_input_mask,\n",
        "                                    labels=b_labels)\n",
        "                loss = res['loss']\n",
        "                logits = res['logits']\n",
        "\n",
        "            # Accumulate the validation loss.\n",
        "            total_eval_loss += loss.item()\n",
        "\n",
        "            # Move logits and labels to CPU\n",
        "            logits = logits.detach().cpu().numpy()\n",
        "            label_ids = b_labels.to('cpu').numpy()\n",
        "\n",
        "            # Calculate the accuracy for this batch of test sentences, and\n",
        "            # accumulate it over all batches.\n",
        "            total_eval_f1 += flat_f1(logits, label_ids, average)\n",
        "\n",
        "\n",
        "        # Report the final accuracy for this validation run.\n",
        "        avg_val_f1 = total_eval_f1 / len(validation_dataloader)\n",
        "        print(\"  F1: {0:.2f}\".format(avg_val_f1))\n",
        "\n",
        "        # Calculate the average loss over all of the batches.\n",
        "        avg_val_loss = total_eval_loss / len(validation_dataloader)\n",
        "\n",
        "        # Measure how long the validation run took.\n",
        "        validation_time = format_time(time.time() - t0)\n",
        "\n",
        "        print(\"  Validation Loss: {0:.2f}\".format(avg_val_loss))\n",
        "        print(\"  Validation took: {:}\".format(validation_time))\n",
        "\n",
        "        # Record all statistics from this epoch.\n",
        "        training_stats.append(\n",
        "            {\n",
        "                'epoch': epoch_i + 1,\n",
        "                'Training Loss': avg_train_loss,\n",
        "                'Valid. Loss': avg_val_loss,\n",
        "                'Valid. F1.': avg_val_f1,\n",
        "                'Training Time': training_time,\n",
        "                'Validation Time': validation_time\n",
        "            }\n",
        "        )\n",
        "\n",
        "    print(\"\")\n",
        "\n",
        "    print(\"Training complete!\")\n",
        "\n",
        "    print(\"Total training took {:} (h:mm:ss)\".format(format_time(time.time()-total_t0)))\n",
        "    return training_stats"
      ]
    },
    {
      "cell_type": "code",
      "execution_count": 143,
      "metadata": {
        "colab": {
          "base_uri": "https://localhost:8080/"
        },
        "id": "fr4TzqxrGJEq",
        "outputId": "7327062f-adb6-4943-ee21-5f0b5f3751bc"
      },
      "outputs": [
        {
          "name": "stdout",
          "output_type": "stream",
          "text": [
            "\n",
            "======== Epoch 1 / 4 ========\n",
            "Training...\n",
            "  Batch    40  of  8,383.    Elapsed: 0:00:01.\n",
            "  Batch    80  of  8,383.    Elapsed: 0:00:02.\n",
            "  Batch   120  of  8,383.    Elapsed: 0:00:03.\n",
            "  Batch   160  of  8,383.    Elapsed: 0:00:04.\n",
            "  Batch   200  of  8,383.    Elapsed: 0:00:05.\n",
            "  Batch   240  of  8,383.    Elapsed: 0:00:05.\n",
            "  Batch   280  of  8,383.    Elapsed: 0:00:06.\n",
            "  Batch   320  of  8,383.    Elapsed: 0:00:07.\n",
            "  Batch   360  of  8,383.    Elapsed: 0:00:08.\n",
            "  Batch   400  of  8,383.    Elapsed: 0:00:09.\n",
            "  Batch   440  of  8,383.    Elapsed: 0:00:10.\n",
            "  Batch   480  of  8,383.    Elapsed: 0:00:10.\n",
            "  Batch   520  of  8,383.    Elapsed: 0:00:11.\n",
            "  Batch   560  of  8,383.    Elapsed: 0:00:12.\n",
            "  Batch   600  of  8,383.    Elapsed: 0:00:13.\n",
            "  Batch   640  of  8,383.    Elapsed: 0:00:14.\n",
            "  Batch   680  of  8,383.    Elapsed: 0:00:15.\n",
            "  Batch   720  of  8,383.    Elapsed: 0:00:16.\n",
            "  Batch   760  of  8,383.    Elapsed: 0:00:17.\n",
            "  Batch   800  of  8,383.    Elapsed: 0:00:17.\n",
            "  Batch   840  of  8,383.    Elapsed: 0:00:18.\n",
            "  Batch   880  of  8,383.    Elapsed: 0:00:19.\n",
            "  Batch   920  of  8,383.    Elapsed: 0:00:20.\n",
            "  Batch   960  of  8,383.    Elapsed: 0:00:21.\n",
            "  Batch 1,000  of  8,383.    Elapsed: 0:00:22.\n",
            "  Batch 1,040  of  8,383.    Elapsed: 0:00:22.\n",
            "  Batch 1,080  of  8,383.    Elapsed: 0:00:23.\n",
            "  Batch 1,120  of  8,383.    Elapsed: 0:00:24.\n",
            "  Batch 1,160  of  8,383.    Elapsed: 0:00:25.\n",
            "  Batch 1,200  of  8,383.    Elapsed: 0:00:26.\n",
            "  Batch 1,240  of  8,383.    Elapsed: 0:00:27.\n",
            "  Batch 1,280  of  8,383.    Elapsed: 0:00:27.\n",
            "  Batch 1,320  of  8,383.    Elapsed: 0:00:28.\n",
            "  Batch 1,360  of  8,383.    Elapsed: 0:00:29.\n",
            "  Batch 1,400  of  8,383.    Elapsed: 0:00:30.\n",
            "  Batch 1,440  of  8,383.    Elapsed: 0:00:31.\n",
            "  Batch 1,480  of  8,383.    Elapsed: 0:00:32.\n",
            "  Batch 1,520  of  8,383.    Elapsed: 0:00:33.\n",
            "  Batch 1,560  of  8,383.    Elapsed: 0:00:34.\n",
            "  Batch 1,600  of  8,383.    Elapsed: 0:00:34.\n",
            "  Batch 1,640  of  8,383.    Elapsed: 0:00:35.\n",
            "  Batch 1,680  of  8,383.    Elapsed: 0:00:36.\n",
            "  Batch 1,720  of  8,383.    Elapsed: 0:00:37.\n",
            "  Batch 1,760  of  8,383.    Elapsed: 0:00:38.\n",
            "  Batch 1,800  of  8,383.    Elapsed: 0:00:38.\n",
            "  Batch 1,840  of  8,383.    Elapsed: 0:00:39.\n",
            "  Batch 1,880  of  8,383.    Elapsed: 0:00:40.\n",
            "  Batch 1,920  of  8,383.    Elapsed: 0:00:41.\n",
            "  Batch 1,960  of  8,383.    Elapsed: 0:00:42.\n",
            "  Batch 2,000  of  8,383.    Elapsed: 0:00:43.\n",
            "  Batch 2,040  of  8,383.    Elapsed: 0:00:44.\n",
            "  Batch 2,080  of  8,383.    Elapsed: 0:00:45.\n",
            "  Batch 2,120  of  8,383.    Elapsed: 0:00:45.\n",
            "  Batch 2,160  of  8,383.    Elapsed: 0:00:46.\n",
            "  Batch 2,200  of  8,383.    Elapsed: 0:00:47.\n",
            "  Batch 2,240  of  8,383.    Elapsed: 0:00:48.\n",
            "  Batch 2,280  of  8,383.    Elapsed: 0:00:49.\n",
            "  Batch 2,320  of  8,383.    Elapsed: 0:00:50.\n",
            "  Batch 2,360  of  8,383.    Elapsed: 0:00:50.\n",
            "  Batch 2,400  of  8,383.    Elapsed: 0:00:51.\n",
            "  Batch 2,440  of  8,383.    Elapsed: 0:00:52.\n",
            "  Batch 2,480  of  8,383.    Elapsed: 0:00:53.\n",
            "  Batch 2,520  of  8,383.    Elapsed: 0:00:54.\n",
            "  Batch 2,560  of  8,383.    Elapsed: 0:00:55.\n",
            "  Batch 2,600  of  8,383.    Elapsed: 0:00:56.\n",
            "  Batch 2,640  of  8,383.    Elapsed: 0:00:56.\n",
            "  Batch 2,680  of  8,383.    Elapsed: 0:00:57.\n",
            "  Batch 2,720  of  8,383.    Elapsed: 0:00:58.\n",
            "  Batch 2,760  of  8,383.    Elapsed: 0:00:59.\n",
            "  Batch 2,800  of  8,383.    Elapsed: 0:01:00.\n",
            "  Batch 2,840  of  8,383.    Elapsed: 0:01:01.\n",
            "  Batch 2,880  of  8,383.    Elapsed: 0:01:01.\n",
            "  Batch 2,920  of  8,383.    Elapsed: 0:01:02.\n",
            "  Batch 2,960  of  8,383.    Elapsed: 0:01:03.\n",
            "  Batch 3,000  of  8,383.    Elapsed: 0:01:04.\n",
            "  Batch 3,040  of  8,383.    Elapsed: 0:01:05.\n",
            "  Batch 3,080  of  8,383.    Elapsed: 0:01:06.\n",
            "  Batch 3,120  of  8,383.    Elapsed: 0:01:06.\n",
            "  Batch 3,160  of  8,383.    Elapsed: 0:01:07.\n",
            "  Batch 3,200  of  8,383.    Elapsed: 0:01:08.\n",
            "  Batch 3,240  of  8,383.    Elapsed: 0:01:09.\n",
            "  Batch 3,280  of  8,383.    Elapsed: 0:01:10.\n",
            "  Batch 3,320  of  8,383.    Elapsed: 0:01:11.\n",
            "  Batch 3,360  of  8,383.    Elapsed: 0:01:12.\n",
            "  Batch 3,400  of  8,383.    Elapsed: 0:01:13.\n",
            "  Batch 3,440  of  8,383.    Elapsed: 0:01:13.\n",
            "  Batch 3,480  of  8,383.    Elapsed: 0:01:14.\n",
            "  Batch 3,520  of  8,383.    Elapsed: 0:01:15.\n",
            "  Batch 3,560  of  8,383.    Elapsed: 0:01:16.\n",
            "  Batch 3,600  of  8,383.    Elapsed: 0:01:17.\n",
            "  Batch 3,640  of  8,383.    Elapsed: 0:01:18.\n",
            "  Batch 3,680  of  8,383.    Elapsed: 0:01:18.\n",
            "  Batch 3,720  of  8,383.    Elapsed: 0:01:19.\n",
            "  Batch 3,760  of  8,383.    Elapsed: 0:01:20.\n",
            "  Batch 3,800  of  8,383.    Elapsed: 0:01:21.\n",
            "  Batch 3,840  of  8,383.    Elapsed: 0:01:22.\n",
            "  Batch 3,880  of  8,383.    Elapsed: 0:01:23.\n",
            "  Batch 3,920  of  8,383.    Elapsed: 0:01:24.\n",
            "  Batch 3,960  of  8,383.    Elapsed: 0:01:25.\n",
            "  Batch 4,000  of  8,383.    Elapsed: 0:01:25.\n",
            "  Batch 4,040  of  8,383.    Elapsed: 0:01:26.\n",
            "  Batch 4,080  of  8,383.    Elapsed: 0:01:27.\n",
            "  Batch 4,120  of  8,383.    Elapsed: 0:01:28.\n",
            "  Batch 4,160  of  8,383.    Elapsed: 0:01:29.\n",
            "  Batch 4,200  of  8,383.    Elapsed: 0:01:30.\n",
            "  Batch 4,240  of  8,383.    Elapsed: 0:01:30.\n",
            "  Batch 4,280  of  8,383.    Elapsed: 0:01:31.\n",
            "  Batch 4,320  of  8,383.    Elapsed: 0:01:32.\n",
            "  Batch 4,360  of  8,383.    Elapsed: 0:01:33.\n",
            "  Batch 4,400  of  8,383.    Elapsed: 0:01:34.\n",
            "  Batch 4,440  of  8,383.    Elapsed: 0:01:34.\n",
            "  Batch 4,480  of  8,383.    Elapsed: 0:01:35.\n",
            "  Batch 4,520  of  8,383.    Elapsed: 0:01:36.\n",
            "  Batch 4,560  of  8,383.    Elapsed: 0:01:37.\n",
            "  Batch 4,600  of  8,383.    Elapsed: 0:01:38.\n",
            "  Batch 4,640  of  8,383.    Elapsed: 0:01:39.\n",
            "  Batch 4,680  of  8,383.    Elapsed: 0:01:40.\n",
            "  Batch 4,720  of  8,383.    Elapsed: 0:01:41.\n",
            "  Batch 4,760  of  8,383.    Elapsed: 0:01:42.\n",
            "  Batch 4,800  of  8,383.    Elapsed: 0:01:42.\n",
            "  Batch 4,840  of  8,383.    Elapsed: 0:01:43.\n",
            "  Batch 4,880  of  8,383.    Elapsed: 0:01:44.\n",
            "  Batch 4,920  of  8,383.    Elapsed: 0:01:45.\n",
            "  Batch 4,960  of  8,383.    Elapsed: 0:01:46.\n",
            "  Batch 5,000  of  8,383.    Elapsed: 0:01:46.\n",
            "  Batch 5,040  of  8,383.    Elapsed: 0:01:47.\n",
            "  Batch 5,080  of  8,383.    Elapsed: 0:01:48.\n",
            "  Batch 5,120  of  8,383.    Elapsed: 0:01:49.\n",
            "  Batch 5,160  of  8,383.    Elapsed: 0:01:50.\n",
            "  Batch 5,200  of  8,383.    Elapsed: 0:01:51.\n",
            "  Batch 5,240  of  8,383.    Elapsed: 0:01:52.\n",
            "  Batch 5,280  of  8,383.    Elapsed: 0:01:53.\n",
            "  Batch 5,320  of  8,383.    Elapsed: 0:01:53.\n",
            "  Batch 5,360  of  8,383.    Elapsed: 0:01:54.\n",
            "  Batch 5,400  of  8,383.    Elapsed: 0:01:55.\n",
            "  Batch 5,440  of  8,383.    Elapsed: 0:01:56.\n",
            "  Batch 5,480  of  8,383.    Elapsed: 0:01:57.\n",
            "  Batch 5,520  of  8,383.    Elapsed: 0:01:58.\n",
            "  Batch 5,560  of  8,383.    Elapsed: 0:01:58.\n",
            "  Batch 5,600  of  8,383.    Elapsed: 0:01:59.\n",
            "  Batch 5,640  of  8,383.    Elapsed: 0:02:00.\n",
            "  Batch 5,680  of  8,383.    Elapsed: 0:02:01.\n",
            "  Batch 5,720  of  8,383.    Elapsed: 0:02:02.\n",
            "  Batch 5,760  of  8,383.    Elapsed: 0:02:03.\n",
            "  Batch 5,800  of  8,383.    Elapsed: 0:02:04.\n",
            "  Batch 5,840  of  8,383.    Elapsed: 0:02:04.\n",
            "  Batch 5,880  of  8,383.    Elapsed: 0:02:05.\n",
            "  Batch 5,920  of  8,383.    Elapsed: 0:02:06.\n",
            "  Batch 5,960  of  8,383.    Elapsed: 0:02:07.\n",
            "  Batch 6,000  of  8,383.    Elapsed: 0:02:08.\n",
            "  Batch 6,040  of  8,383.    Elapsed: 0:02:09.\n",
            "  Batch 6,080  of  8,383.    Elapsed: 0:02:10.\n",
            "  Batch 6,120  of  8,383.    Elapsed: 0:02:10.\n",
            "  Batch 6,160  of  8,383.    Elapsed: 0:02:11.\n",
            "  Batch 6,200  of  8,383.    Elapsed: 0:02:12.\n",
            "  Batch 6,240  of  8,383.    Elapsed: 0:02:13.\n",
            "  Batch 6,280  of  8,383.    Elapsed: 0:02:14.\n",
            "  Batch 6,320  of  8,383.    Elapsed: 0:02:14.\n",
            "  Batch 6,360  of  8,383.    Elapsed: 0:02:15.\n",
            "  Batch 6,400  of  8,383.    Elapsed: 0:02:16.\n",
            "  Batch 6,440  of  8,383.    Elapsed: 0:02:17.\n",
            "  Batch 6,480  of  8,383.    Elapsed: 0:02:18.\n",
            "  Batch 6,520  of  8,383.    Elapsed: 0:02:19.\n",
            "  Batch 6,560  of  8,383.    Elapsed: 0:02:20.\n",
            "  Batch 6,600  of  8,383.    Elapsed: 0:02:21.\n",
            "  Batch 6,640  of  8,383.    Elapsed: 0:02:21.\n",
            "  Batch 6,680  of  8,383.    Elapsed: 0:02:22.\n",
            "  Batch 6,720  of  8,383.    Elapsed: 0:02:23.\n",
            "  Batch 6,760  of  8,383.    Elapsed: 0:02:24.\n",
            "  Batch 6,800  of  8,383.    Elapsed: 0:02:25.\n",
            "  Batch 6,840  of  8,383.    Elapsed: 0:02:26.\n",
            "  Batch 6,880  of  8,383.    Elapsed: 0:02:26.\n",
            "  Batch 6,920  of  8,383.    Elapsed: 0:02:27.\n",
            "  Batch 6,960  of  8,383.    Elapsed: 0:02:28.\n",
            "  Batch 7,000  of  8,383.    Elapsed: 0:02:29.\n",
            "  Batch 7,040  of  8,383.    Elapsed: 0:02:30.\n",
            "  Batch 7,080  of  8,383.    Elapsed: 0:02:31.\n",
            "  Batch 7,120  of  8,383.    Elapsed: 0:02:32.\n",
            "  Batch 7,160  of  8,383.    Elapsed: 0:02:33.\n",
            "  Batch 7,200  of  8,383.    Elapsed: 0:02:33.\n",
            "  Batch 7,240  of  8,383.    Elapsed: 0:02:34.\n",
            "  Batch 7,280  of  8,383.    Elapsed: 0:02:35.\n",
            "  Batch 7,320  of  8,383.    Elapsed: 0:02:36.\n",
            "  Batch 7,360  of  8,383.    Elapsed: 0:02:37.\n",
            "  Batch 7,400  of  8,383.    Elapsed: 0:02:38.\n",
            "  Batch 7,440  of  8,383.    Elapsed: 0:02:38.\n",
            "  Batch 7,480  of  8,383.    Elapsed: 0:02:39.\n",
            "  Batch 7,520  of  8,383.    Elapsed: 0:02:40.\n",
            "  Batch 7,560  of  8,383.    Elapsed: 0:02:41.\n",
            "  Batch 7,600  of  8,383.    Elapsed: 0:02:42.\n",
            "  Batch 7,640  of  8,383.    Elapsed: 0:02:43.\n",
            "  Batch 7,680  of  8,383.    Elapsed: 0:02:43.\n",
            "  Batch 7,720  of  8,383.    Elapsed: 0:02:44.\n",
            "  Batch 7,760  of  8,383.    Elapsed: 0:02:45.\n",
            "  Batch 7,800  of  8,383.    Elapsed: 0:02:46.\n",
            "  Batch 7,840  of  8,383.    Elapsed: 0:02:47.\n",
            "  Batch 7,880  of  8,383.    Elapsed: 0:02:48.\n",
            "  Batch 7,920  of  8,383.    Elapsed: 0:02:49.\n",
            "  Batch 7,960  of  8,383.    Elapsed: 0:02:50.\n",
            "  Batch 8,000  of  8,383.    Elapsed: 0:02:50.\n",
            "  Batch 8,040  of  8,383.    Elapsed: 0:02:51.\n",
            "  Batch 8,080  of  8,383.    Elapsed: 0:02:52.\n",
            "  Batch 8,120  of  8,383.    Elapsed: 0:02:53.\n",
            "  Batch 8,160  of  8,383.    Elapsed: 0:02:54.\n",
            "  Batch 8,200  of  8,383.    Elapsed: 0:02:54.\n",
            "  Batch 8,240  of  8,383.    Elapsed: 0:02:55.\n",
            "  Batch 8,280  of  8,383.    Elapsed: 0:02:56.\n",
            "  Batch 8,320  of  8,383.    Elapsed: 0:02:57.\n",
            "  Batch 8,360  of  8,383.    Elapsed: 0:02:58.\n",
            "\n",
            "  Average training loss: 0.56\n",
            "  Training epcoh took: 0:02:59\n",
            "\n",
            "Running Validation...\n",
            "  F1: 0.75\n",
            "  Validation Loss: 0.42\n",
            "  Validation took: 0:00:05\n",
            "\n",
            "======== Epoch 2 / 4 ========\n",
            "Training...\n",
            "  Batch    40  of  8,383.    Elapsed: 0:00:01.\n",
            "  Batch    80  of  8,383.    Elapsed: 0:00:02.\n",
            "  Batch   120  of  8,383.    Elapsed: 0:00:02.\n",
            "  Batch   160  of  8,383.    Elapsed: 0:00:03.\n",
            "  Batch   200  of  8,383.    Elapsed: 0:00:04.\n",
            "  Batch   240  of  8,383.    Elapsed: 0:00:05.\n",
            "  Batch   280  of  8,383.    Elapsed: 0:00:06.\n",
            "  Batch   320  of  8,383.    Elapsed: 0:00:07.\n",
            "  Batch   360  of  8,383.    Elapsed: 0:00:08.\n",
            "  Batch   400  of  8,383.    Elapsed: 0:00:09.\n",
            "  Batch   440  of  8,383.    Elapsed: 0:00:09.\n",
            "  Batch   480  of  8,383.    Elapsed: 0:00:10.\n",
            "  Batch   520  of  8,383.    Elapsed: 0:00:11.\n",
            "  Batch   560  of  8,383.    Elapsed: 0:00:12.\n",
            "  Batch   600  of  8,383.    Elapsed: 0:00:13.\n",
            "  Batch   640  of  8,383.    Elapsed: 0:00:14.\n",
            "  Batch   680  of  8,383.    Elapsed: 0:00:14.\n",
            "  Batch   720  of  8,383.    Elapsed: 0:00:15.\n",
            "  Batch   760  of  8,383.    Elapsed: 0:00:16.\n",
            "  Batch   800  of  8,383.    Elapsed: 0:00:17.\n",
            "  Batch   840  of  8,383.    Elapsed: 0:00:18.\n",
            "  Batch   880  of  8,383.    Elapsed: 0:00:19.\n",
            "  Batch   920  of  8,383.    Elapsed: 0:00:19.\n",
            "  Batch   960  of  8,383.    Elapsed: 0:00:20.\n",
            "  Batch 1,000  of  8,383.    Elapsed: 0:00:21.\n",
            "  Batch 1,040  of  8,383.    Elapsed: 0:00:22.\n",
            "  Batch 1,080  of  8,383.    Elapsed: 0:00:23.\n",
            "  Batch 1,120  of  8,383.    Elapsed: 0:00:24.\n",
            "  Batch 1,160  of  8,383.    Elapsed: 0:00:25.\n",
            "  Batch 1,200  of  8,383.    Elapsed: 0:00:26.\n",
            "  Batch 1,240  of  8,383.    Elapsed: 0:00:26.\n",
            "  Batch 1,280  of  8,383.    Elapsed: 0:00:27.\n",
            "  Batch 1,320  of  8,383.    Elapsed: 0:00:28.\n",
            "  Batch 1,360  of  8,383.    Elapsed: 0:00:29.\n",
            "  Batch 1,400  of  8,383.    Elapsed: 0:00:30.\n",
            "  Batch 1,440  of  8,383.    Elapsed: 0:00:31.\n",
            "  Batch 1,480  of  8,383.    Elapsed: 0:00:31.\n",
            "  Batch 1,520  of  8,383.    Elapsed: 0:00:32.\n",
            "  Batch 1,560  of  8,383.    Elapsed: 0:00:33.\n",
            "  Batch 1,600  of  8,383.    Elapsed: 0:00:34.\n",
            "  Batch 1,640  of  8,383.    Elapsed: 0:00:35.\n",
            "  Batch 1,680  of  8,383.    Elapsed: 0:00:36.\n",
            "  Batch 1,720  of  8,383.    Elapsed: 0:00:37.\n",
            "  Batch 1,760  of  8,383.    Elapsed: 0:00:38.\n",
            "  Batch 1,800  of  8,383.    Elapsed: 0:00:38.\n",
            "  Batch 1,840  of  8,383.    Elapsed: 0:00:39.\n",
            "  Batch 1,880  of  8,383.    Elapsed: 0:00:40.\n",
            "  Batch 1,920  of  8,383.    Elapsed: 0:00:41.\n",
            "  Batch 1,960  of  8,383.    Elapsed: 0:00:42.\n",
            "  Batch 2,000  of  8,383.    Elapsed: 0:00:43.\n",
            "  Batch 2,040  of  8,383.    Elapsed: 0:00:43.\n",
            "  Batch 2,080  of  8,383.    Elapsed: 0:00:44.\n",
            "  Batch 2,120  of  8,383.    Elapsed: 0:00:45.\n",
            "  Batch 2,160  of  8,383.    Elapsed: 0:00:46.\n",
            "  Batch 2,200  of  8,383.    Elapsed: 0:00:47.\n",
            "  Batch 2,240  of  8,383.    Elapsed: 0:00:48.\n",
            "  Batch 2,280  of  8,383.    Elapsed: 0:00:49.\n",
            "  Batch 2,320  of  8,383.    Elapsed: 0:00:49.\n",
            "  Batch 2,360  of  8,383.    Elapsed: 0:00:50.\n",
            "  Batch 2,400  of  8,383.    Elapsed: 0:00:51.\n",
            "  Batch 2,440  of  8,383.    Elapsed: 0:00:52.\n",
            "  Batch 2,480  of  8,383.    Elapsed: 0:00:53.\n",
            "  Batch 2,520  of  8,383.    Elapsed: 0:00:54.\n",
            "  Batch 2,560  of  8,383.    Elapsed: 0:00:54.\n",
            "  Batch 2,600  of  8,383.    Elapsed: 0:00:55.\n",
            "  Batch 2,640  of  8,383.    Elapsed: 0:00:56.\n",
            "  Batch 2,680  of  8,383.    Elapsed: 0:00:57.\n",
            "  Batch 2,720  of  8,383.    Elapsed: 0:00:58.\n",
            "  Batch 2,760  of  8,383.    Elapsed: 0:00:59.\n",
            "  Batch 2,800  of  8,383.    Elapsed: 0:00:59.\n",
            "  Batch 2,840  of  8,383.    Elapsed: 0:01:00.\n",
            "  Batch 2,880  of  8,383.    Elapsed: 0:01:01.\n",
            "  Batch 2,920  of  8,383.    Elapsed: 0:01:02.\n",
            "  Batch 2,960  of  8,383.    Elapsed: 0:01:03.\n",
            "  Batch 3,000  of  8,383.    Elapsed: 0:01:04.\n",
            "  Batch 3,040  of  8,383.    Elapsed: 0:01:05.\n",
            "  Batch 3,080  of  8,383.    Elapsed: 0:01:06.\n",
            "  Batch 3,120  of  8,383.    Elapsed: 0:01:06.\n",
            "  Batch 3,160  of  8,383.    Elapsed: 0:01:07.\n",
            "  Batch 3,200  of  8,383.    Elapsed: 0:01:08.\n",
            "  Batch 3,240  of  8,383.    Elapsed: 0:01:09.\n",
            "  Batch 3,280  of  8,383.    Elapsed: 0:01:10.\n",
            "  Batch 3,320  of  8,383.    Elapsed: 0:01:11.\n",
            "  Batch 3,360  of  8,383.    Elapsed: 0:01:11.\n",
            "  Batch 3,400  of  8,383.    Elapsed: 0:01:12.\n",
            "  Batch 3,440  of  8,383.    Elapsed: 0:01:13.\n",
            "  Batch 3,480  of  8,383.    Elapsed: 0:01:14.\n",
            "  Batch 3,520  of  8,383.    Elapsed: 0:01:15.\n",
            "  Batch 3,560  of  8,383.    Elapsed: 0:01:16.\n",
            "  Batch 3,600  of  8,383.    Elapsed: 0:01:17.\n",
            "  Batch 3,640  of  8,383.    Elapsed: 0:01:18.\n",
            "  Batch 3,680  of  8,383.    Elapsed: 0:01:18.\n",
            "  Batch 3,720  of  8,383.    Elapsed: 0:01:19.\n",
            "  Batch 3,760  of  8,383.    Elapsed: 0:01:20.\n",
            "  Batch 3,800  of  8,383.    Elapsed: 0:01:21.\n",
            "  Batch 3,840  of  8,383.    Elapsed: 0:01:22.\n",
            "  Batch 3,880  of  8,383.    Elapsed: 0:01:23.\n",
            "  Batch 3,920  of  8,383.    Elapsed: 0:01:23.\n",
            "  Batch 3,960  of  8,383.    Elapsed: 0:01:24.\n",
            "  Batch 4,000  of  8,383.    Elapsed: 0:01:25.\n",
            "  Batch 4,040  of  8,383.    Elapsed: 0:01:26.\n",
            "  Batch 4,080  of  8,383.    Elapsed: 0:01:27.\n",
            "  Batch 4,120  of  8,383.    Elapsed: 0:01:28.\n",
            "  Batch 4,160  of  8,383.    Elapsed: 0:01:28.\n",
            "  Batch 4,200  of  8,383.    Elapsed: 0:01:29.\n",
            "  Batch 4,240  of  8,383.    Elapsed: 0:01:30.\n",
            "  Batch 4,280  of  8,383.    Elapsed: 0:01:31.\n",
            "  Batch 4,320  of  8,383.    Elapsed: 0:01:32.\n",
            "  Batch 4,360  of  8,383.    Elapsed: 0:01:33.\n",
            "  Batch 4,400  of  8,383.    Elapsed: 0:01:34.\n",
            "  Batch 4,440  of  8,383.    Elapsed: 0:01:35.\n",
            "  Batch 4,480  of  8,383.    Elapsed: 0:01:35.\n",
            "  Batch 4,520  of  8,383.    Elapsed: 0:01:36.\n",
            "  Batch 4,560  of  8,383.    Elapsed: 0:01:37.\n",
            "  Batch 4,600  of  8,383.    Elapsed: 0:01:38.\n",
            "  Batch 4,640  of  8,383.    Elapsed: 0:01:39.\n",
            "  Batch 4,680  of  8,383.    Elapsed: 0:01:39.\n",
            "  Batch 4,720  of  8,383.    Elapsed: 0:01:40.\n",
            "  Batch 4,760  of  8,383.    Elapsed: 0:01:41.\n",
            "  Batch 4,800  of  8,383.    Elapsed: 0:01:42.\n",
            "  Batch 4,840  of  8,383.    Elapsed: 0:01:43.\n",
            "  Batch 4,880  of  8,383.    Elapsed: 0:01:44.\n",
            "  Batch 4,920  of  8,383.    Elapsed: 0:01:45.\n",
            "  Batch 4,960  of  8,383.    Elapsed: 0:01:46.\n",
            "  Batch 5,000  of  8,383.    Elapsed: 0:01:46.\n",
            "  Batch 5,040  of  8,383.    Elapsed: 0:01:47.\n",
            "  Batch 5,080  of  8,383.    Elapsed: 0:01:48.\n",
            "  Batch 5,120  of  8,383.    Elapsed: 0:01:49.\n",
            "  Batch 5,160  of  8,383.    Elapsed: 0:01:50.\n",
            "  Batch 5,200  of  8,383.    Elapsed: 0:01:51.\n",
            "  Batch 5,240  of  8,383.    Elapsed: 0:01:51.\n",
            "  Batch 5,280  of  8,383.    Elapsed: 0:01:52.\n",
            "  Batch 5,320  of  8,383.    Elapsed: 0:01:53.\n",
            "  Batch 5,360  of  8,383.    Elapsed: 0:01:54.\n",
            "  Batch 5,400  of  8,383.    Elapsed: 0:01:55.\n",
            "  Batch 5,440  of  8,383.    Elapsed: 0:01:56.\n",
            "  Batch 5,480  of  8,383.    Elapsed: 0:01:57.\n",
            "  Batch 5,520  of  8,383.    Elapsed: 0:01:58.\n",
            "  Batch 5,560  of  8,383.    Elapsed: 0:01:58.\n",
            "  Batch 5,600  of  8,383.    Elapsed: 0:01:59.\n",
            "  Batch 5,640  of  8,383.    Elapsed: 0:02:00.\n",
            "  Batch 5,680  of  8,383.    Elapsed: 0:02:01.\n",
            "  Batch 5,720  of  8,383.    Elapsed: 0:02:02.\n",
            "  Batch 5,760  of  8,383.    Elapsed: 0:02:03.\n",
            "  Batch 5,800  of  8,383.    Elapsed: 0:02:03.\n",
            "  Batch 5,840  of  8,383.    Elapsed: 0:02:04.\n",
            "  Batch 5,880  of  8,383.    Elapsed: 0:02:05.\n",
            "  Batch 5,920  of  8,383.    Elapsed: 0:02:06.\n",
            "  Batch 5,960  of  8,383.    Elapsed: 0:02:07.\n",
            "  Batch 6,000  of  8,383.    Elapsed: 0:02:07.\n",
            "  Batch 6,040  of  8,383.    Elapsed: 0:02:08.\n",
            "  Batch 6,080  of  8,383.    Elapsed: 0:02:09.\n",
            "  Batch 6,120  of  8,383.    Elapsed: 0:02:10.\n",
            "  Batch 6,160  of  8,383.    Elapsed: 0:02:11.\n",
            "  Batch 6,200  of  8,383.    Elapsed: 0:02:12.\n",
            "  Batch 6,240  of  8,383.    Elapsed: 0:02:13.\n",
            "  Batch 6,280  of  8,383.    Elapsed: 0:02:14.\n",
            "  Batch 6,320  of  8,383.    Elapsed: 0:02:14.\n",
            "  Batch 6,360  of  8,383.    Elapsed: 0:02:15.\n",
            "  Batch 6,400  of  8,383.    Elapsed: 0:02:16.\n",
            "  Batch 6,440  of  8,383.    Elapsed: 0:02:17.\n",
            "  Batch 6,480  of  8,383.    Elapsed: 0:02:18.\n",
            "  Batch 6,520  of  8,383.    Elapsed: 0:02:19.\n",
            "  Batch 6,560  of  8,383.    Elapsed: 0:02:19.\n",
            "  Batch 6,600  of  8,383.    Elapsed: 0:02:20.\n",
            "  Batch 6,640  of  8,383.    Elapsed: 0:02:21.\n",
            "  Batch 6,680  of  8,383.    Elapsed: 0:02:22.\n",
            "  Batch 6,720  of  8,383.    Elapsed: 0:02:23.\n",
            "  Batch 6,760  of  8,383.    Elapsed: 0:02:24.\n",
            "  Batch 6,800  of  8,383.    Elapsed: 0:02:25.\n",
            "  Batch 6,840  of  8,383.    Elapsed: 0:02:26.\n",
            "  Batch 6,880  of  8,383.    Elapsed: 0:02:26.\n",
            "  Batch 6,920  of  8,383.    Elapsed: 0:02:27.\n",
            "  Batch 6,960  of  8,383.    Elapsed: 0:02:28.\n",
            "  Batch 7,000  of  8,383.    Elapsed: 0:02:29.\n",
            "  Batch 7,040  of  8,383.    Elapsed: 0:02:30.\n",
            "  Batch 7,080  of  8,383.    Elapsed: 0:02:31.\n",
            "  Batch 7,120  of  8,383.    Elapsed: 0:02:31.\n",
            "  Batch 7,160  of  8,383.    Elapsed: 0:02:32.\n",
            "  Batch 7,200  of  8,383.    Elapsed: 0:02:33.\n",
            "  Batch 7,240  of  8,383.    Elapsed: 0:02:34.\n",
            "  Batch 7,280  of  8,383.    Elapsed: 0:02:35.\n",
            "  Batch 7,320  of  8,383.    Elapsed: 0:02:36.\n",
            "  Batch 7,360  of  8,383.    Elapsed: 0:02:36.\n",
            "  Batch 7,400  of  8,383.    Elapsed: 0:02:37.\n",
            "  Batch 7,440  of  8,383.    Elapsed: 0:02:38.\n",
            "  Batch 7,480  of  8,383.    Elapsed: 0:02:39.\n",
            "  Batch 7,520  of  8,383.    Elapsed: 0:02:40.\n",
            "  Batch 7,560  of  8,383.    Elapsed: 0:02:41.\n",
            "  Batch 7,600  of  8,383.    Elapsed: 0:02:42.\n",
            "  Batch 7,640  of  8,383.    Elapsed: 0:02:42.\n",
            "  Batch 7,680  of  8,383.    Elapsed: 0:02:43.\n",
            "  Batch 7,720  of  8,383.    Elapsed: 0:02:44.\n",
            "  Batch 7,760  of  8,383.    Elapsed: 0:02:45.\n",
            "  Batch 7,800  of  8,383.    Elapsed: 0:02:46.\n",
            "  Batch 7,840  of  8,383.    Elapsed: 0:02:47.\n",
            "  Batch 7,880  of  8,383.    Elapsed: 0:02:47.\n",
            "  Batch 7,920  of  8,383.    Elapsed: 0:02:48.\n",
            "  Batch 7,960  of  8,383.    Elapsed: 0:02:49.\n",
            "  Batch 8,000  of  8,383.    Elapsed: 0:02:50.\n",
            "  Batch 8,040  of  8,383.    Elapsed: 0:02:51.\n",
            "  Batch 8,080  of  8,383.    Elapsed: 0:02:52.\n",
            "  Batch 8,120  of  8,383.    Elapsed: 0:02:53.\n",
            "  Batch 8,160  of  8,383.    Elapsed: 0:02:54.\n",
            "  Batch 8,200  of  8,383.    Elapsed: 0:02:54.\n",
            "  Batch 8,240  of  8,383.    Elapsed: 0:02:55.\n",
            "  Batch 8,280  of  8,383.    Elapsed: 0:02:56.\n",
            "  Batch 8,320  of  8,383.    Elapsed: 0:02:57.\n",
            "  Batch 8,360  of  8,383.    Elapsed: 0:02:58.\n",
            "\n",
            "  Average training loss: 0.40\n",
            "  Training epcoh took: 0:02:58\n",
            "\n",
            "Running Validation...\n",
            "  F1: 0.77\n",
            "  Validation Loss: 0.39\n",
            "  Validation took: 0:00:06\n",
            "\n",
            "======== Epoch 3 / 4 ========\n",
            "Training...\n",
            "  Batch    40  of  8,383.    Elapsed: 0:00:01.\n",
            "  Batch    80  of  8,383.    Elapsed: 0:00:02.\n",
            "  Batch   120  of  8,383.    Elapsed: 0:00:03.\n",
            "  Batch   160  of  8,383.    Elapsed: 0:00:04.\n",
            "  Batch   200  of  8,383.    Elapsed: 0:00:04.\n",
            "  Batch   240  of  8,383.    Elapsed: 0:00:05.\n",
            "  Batch   280  of  8,383.    Elapsed: 0:00:06.\n",
            "  Batch   320  of  8,383.    Elapsed: 0:00:07.\n",
            "  Batch   360  of  8,383.    Elapsed: 0:00:08.\n",
            "  Batch   400  of  8,383.    Elapsed: 0:00:08.\n",
            "  Batch   440  of  8,383.    Elapsed: 0:00:09.\n",
            "  Batch   480  of  8,383.    Elapsed: 0:00:10.\n",
            "  Batch   520  of  8,383.    Elapsed: 0:00:11.\n",
            "  Batch   560  of  8,383.    Elapsed: 0:00:12.\n",
            "  Batch   600  of  8,383.    Elapsed: 0:00:13.\n",
            "  Batch   640  of  8,383.    Elapsed: 0:00:14.\n",
            "  Batch   680  of  8,383.    Elapsed: 0:00:15.\n",
            "  Batch   720  of  8,383.    Elapsed: 0:00:15.\n",
            "  Batch   760  of  8,383.    Elapsed: 0:00:16.\n",
            "  Batch   800  of  8,383.    Elapsed: 0:00:17.\n",
            "  Batch   840  of  8,383.    Elapsed: 0:00:18.\n",
            "  Batch   880  of  8,383.    Elapsed: 0:00:19.\n",
            "  Batch   920  of  8,383.    Elapsed: 0:00:20.\n",
            "  Batch   960  of  8,383.    Elapsed: 0:00:20.\n",
            "  Batch 1,000  of  8,383.    Elapsed: 0:00:21.\n",
            "  Batch 1,040  of  8,383.    Elapsed: 0:00:22.\n",
            "  Batch 1,080  of  8,383.    Elapsed: 0:00:23.\n",
            "  Batch 1,120  of  8,383.    Elapsed: 0:00:24.\n",
            "  Batch 1,160  of  8,383.    Elapsed: 0:00:25.\n",
            "  Batch 1,200  of  8,383.    Elapsed: 0:00:25.\n",
            "  Batch 1,240  of  8,383.    Elapsed: 0:00:26.\n",
            "  Batch 1,280  of  8,383.    Elapsed: 0:00:27.\n",
            "  Batch 1,320  of  8,383.    Elapsed: 0:00:28.\n",
            "  Batch 1,360  of  8,383.    Elapsed: 0:00:29.\n",
            "  Batch 1,400  of  8,383.    Elapsed: 0:00:30.\n",
            "  Batch 1,440  of  8,383.    Elapsed: 0:00:31.\n",
            "  Batch 1,480  of  8,383.    Elapsed: 0:00:32.\n",
            "  Batch 1,520  of  8,383.    Elapsed: 0:00:32.\n",
            "  Batch 1,560  of  8,383.    Elapsed: 0:00:33.\n",
            "  Batch 1,600  of  8,383.    Elapsed: 0:00:34.\n",
            "  Batch 1,640  of  8,383.    Elapsed: 0:00:35.\n",
            "  Batch 1,680  of  8,383.    Elapsed: 0:00:36.\n",
            "  Batch 1,720  of  8,383.    Elapsed: 0:00:37.\n",
            "  Batch 1,760  of  8,383.    Elapsed: 0:00:37.\n",
            "  Batch 1,800  of  8,383.    Elapsed: 0:00:38.\n",
            "  Batch 1,840  of  8,383.    Elapsed: 0:00:39.\n",
            "  Batch 1,880  of  8,383.    Elapsed: 0:00:40.\n",
            "  Batch 1,920  of  8,383.    Elapsed: 0:00:41.\n",
            "  Batch 1,960  of  8,383.    Elapsed: 0:00:42.\n",
            "  Batch 2,000  of  8,383.    Elapsed: 0:00:43.\n",
            "  Batch 2,040  of  8,383.    Elapsed: 0:00:43.\n",
            "  Batch 2,080  of  8,383.    Elapsed: 0:00:44.\n",
            "  Batch 2,120  of  8,383.    Elapsed: 0:00:45.\n",
            "  Batch 2,160  of  8,383.    Elapsed: 0:00:46.\n",
            "  Batch 2,200  of  8,383.    Elapsed: 0:00:47.\n",
            "  Batch 2,240  of  8,383.    Elapsed: 0:00:48.\n",
            "  Batch 2,280  of  8,383.    Elapsed: 0:00:48.\n",
            "  Batch 2,320  of  8,383.    Elapsed: 0:00:49.\n",
            "  Batch 2,360  of  8,383.    Elapsed: 0:00:50.\n",
            "  Batch 2,400  of  8,383.    Elapsed: 0:00:51.\n",
            "  Batch 2,440  of  8,383.    Elapsed: 0:00:52.\n",
            "  Batch 2,480  of  8,383.    Elapsed: 0:00:53.\n",
            "  Batch 2,520  of  8,383.    Elapsed: 0:00:54.\n",
            "  Batch 2,560  of  8,383.    Elapsed: 0:00:54.\n",
            "  Batch 2,600  of  8,383.    Elapsed: 0:00:55.\n",
            "  Batch 2,640  of  8,383.    Elapsed: 0:00:56.\n",
            "  Batch 2,680  of  8,383.    Elapsed: 0:00:57.\n",
            "  Batch 2,720  of  8,383.    Elapsed: 0:00:58.\n",
            "  Batch 2,760  of  8,383.    Elapsed: 0:00:59.\n",
            "  Batch 2,800  of  8,383.    Elapsed: 0:01:00.\n",
            "  Batch 2,840  of  8,383.    Elapsed: 0:01:00.\n",
            "  Batch 2,880  of  8,383.    Elapsed: 0:01:01.\n",
            "  Batch 2,920  of  8,383.    Elapsed: 0:01:02.\n",
            "  Batch 2,960  of  8,383.    Elapsed: 0:01:03.\n",
            "  Batch 3,000  of  8,383.    Elapsed: 0:01:04.\n",
            "  Batch 3,040  of  8,383.    Elapsed: 0:01:05.\n",
            "  Batch 3,080  of  8,383.    Elapsed: 0:01:05.\n",
            "  Batch 3,120  of  8,383.    Elapsed: 0:01:06.\n",
            "  Batch 3,160  of  8,383.    Elapsed: 0:01:07.\n",
            "  Batch 3,200  of  8,383.    Elapsed: 0:01:08.\n",
            "  Batch 3,240  of  8,383.    Elapsed: 0:01:09.\n",
            "  Batch 3,280  of  8,383.    Elapsed: 0:01:10.\n",
            "  Batch 3,320  of  8,383.    Elapsed: 0:01:11.\n",
            "  Batch 3,360  of  8,383.    Elapsed: 0:01:12.\n",
            "  Batch 3,400  of  8,383.    Elapsed: 0:01:12.\n",
            "  Batch 3,440  of  8,383.    Elapsed: 0:01:13.\n",
            "  Batch 3,480  of  8,383.    Elapsed: 0:01:14.\n",
            "  Batch 3,520  of  8,383.    Elapsed: 0:01:15.\n",
            "  Batch 3,560  of  8,383.    Elapsed: 0:01:16.\n",
            "  Batch 3,600  of  8,383.    Elapsed: 0:01:16.\n",
            "  Batch 3,640  of  8,383.    Elapsed: 0:01:17.\n",
            "  Batch 3,680  of  8,383.    Elapsed: 0:01:18.\n",
            "  Batch 3,720  of  8,383.    Elapsed: 0:01:19.\n",
            "  Batch 3,760  of  8,383.    Elapsed: 0:01:20.\n",
            "  Batch 3,800  of  8,383.    Elapsed: 0:01:21.\n",
            "  Batch 3,840  of  8,383.    Elapsed: 0:01:22.\n",
            "  Batch 3,880  of  8,383.    Elapsed: 0:01:23.\n",
            "  Batch 3,920  of  8,383.    Elapsed: 0:01:23.\n",
            "  Batch 3,960  of  8,383.    Elapsed: 0:01:24.\n",
            "  Batch 4,000  of  8,383.    Elapsed: 0:01:25.\n",
            "  Batch 4,040  of  8,383.    Elapsed: 0:01:26.\n",
            "  Batch 4,080  of  8,383.    Elapsed: 0:01:27.\n",
            "  Batch 4,120  of  8,383.    Elapsed: 0:01:28.\n",
            "  Batch 4,160  of  8,383.    Elapsed: 0:01:28.\n",
            "  Batch 4,200  of  8,383.    Elapsed: 0:01:29.\n",
            "  Batch 4,240  of  8,383.    Elapsed: 0:01:30.\n",
            "  Batch 4,280  of  8,383.    Elapsed: 0:01:31.\n",
            "  Batch 4,320  of  8,383.    Elapsed: 0:01:32.\n",
            "  Batch 4,360  of  8,383.    Elapsed: 0:01:33.\n",
            "  Batch 4,400  of  8,383.    Elapsed: 0:01:33.\n",
            "  Batch 4,440  of  8,383.    Elapsed: 0:01:34.\n",
            "  Batch 4,480  of  8,383.    Elapsed: 0:01:35.\n",
            "  Batch 4,520  of  8,383.    Elapsed: 0:01:36.\n",
            "  Batch 4,560  of  8,383.    Elapsed: 0:01:37.\n",
            "  Batch 4,600  of  8,383.    Elapsed: 0:01:38.\n",
            "  Batch 4,640  of  8,383.    Elapsed: 0:01:39.\n",
            "  Batch 4,680  of  8,383.    Elapsed: 0:01:39.\n",
            "  Batch 4,720  of  8,383.    Elapsed: 0:01:40.\n",
            "  Batch 4,760  of  8,383.    Elapsed: 0:01:41.\n",
            "  Batch 4,800  of  8,383.    Elapsed: 0:01:42.\n",
            "  Batch 4,840  of  8,383.    Elapsed: 0:01:43.\n",
            "  Batch 4,880  of  8,383.    Elapsed: 0:01:44.\n",
            "  Batch 4,920  of  8,383.    Elapsed: 0:01:44.\n",
            "  Batch 4,960  of  8,383.    Elapsed: 0:01:45.\n",
            "  Batch 5,000  of  8,383.    Elapsed: 0:01:46.\n",
            "  Batch 5,040  of  8,383.    Elapsed: 0:01:47.\n",
            "  Batch 5,080  of  8,383.    Elapsed: 0:01:48.\n",
            "  Batch 5,120  of  8,383.    Elapsed: 0:01:49.\n",
            "  Batch 5,160  of  8,383.    Elapsed: 0:01:50.\n",
            "  Batch 5,200  of  8,383.    Elapsed: 0:01:51.\n",
            "  Batch 5,240  of  8,383.    Elapsed: 0:01:51.\n",
            "  Batch 5,280  of  8,383.    Elapsed: 0:01:52.\n",
            "  Batch 5,320  of  8,383.    Elapsed: 0:01:53.\n",
            "  Batch 5,360  of  8,383.    Elapsed: 0:01:54.\n",
            "  Batch 5,400  of  8,383.    Elapsed: 0:01:55.\n",
            "  Batch 5,440  of  8,383.    Elapsed: 0:01:56.\n",
            "  Batch 5,480  of  8,383.    Elapsed: 0:01:56.\n",
            "  Batch 5,520  of  8,383.    Elapsed: 0:01:57.\n",
            "  Batch 5,560  of  8,383.    Elapsed: 0:01:58.\n",
            "  Batch 5,600  of  8,383.    Elapsed: 0:01:59.\n",
            "  Batch 5,640  of  8,383.    Elapsed: 0:02:00.\n",
            "  Batch 5,680  of  8,383.    Elapsed: 0:02:01.\n",
            "  Batch 5,720  of  8,383.    Elapsed: 0:02:02.\n",
            "  Batch 5,760  of  8,383.    Elapsed: 0:02:02.\n",
            "  Batch 5,800  of  8,383.    Elapsed: 0:02:03.\n",
            "  Batch 5,840  of  8,383.    Elapsed: 0:02:04.\n",
            "  Batch 5,880  of  8,383.    Elapsed: 0:02:05.\n",
            "  Batch 5,920  of  8,383.    Elapsed: 0:02:06.\n",
            "  Batch 5,960  of  8,383.    Elapsed: 0:02:07.\n",
            "  Batch 6,000  of  8,383.    Elapsed: 0:02:08.\n",
            "  Batch 6,040  of  8,383.    Elapsed: 0:02:08.\n",
            "  Batch 6,080  of  8,383.    Elapsed: 0:02:09.\n",
            "  Batch 6,120  of  8,383.    Elapsed: 0:02:10.\n",
            "  Batch 6,160  of  8,383.    Elapsed: 0:02:11.\n",
            "  Batch 6,200  of  8,383.    Elapsed: 0:02:12.\n",
            "  Batch 6,240  of  8,383.    Elapsed: 0:02:12.\n",
            "  Batch 6,280  of  8,383.    Elapsed: 0:02:13.\n",
            "  Batch 6,320  of  8,383.    Elapsed: 0:02:14.\n",
            "  Batch 6,360  of  8,383.    Elapsed: 0:02:15.\n",
            "  Batch 6,400  of  8,383.    Elapsed: 0:02:16.\n",
            "  Batch 6,440  of  8,383.    Elapsed: 0:02:17.\n",
            "  Batch 6,480  of  8,383.    Elapsed: 0:02:18.\n",
            "  Batch 6,520  of  8,383.    Elapsed: 0:02:19.\n",
            "  Batch 6,560  of  8,383.    Elapsed: 0:02:20.\n",
            "  Batch 6,600  of  8,383.    Elapsed: 0:02:20.\n",
            "  Batch 6,640  of  8,383.    Elapsed: 0:02:21.\n",
            "  Batch 6,680  of  8,383.    Elapsed: 0:02:22.\n",
            "  Batch 6,720  of  8,383.    Elapsed: 0:02:23.\n",
            "  Batch 6,760  of  8,383.    Elapsed: 0:02:24.\n",
            "  Batch 6,800  of  8,383.    Elapsed: 0:02:24.\n",
            "  Batch 6,840  of  8,383.    Elapsed: 0:02:25.\n",
            "  Batch 6,880  of  8,383.    Elapsed: 0:02:26.\n",
            "  Batch 6,920  of  8,383.    Elapsed: 0:02:27.\n",
            "  Batch 6,960  of  8,383.    Elapsed: 0:02:28.\n",
            "  Batch 7,000  of  8,383.    Elapsed: 0:02:29.\n",
            "  Batch 7,040  of  8,383.    Elapsed: 0:02:30.\n",
            "  Batch 7,080  of  8,383.    Elapsed: 0:02:31.\n",
            "  Batch 7,120  of  8,383.    Elapsed: 0:02:31.\n",
            "  Batch 7,160  of  8,383.    Elapsed: 0:02:32.\n",
            "  Batch 7,200  of  8,383.    Elapsed: 0:02:33.\n",
            "  Batch 7,240  of  8,383.    Elapsed: 0:02:34.\n",
            "  Batch 7,280  of  8,383.    Elapsed: 0:02:35.\n",
            "  Batch 7,320  of  8,383.    Elapsed: 0:02:36.\n",
            "  Batch 7,360  of  8,383.    Elapsed: 0:02:36.\n",
            "  Batch 7,400  of  8,383.    Elapsed: 0:02:37.\n",
            "  Batch 7,440  of  8,383.    Elapsed: 0:02:38.\n",
            "  Batch 7,480  of  8,383.    Elapsed: 0:02:39.\n",
            "  Batch 7,520  of  8,383.    Elapsed: 0:02:40.\n",
            "  Batch 7,560  of  8,383.    Elapsed: 0:02:41.\n",
            "  Batch 7,600  of  8,383.    Elapsed: 0:02:41.\n",
            "  Batch 7,640  of  8,383.    Elapsed: 0:02:42.\n",
            "  Batch 7,680  of  8,383.    Elapsed: 0:02:43.\n",
            "  Batch 7,720  of  8,383.    Elapsed: 0:02:44.\n",
            "  Batch 7,760  of  8,383.    Elapsed: 0:02:45.\n",
            "  Batch 7,800  of  8,383.    Elapsed: 0:02:46.\n",
            "  Batch 7,840  of  8,383.    Elapsed: 0:02:47.\n",
            "  Batch 7,880  of  8,383.    Elapsed: 0:02:48.\n",
            "  Batch 7,920  of  8,383.    Elapsed: 0:02:48.\n",
            "  Batch 7,960  of  8,383.    Elapsed: 0:02:49.\n",
            "  Batch 8,000  of  8,383.    Elapsed: 0:02:50.\n",
            "  Batch 8,040  of  8,383.    Elapsed: 0:02:51.\n",
            "  Batch 8,080  of  8,383.    Elapsed: 0:02:52.\n",
            "  Batch 8,120  of  8,383.    Elapsed: 0:02:53.\n",
            "  Batch 8,160  of  8,383.    Elapsed: 0:02:53.\n",
            "  Batch 8,200  of  8,383.    Elapsed: 0:02:54.\n",
            "  Batch 8,240  of  8,383.    Elapsed: 0:02:55.\n",
            "  Batch 8,280  of  8,383.    Elapsed: 0:02:56.\n",
            "  Batch 8,320  of  8,383.    Elapsed: 0:02:57.\n",
            "  Batch 8,360  of  8,383.    Elapsed: 0:02:58.\n",
            "\n",
            "  Average training loss: 0.35\n",
            "  Training epcoh took: 0:02:58\n",
            "\n",
            "Running Validation...\n",
            "  F1: 0.78\n",
            "  Validation Loss: 0.39\n",
            "  Validation took: 0:00:05\n",
            "\n",
            "======== Epoch 4 / 4 ========\n",
            "Training...\n",
            "  Batch    40  of  8,383.    Elapsed: 0:00:01.\n",
            "  Batch    80  of  8,383.    Elapsed: 0:00:02.\n",
            "  Batch   120  of  8,383.    Elapsed: 0:00:02.\n",
            "  Batch   160  of  8,383.    Elapsed: 0:00:03.\n",
            "  Batch   200  of  8,383.    Elapsed: 0:00:04.\n",
            "  Batch   240  of  8,383.    Elapsed: 0:00:05.\n",
            "  Batch   280  of  8,383.    Elapsed: 0:00:06.\n",
            "  Batch   320  of  8,383.    Elapsed: 0:00:07.\n",
            "  Batch   360  of  8,383.    Elapsed: 0:00:08.\n",
            "  Batch   400  of  8,383.    Elapsed: 0:00:09.\n",
            "  Batch   440  of  8,383.    Elapsed: 0:00:10.\n",
            "  Batch   480  of  8,383.    Elapsed: 0:00:10.\n",
            "  Batch   520  of  8,383.    Elapsed: 0:00:11.\n",
            "  Batch   560  of  8,383.    Elapsed: 0:00:12.\n",
            "  Batch   600  of  8,383.    Elapsed: 0:00:13.\n",
            "  Batch   640  of  8,383.    Elapsed: 0:00:14.\n",
            "  Batch   680  of  8,383.    Elapsed: 0:00:15.\n",
            "  Batch   720  of  8,383.    Elapsed: 0:00:15.\n",
            "  Batch   760  of  8,383.    Elapsed: 0:00:16.\n",
            "  Batch   800  of  8,383.    Elapsed: 0:00:17.\n",
            "  Batch   840  of  8,383.    Elapsed: 0:00:18.\n",
            "  Batch   880  of  8,383.    Elapsed: 0:00:19.\n",
            "  Batch   920  of  8,383.    Elapsed: 0:00:20.\n",
            "  Batch   960  of  8,383.    Elapsed: 0:00:20.\n",
            "  Batch 1,000  of  8,383.    Elapsed: 0:00:21.\n",
            "  Batch 1,040  of  8,383.    Elapsed: 0:00:22.\n",
            "  Batch 1,080  of  8,383.    Elapsed: 0:00:23.\n",
            "  Batch 1,120  of  8,383.    Elapsed: 0:00:24.\n",
            "  Batch 1,160  of  8,383.    Elapsed: 0:00:25.\n",
            "  Batch 1,200  of  8,383.    Elapsed: 0:00:26.\n",
            "  Batch 1,240  of  8,383.    Elapsed: 0:00:26.\n",
            "  Batch 1,280  of  8,383.    Elapsed: 0:00:27.\n",
            "  Batch 1,320  of  8,383.    Elapsed: 0:00:28.\n",
            "  Batch 1,360  of  8,383.    Elapsed: 0:00:29.\n",
            "  Batch 1,400  of  8,383.    Elapsed: 0:00:30.\n",
            "  Batch 1,440  of  8,383.    Elapsed: 0:00:31.\n",
            "  Batch 1,480  of  8,383.    Elapsed: 0:00:31.\n",
            "  Batch 1,520  of  8,383.    Elapsed: 0:00:32.\n",
            "  Batch 1,560  of  8,383.    Elapsed: 0:00:33.\n",
            "  Batch 1,600  of  8,383.    Elapsed: 0:00:34.\n",
            "  Batch 1,640  of  8,383.    Elapsed: 0:00:35.\n",
            "  Batch 1,680  of  8,383.    Elapsed: 0:00:36.\n",
            "  Batch 1,720  of  8,383.    Elapsed: 0:00:37.\n",
            "  Batch 1,760  of  8,383.    Elapsed: 0:00:38.\n",
            "  Batch 1,800  of  8,383.    Elapsed: 0:00:38.\n",
            "  Batch 1,840  of  8,383.    Elapsed: 0:00:39.\n",
            "  Batch 1,880  of  8,383.    Elapsed: 0:00:40.\n",
            "  Batch 1,920  of  8,383.    Elapsed: 0:00:41.\n",
            "  Batch 1,960  of  8,383.    Elapsed: 0:00:42.\n",
            "  Batch 2,000  of  8,383.    Elapsed: 0:00:43.\n",
            "  Batch 2,040  of  8,383.    Elapsed: 0:00:43.\n",
            "  Batch 2,080  of  8,383.    Elapsed: 0:00:44.\n",
            "  Batch 2,120  of  8,383.    Elapsed: 0:00:45.\n",
            "  Batch 2,160  of  8,383.    Elapsed: 0:00:46.\n",
            "  Batch 2,200  of  8,383.    Elapsed: 0:00:47.\n",
            "  Batch 2,240  of  8,383.    Elapsed: 0:00:48.\n",
            "  Batch 2,280  of  8,383.    Elapsed: 0:00:49.\n",
            "  Batch 2,320  of  8,383.    Elapsed: 0:00:50.\n",
            "  Batch 2,360  of  8,383.    Elapsed: 0:00:50.\n",
            "  Batch 2,400  of  8,383.    Elapsed: 0:00:51.\n",
            "  Batch 2,440  of  8,383.    Elapsed: 0:00:52.\n",
            "  Batch 2,480  of  8,383.    Elapsed: 0:00:53.\n",
            "  Batch 2,520  of  8,383.    Elapsed: 0:00:54.\n",
            "  Batch 2,560  of  8,383.    Elapsed: 0:00:54.\n",
            "  Batch 2,600  of  8,383.    Elapsed: 0:00:55.\n",
            "  Batch 2,640  of  8,383.    Elapsed: 0:00:56.\n",
            "  Batch 2,680  of  8,383.    Elapsed: 0:00:57.\n",
            "  Batch 2,720  of  8,383.    Elapsed: 0:00:58.\n",
            "  Batch 2,760  of  8,383.    Elapsed: 0:00:59.\n",
            "  Batch 2,800  of  8,383.    Elapsed: 0:00:59.\n",
            "  Batch 2,840  of  8,383.    Elapsed: 0:01:00.\n",
            "  Batch 2,880  of  8,383.    Elapsed: 0:01:01.\n",
            "  Batch 2,920  of  8,383.    Elapsed: 0:01:02.\n",
            "  Batch 2,960  of  8,383.    Elapsed: 0:01:03.\n",
            "  Batch 3,000  of  8,383.    Elapsed: 0:01:04.\n",
            "  Batch 3,040  of  8,383.    Elapsed: 0:01:05.\n",
            "  Batch 3,080  of  8,383.    Elapsed: 0:01:06.\n",
            "  Batch 3,120  of  8,383.    Elapsed: 0:01:06.\n",
            "  Batch 3,160  of  8,383.    Elapsed: 0:01:07.\n",
            "  Batch 3,200  of  8,383.    Elapsed: 0:01:08.\n",
            "  Batch 3,240  of  8,383.    Elapsed: 0:01:09.\n",
            "  Batch 3,280  of  8,383.    Elapsed: 0:01:10.\n",
            "  Batch 3,320  of  8,383.    Elapsed: 0:01:11.\n",
            "  Batch 3,360  of  8,383.    Elapsed: 0:01:11.\n",
            "  Batch 3,400  of  8,383.    Elapsed: 0:01:12.\n",
            "  Batch 3,440  of  8,383.    Elapsed: 0:01:13.\n",
            "  Batch 3,480  of  8,383.    Elapsed: 0:01:14.\n",
            "  Batch 3,520  of  8,383.    Elapsed: 0:01:15.\n",
            "  Batch 3,560  of  8,383.    Elapsed: 0:01:16.\n",
            "  Batch 3,600  of  8,383.    Elapsed: 0:01:17.\n",
            "  Batch 3,640  of  8,383.    Elapsed: 0:01:18.\n",
            "  Batch 3,680  of  8,383.    Elapsed: 0:01:18.\n",
            "  Batch 3,720  of  8,383.    Elapsed: 0:01:19.\n",
            "  Batch 3,760  of  8,383.    Elapsed: 0:01:20.\n",
            "  Batch 3,800  of  8,383.    Elapsed: 0:01:21.\n",
            "  Batch 3,840  of  8,383.    Elapsed: 0:01:22.\n",
            "  Batch 3,880  of  8,383.    Elapsed: 0:01:23.\n",
            "  Batch 3,920  of  8,383.    Elapsed: 0:01:23.\n",
            "  Batch 3,960  of  8,383.    Elapsed: 0:01:24.\n",
            "  Batch 4,000  of  8,383.    Elapsed: 0:01:25.\n",
            "  Batch 4,040  of  8,383.    Elapsed: 0:01:26.\n",
            "  Batch 4,080  of  8,383.    Elapsed: 0:01:27.\n",
            "  Batch 4,120  of  8,383.    Elapsed: 0:01:28.\n",
            "  Batch 4,160  of  8,383.    Elapsed: 0:01:29.\n",
            "  Batch 4,200  of  8,383.    Elapsed: 0:01:29.\n",
            "  Batch 4,240  of  8,383.    Elapsed: 0:01:30.\n",
            "  Batch 4,280  of  8,383.    Elapsed: 0:01:31.\n",
            "  Batch 4,320  of  8,383.    Elapsed: 0:01:32.\n",
            "  Batch 4,360  of  8,383.    Elapsed: 0:01:33.\n",
            "  Batch 4,400  of  8,383.    Elapsed: 0:01:34.\n",
            "  Batch 4,440  of  8,383.    Elapsed: 0:01:34.\n",
            "  Batch 4,480  of  8,383.    Elapsed: 0:01:35.\n",
            "  Batch 4,520  of  8,383.    Elapsed: 0:01:36.\n",
            "  Batch 4,560  of  8,383.    Elapsed: 0:01:37.\n",
            "  Batch 4,600  of  8,383.    Elapsed: 0:01:38.\n",
            "  Batch 4,640  of  8,383.    Elapsed: 0:01:39.\n",
            "  Batch 4,680  of  8,383.    Elapsed: 0:01:39.\n",
            "  Batch 4,720  of  8,383.    Elapsed: 0:01:40.\n",
            "  Batch 4,760  of  8,383.    Elapsed: 0:01:41.\n",
            "  Batch 4,800  of  8,383.    Elapsed: 0:01:42.\n",
            "  Batch 4,840  of  8,383.    Elapsed: 0:01:43.\n",
            "  Batch 4,880  of  8,383.    Elapsed: 0:01:44.\n",
            "  Batch 4,920  of  8,383.    Elapsed: 0:01:45.\n",
            "  Batch 4,960  of  8,383.    Elapsed: 0:01:46.\n",
            "  Batch 5,000  of  8,383.    Elapsed: 0:01:46.\n",
            "  Batch 5,040  of  8,383.    Elapsed: 0:01:47.\n",
            "  Batch 5,080  of  8,383.    Elapsed: 0:01:48.\n",
            "  Batch 5,120  of  8,383.    Elapsed: 0:01:49.\n",
            "  Batch 5,160  of  8,383.    Elapsed: 0:01:50.\n",
            "  Batch 5,200  of  8,383.    Elapsed: 0:01:51.\n",
            "  Batch 5,240  of  8,383.    Elapsed: 0:01:51.\n",
            "  Batch 5,280  of  8,383.    Elapsed: 0:01:52.\n",
            "  Batch 5,320  of  8,383.    Elapsed: 0:01:53.\n",
            "  Batch 5,360  of  8,383.    Elapsed: 0:01:54.\n",
            "  Batch 5,400  of  8,383.    Elapsed: 0:01:55.\n",
            "  Batch 5,440  of  8,383.    Elapsed: 0:01:56.\n",
            "  Batch 5,480  of  8,383.    Elapsed: 0:01:57.\n",
            "  Batch 5,520  of  8,383.    Elapsed: 0:01:58.\n",
            "  Batch 5,560  of  8,383.    Elapsed: 0:01:58.\n",
            "  Batch 5,600  of  8,383.    Elapsed: 0:01:59.\n",
            "  Batch 5,640  of  8,383.    Elapsed: 0:02:00.\n",
            "  Batch 5,680  of  8,383.    Elapsed: 0:02:01.\n",
            "  Batch 5,720  of  8,383.    Elapsed: 0:02:02.\n",
            "  Batch 5,760  of  8,383.    Elapsed: 0:02:02.\n",
            "  Batch 5,800  of  8,383.    Elapsed: 0:02:03.\n",
            "  Batch 5,840  of  8,383.    Elapsed: 0:02:04.\n",
            "  Batch 5,880  of  8,383.    Elapsed: 0:02:05.\n",
            "  Batch 5,920  of  8,383.    Elapsed: 0:02:06.\n",
            "  Batch 5,960  of  8,383.    Elapsed: 0:02:07.\n",
            "  Batch 6,000  of  8,383.    Elapsed: 0:02:07.\n",
            "  Batch 6,040  of  8,383.    Elapsed: 0:02:08.\n",
            "  Batch 6,080  of  8,383.    Elapsed: 0:02:09.\n",
            "  Batch 6,120  of  8,383.    Elapsed: 0:02:10.\n",
            "  Batch 6,160  of  8,383.    Elapsed: 0:02:11.\n",
            "  Batch 6,200  of  8,383.    Elapsed: 0:02:12.\n",
            "  Batch 6,240  of  8,383.    Elapsed: 0:02:13.\n",
            "  Batch 6,280  of  8,383.    Elapsed: 0:02:14.\n",
            "  Batch 6,320  of  8,383.    Elapsed: 0:02:14.\n",
            "  Batch 6,360  of  8,383.    Elapsed: 0:02:15.\n",
            "  Batch 6,400  of  8,383.    Elapsed: 0:02:16.\n",
            "  Batch 6,440  of  8,383.    Elapsed: 0:02:17.\n",
            "  Batch 6,480  of  8,383.    Elapsed: 0:02:18.\n",
            "  Batch 6,520  of  8,383.    Elapsed: 0:02:19.\n",
            "  Batch 6,560  of  8,383.    Elapsed: 0:02:19.\n",
            "  Batch 6,600  of  8,383.    Elapsed: 0:02:20.\n",
            "  Batch 6,640  of  8,383.    Elapsed: 0:02:21.\n",
            "  Batch 6,680  of  8,383.    Elapsed: 0:02:22.\n",
            "  Batch 6,720  of  8,383.    Elapsed: 0:02:23.\n",
            "  Batch 6,760  of  8,383.    Elapsed: 0:02:24.\n",
            "  Batch 6,800  of  8,383.    Elapsed: 0:02:25.\n",
            "  Batch 6,840  of  8,383.    Elapsed: 0:02:26.\n",
            "  Batch 6,880  of  8,383.    Elapsed: 0:02:26.\n",
            "  Batch 6,920  of  8,383.    Elapsed: 0:02:27.\n",
            "  Batch 6,960  of  8,383.    Elapsed: 0:02:28.\n",
            "  Batch 7,000  of  8,383.    Elapsed: 0:02:29.\n",
            "  Batch 7,040  of  8,383.    Elapsed: 0:02:30.\n",
            "  Batch 7,080  of  8,383.    Elapsed: 0:02:30.\n",
            "  Batch 7,120  of  8,383.    Elapsed: 0:02:31.\n",
            "  Batch 7,160  of  8,383.    Elapsed: 0:02:32.\n",
            "  Batch 7,200  of  8,383.    Elapsed: 0:02:33.\n",
            "  Batch 7,240  of  8,383.    Elapsed: 0:02:34.\n",
            "  Batch 7,280  of  8,383.    Elapsed: 0:02:35.\n",
            "  Batch 7,320  of  8,383.    Elapsed: 0:02:36.\n",
            "  Batch 7,360  of  8,383.    Elapsed: 0:02:36.\n",
            "  Batch 7,400  of  8,383.    Elapsed: 0:02:37.\n",
            "  Batch 7,440  of  8,383.    Elapsed: 0:02:38.\n",
            "  Batch 7,480  of  8,383.    Elapsed: 0:02:39.\n",
            "  Batch 7,520  of  8,383.    Elapsed: 0:02:40.\n",
            "  Batch 7,560  of  8,383.    Elapsed: 0:02:41.\n",
            "  Batch 7,600  of  8,383.    Elapsed: 0:02:42.\n",
            "  Batch 7,640  of  8,383.    Elapsed: 0:02:42.\n",
            "  Batch 7,680  of  8,383.    Elapsed: 0:02:43.\n",
            "  Batch 7,720  of  8,383.    Elapsed: 0:02:44.\n",
            "  Batch 7,760  of  8,383.    Elapsed: 0:02:45.\n",
            "  Batch 7,800  of  8,383.    Elapsed: 0:02:46.\n",
            "  Batch 7,840  of  8,383.    Elapsed: 0:02:47.\n",
            "  Batch 7,880  of  8,383.    Elapsed: 0:02:47.\n",
            "  Batch 7,920  of  8,383.    Elapsed: 0:02:48.\n",
            "  Batch 7,960  of  8,383.    Elapsed: 0:02:49.\n",
            "  Batch 8,000  of  8,383.    Elapsed: 0:02:50.\n",
            "  Batch 8,040  of  8,383.    Elapsed: 0:02:51.\n",
            "  Batch 8,080  of  8,383.    Elapsed: 0:02:52.\n",
            "  Batch 8,120  of  8,383.    Elapsed: 0:02:53.\n",
            "  Batch 8,160  of  8,383.    Elapsed: 0:02:54.\n",
            "  Batch 8,200  of  8,383.    Elapsed: 0:02:54.\n",
            "  Batch 8,240  of  8,383.    Elapsed: 0:02:55.\n",
            "  Batch 8,280  of  8,383.    Elapsed: 0:02:56.\n",
            "  Batch 8,320  of  8,383.    Elapsed: 0:02:57.\n",
            "  Batch 8,360  of  8,383.    Elapsed: 0:02:58.\n",
            "\n",
            "  Average training loss: 0.32\n",
            "  Training epcoh took: 0:02:58\n",
            "\n",
            "Running Validation...\n",
            "  F1: 0.78\n",
            "  Validation Loss: 0.39\n",
            "  Validation took: 0:00:05\n",
            "\n",
            "Training complete!\n",
            "Total training took 0:12:14 (h:mm:ss)\n"
          ]
        }
      ],
      "source": [
        "training_stats = fine_tune_model(train_dataloader, validation_dataloader, average='macro')"
      ]
    },
    {
      "cell_type": "markdown",
      "metadata": {
        "id": "XTgVoalFSnTp"
      },
      "source": [
        "Посмотрим на саммари обучающего процесса!"
      ]
    },
    {
      "cell_type": "code",
      "execution_count": 144,
      "metadata": {
        "colab": {
          "base_uri": "https://localhost:8080/",
          "height": 206
        },
        "id": "UR75c5vVSnTp",
        "outputId": "b78fb286-f6ee-4be6-ced1-3edcf778593b"
      },
      "outputs": [
        {
          "data": {
            "application/vnd.google.colaboratory.intrinsic+json": {
              "summary": "{\n  \"name\": \"df_stats\",\n  \"rows\": 4,\n  \"fields\": [\n    {\n      \"column\": \"epoch\",\n      \"properties\": {\n        \"dtype\": \"number\",\n        \"std\": 1,\n        \"min\": 1,\n        \"max\": 4,\n        \"num_unique_values\": 4,\n        \"samples\": [\n          2,\n          4,\n          1\n        ],\n        \"semantic_type\": \"\",\n        \"description\": \"\"\n      }\n    },\n    {\n      \"column\": \"Training Loss\",\n      \"properties\": {\n        \"dtype\": \"number\",\n        \"std\": 0.10631928880425412,\n        \"min\": 0.3185670359266141,\n        \"max\": 0.5568140666471039,\n        \"num_unique_values\": 4,\n        \"samples\": [\n          0.39683288672556105,\n          0.3185670359266141,\n          0.5568140666471039\n        ],\n        \"semantic_type\": \"\",\n        \"description\": \"\"\n      }\n    },\n    {\n      \"column\": \"Valid. Loss\",\n      \"properties\": {\n        \"dtype\": \"number\",\n        \"std\": 0.013861035857284437,\n        \"min\": 0.39051907097065397,\n        \"max\": 0.4191266920241675,\n        \"num_unique_values\": 4,\n        \"samples\": [\n          0.39218514521762154,\n          0.3916131153926573,\n          0.4191266920241675\n        ],\n        \"semantic_type\": \"\",\n        \"description\": \"\"\n      }\n    },\n    {\n      \"column\": \"Valid. F1.\",\n      \"properties\": {\n        \"dtype\": \"number\",\n        \"std\": 0.010288895982875194,\n        \"min\": 0.7545385520986665,\n        \"max\": 0.7767712359400871,\n        \"num_unique_values\": 4,\n        \"samples\": [\n          0.7710066910653253,\n          0.775712764446567,\n          0.7545385520986665\n        ],\n        \"semantic_type\": \"\",\n        \"description\": \"\"\n      }\n    },\n    {\n      \"column\": \"Training Time\",\n      \"properties\": {\n        \"dtype\": \"object\",\n        \"num_unique_values\": 2,\n        \"samples\": [\n          \"0:02:58\",\n          \"0:02:59\"\n        ],\n        \"semantic_type\": \"\",\n        \"description\": \"\"\n      }\n    },\n    {\n      \"column\": \"Validation Time\",\n      \"properties\": {\n        \"dtype\": \"object\",\n        \"num_unique_values\": 2,\n        \"samples\": [\n          \"0:00:06\",\n          \"0:00:05\"\n        ],\n        \"semantic_type\": \"\",\n        \"description\": \"\"\n      }\n    }\n  ]\n}",
              "type": "dataframe",
              "variable_name": "df_stats"
            },
            "text/html": [
              "\n",
              "  <div id=\"df-38d07d58-e797-4721-b89b-0db2a88d381d\" class=\"colab-df-container\">\n",
              "    <div>\n",
              "<style scoped>\n",
              "    .dataframe tbody tr th:only-of-type {\n",
              "        vertical-align: middle;\n",
              "    }\n",
              "\n",
              "    .dataframe tbody tr th {\n",
              "        vertical-align: top;\n",
              "    }\n",
              "\n",
              "    .dataframe thead th {\n",
              "        text-align: right;\n",
              "    }\n",
              "</style>\n",
              "<table border=\"1\" class=\"dataframe\">\n",
              "  <thead>\n",
              "    <tr style=\"text-align: right;\">\n",
              "      <th></th>\n",
              "      <th>Training Loss</th>\n",
              "      <th>Valid. Loss</th>\n",
              "      <th>Valid. F1.</th>\n",
              "      <th>Training Time</th>\n",
              "      <th>Validation Time</th>\n",
              "    </tr>\n",
              "    <tr>\n",
              "      <th>epoch</th>\n",
              "      <th></th>\n",
              "      <th></th>\n",
              "      <th></th>\n",
              "      <th></th>\n",
              "      <th></th>\n",
              "    </tr>\n",
              "  </thead>\n",
              "  <tbody>\n",
              "    <tr>\n",
              "      <th>1</th>\n",
              "      <td>0.556814</td>\n",
              "      <td>0.419127</td>\n",
              "      <td>0.754539</td>\n",
              "      <td>0:02:59</td>\n",
              "      <td>0:00:05</td>\n",
              "    </tr>\n",
              "    <tr>\n",
              "      <th>2</th>\n",
              "      <td>0.396833</td>\n",
              "      <td>0.392185</td>\n",
              "      <td>0.771007</td>\n",
              "      <td>0:02:58</td>\n",
              "      <td>0:00:06</td>\n",
              "    </tr>\n",
              "    <tr>\n",
              "      <th>3</th>\n",
              "      <td>0.347324</td>\n",
              "      <td>0.390519</td>\n",
              "      <td>0.776771</td>\n",
              "      <td>0:02:58</td>\n",
              "      <td>0:00:05</td>\n",
              "    </tr>\n",
              "    <tr>\n",
              "      <th>4</th>\n",
              "      <td>0.318567</td>\n",
              "      <td>0.391613</td>\n",
              "      <td>0.775713</td>\n",
              "      <td>0:02:58</td>\n",
              "      <td>0:00:05</td>\n",
              "    </tr>\n",
              "  </tbody>\n",
              "</table>\n",
              "</div>\n",
              "    <div class=\"colab-df-buttons\">\n",
              "\n",
              "  <div class=\"colab-df-container\">\n",
              "    <button class=\"colab-df-convert\" onclick=\"convertToInteractive('df-38d07d58-e797-4721-b89b-0db2a88d381d')\"\n",
              "            title=\"Convert this dataframe to an interactive table.\"\n",
              "            style=\"display:none;\">\n",
              "\n",
              "  <svg xmlns=\"http://www.w3.org/2000/svg\" height=\"24px\" viewBox=\"0 -960 960 960\">\n",
              "    <path d=\"M120-120v-720h720v720H120Zm60-500h600v-160H180v160Zm220 220h160v-160H400v160Zm0 220h160v-160H400v160ZM180-400h160v-160H180v160Zm440 0h160v-160H620v160ZM180-180h160v-160H180v160Zm440 0h160v-160H620v160Z\"/>\n",
              "  </svg>\n",
              "    </button>\n",
              "\n",
              "  <style>\n",
              "    .colab-df-container {\n",
              "      display:flex;\n",
              "      gap: 12px;\n",
              "    }\n",
              "\n",
              "    .colab-df-convert {\n",
              "      background-color: #E8F0FE;\n",
              "      border: none;\n",
              "      border-radius: 50%;\n",
              "      cursor: pointer;\n",
              "      display: none;\n",
              "      fill: #1967D2;\n",
              "      height: 32px;\n",
              "      padding: 0 0 0 0;\n",
              "      width: 32px;\n",
              "    }\n",
              "\n",
              "    .colab-df-convert:hover {\n",
              "      background-color: #E2EBFA;\n",
              "      box-shadow: 0px 1px 2px rgba(60, 64, 67, 0.3), 0px 1px 3px 1px rgba(60, 64, 67, 0.15);\n",
              "      fill: #174EA6;\n",
              "    }\n",
              "\n",
              "    .colab-df-buttons div {\n",
              "      margin-bottom: 4px;\n",
              "    }\n",
              "\n",
              "    [theme=dark] .colab-df-convert {\n",
              "      background-color: #3B4455;\n",
              "      fill: #D2E3FC;\n",
              "    }\n",
              "\n",
              "    [theme=dark] .colab-df-convert:hover {\n",
              "      background-color: #434B5C;\n",
              "      box-shadow: 0px 1px 3px 1px rgba(0, 0, 0, 0.15);\n",
              "      filter: drop-shadow(0px 1px 2px rgba(0, 0, 0, 0.3));\n",
              "      fill: #FFFFFF;\n",
              "    }\n",
              "  </style>\n",
              "\n",
              "    <script>\n",
              "      const buttonEl =\n",
              "        document.querySelector('#df-38d07d58-e797-4721-b89b-0db2a88d381d button.colab-df-convert');\n",
              "      buttonEl.style.display =\n",
              "        google.colab.kernel.accessAllowed ? 'block' : 'none';\n",
              "\n",
              "      async function convertToInteractive(key) {\n",
              "        const element = document.querySelector('#df-38d07d58-e797-4721-b89b-0db2a88d381d');\n",
              "        const dataTable =\n",
              "          await google.colab.kernel.invokeFunction('convertToInteractive',\n",
              "                                                    [key], {});\n",
              "        if (!dataTable) return;\n",
              "\n",
              "        const docLinkHtml = 'Like what you see? Visit the ' +\n",
              "          '<a target=\"_blank\" href=https://colab.research.google.com/notebooks/data_table.ipynb>data table notebook</a>'\n",
              "          + ' to learn more about interactive tables.';\n",
              "        element.innerHTML = '';\n",
              "        dataTable['output_type'] = 'display_data';\n",
              "        await google.colab.output.renderOutput(dataTable, element);\n",
              "        const docLink = document.createElement('div');\n",
              "        docLink.innerHTML = docLinkHtml;\n",
              "        element.appendChild(docLink);\n",
              "      }\n",
              "    </script>\n",
              "  </div>\n",
              "\n",
              "\n",
              "<div id=\"df-317939a3-765e-4e43-9cd6-d9283f911bb7\">\n",
              "  <button class=\"colab-df-quickchart\" onclick=\"quickchart('df-317939a3-765e-4e43-9cd6-d9283f911bb7')\"\n",
              "            title=\"Suggest charts\"\n",
              "            style=\"display:none;\">\n",
              "\n",
              "<svg xmlns=\"http://www.w3.org/2000/svg\" height=\"24px\"viewBox=\"0 0 24 24\"\n",
              "     width=\"24px\">\n",
              "    <g>\n",
              "        <path d=\"M19 3H5c-1.1 0-2 .9-2 2v14c0 1.1.9 2 2 2h14c1.1 0 2-.9 2-2V5c0-1.1-.9-2-2-2zM9 17H7v-7h2v7zm4 0h-2V7h2v10zm4 0h-2v-4h2v4z\"/>\n",
              "    </g>\n",
              "</svg>\n",
              "  </button>\n",
              "\n",
              "<style>\n",
              "  .colab-df-quickchart {\n",
              "      --bg-color: #E8F0FE;\n",
              "      --fill-color: #1967D2;\n",
              "      --hover-bg-color: #E2EBFA;\n",
              "      --hover-fill-color: #174EA6;\n",
              "      --disabled-fill-color: #AAA;\n",
              "      --disabled-bg-color: #DDD;\n",
              "  }\n",
              "\n",
              "  [theme=dark] .colab-df-quickchart {\n",
              "      --bg-color: #3B4455;\n",
              "      --fill-color: #D2E3FC;\n",
              "      --hover-bg-color: #434B5C;\n",
              "      --hover-fill-color: #FFFFFF;\n",
              "      --disabled-bg-color: #3B4455;\n",
              "      --disabled-fill-color: #666;\n",
              "  }\n",
              "\n",
              "  .colab-df-quickchart {\n",
              "    background-color: var(--bg-color);\n",
              "    border: none;\n",
              "    border-radius: 50%;\n",
              "    cursor: pointer;\n",
              "    display: none;\n",
              "    fill: var(--fill-color);\n",
              "    height: 32px;\n",
              "    padding: 0;\n",
              "    width: 32px;\n",
              "  }\n",
              "\n",
              "  .colab-df-quickchart:hover {\n",
              "    background-color: var(--hover-bg-color);\n",
              "    box-shadow: 0 1px 2px rgba(60, 64, 67, 0.3), 0 1px 3px 1px rgba(60, 64, 67, 0.15);\n",
              "    fill: var(--button-hover-fill-color);\n",
              "  }\n",
              "\n",
              "  .colab-df-quickchart-complete:disabled,\n",
              "  .colab-df-quickchart-complete:disabled:hover {\n",
              "    background-color: var(--disabled-bg-color);\n",
              "    fill: var(--disabled-fill-color);\n",
              "    box-shadow: none;\n",
              "  }\n",
              "\n",
              "  .colab-df-spinner {\n",
              "    border: 2px solid var(--fill-color);\n",
              "    border-color: transparent;\n",
              "    border-bottom-color: var(--fill-color);\n",
              "    animation:\n",
              "      spin 1s steps(1) infinite;\n",
              "  }\n",
              "\n",
              "  @keyframes spin {\n",
              "    0% {\n",
              "      border-color: transparent;\n",
              "      border-bottom-color: var(--fill-color);\n",
              "      border-left-color: var(--fill-color);\n",
              "    }\n",
              "    20% {\n",
              "      border-color: transparent;\n",
              "      border-left-color: var(--fill-color);\n",
              "      border-top-color: var(--fill-color);\n",
              "    }\n",
              "    30% {\n",
              "      border-color: transparent;\n",
              "      border-left-color: var(--fill-color);\n",
              "      border-top-color: var(--fill-color);\n",
              "      border-right-color: var(--fill-color);\n",
              "    }\n",
              "    40% {\n",
              "      border-color: transparent;\n",
              "      border-right-color: var(--fill-color);\n",
              "      border-top-color: var(--fill-color);\n",
              "    }\n",
              "    60% {\n",
              "      border-color: transparent;\n",
              "      border-right-color: var(--fill-color);\n",
              "    }\n",
              "    80% {\n",
              "      border-color: transparent;\n",
              "      border-right-color: var(--fill-color);\n",
              "      border-bottom-color: var(--fill-color);\n",
              "    }\n",
              "    90% {\n",
              "      border-color: transparent;\n",
              "      border-bottom-color: var(--fill-color);\n",
              "    }\n",
              "  }\n",
              "</style>\n",
              "\n",
              "  <script>\n",
              "    async function quickchart(key) {\n",
              "      const quickchartButtonEl =\n",
              "        document.querySelector('#' + key + ' button');\n",
              "      quickchartButtonEl.disabled = true;  // To prevent multiple clicks.\n",
              "      quickchartButtonEl.classList.add('colab-df-spinner');\n",
              "      try {\n",
              "        const charts = await google.colab.kernel.invokeFunction(\n",
              "            'suggestCharts', [key], {});\n",
              "      } catch (error) {\n",
              "        console.error('Error during call to suggestCharts:', error);\n",
              "      }\n",
              "      quickchartButtonEl.classList.remove('colab-df-spinner');\n",
              "      quickchartButtonEl.classList.add('colab-df-quickchart-complete');\n",
              "    }\n",
              "    (() => {\n",
              "      let quickchartButtonEl =\n",
              "        document.querySelector('#df-317939a3-765e-4e43-9cd6-d9283f911bb7 button');\n",
              "      quickchartButtonEl.style.display =\n",
              "        google.colab.kernel.accessAllowed ? 'block' : 'none';\n",
              "    })();\n",
              "  </script>\n",
              "</div>\n",
              "    </div>\n",
              "  </div>\n"
            ],
            "text/plain": [
              "       Training Loss  Valid. Loss  Valid. F1. Training Time Validation Time\n",
              "epoch                                                                      \n",
              "1           0.556814     0.419127    0.754539       0:02:59         0:00:05\n",
              "2           0.396833     0.392185    0.771007       0:02:58         0:00:06\n",
              "3           0.347324     0.390519    0.776771       0:02:58         0:00:05\n",
              "4           0.318567     0.391613    0.775713       0:02:58         0:00:05"
            ]
          },
          "execution_count": 144,
          "metadata": {},
          "output_type": "execute_result"
        }
      ],
      "source": [
        "# Display floats with two decimal places.\n",
        "pd.set_option(\"display.max_columns\", 100)\n",
        "\n",
        "# Create a DataFrame from our training statistics.\n",
        "df_stats = pd.DataFrame(data=training_stats)\n",
        "\n",
        "# Use the 'epoch' as the row index.\n",
        "df_stats = df_stats.set_index('epoch')\n",
        "\n",
        "# Display the table.\n",
        "df_stats"
      ]
    },
    {
      "cell_type": "markdown",
      "metadata": {
        "id": "7ktm7Kl4SnTq"
      },
      "source": [
        "Обратите внимание, что loss на обучении непрерывно падает, а на валидации начинает возрастать. Это говорит о том, что модель переобучается.\n",
        "\n",
        "Loss на валидации - более надежный способ, чем F1, так как F1 не зависит от типа ошибки и уверенности классификатора в ответе.\n"
      ]
    },
    {
      "cell_type": "code",
      "execution_count": 145,
      "metadata": {
        "colab": {
          "base_uri": "https://localhost:8080/",
          "height": 553
        },
        "id": "f5yow7huSnTq",
        "outputId": "ad725be0-37cd-46b7-c8f8-ec7474a0074f"
      },
      "outputs": [
        {
          "data": {
            "image/png": "[encoded data removed]",
            "text/plain": [
              "<Figure size 1200x600 with 1 Axes>"
            ]
          },
          "metadata": {},
          "output_type": "display_data"
        }
      ],
      "source": [
        "# Use plot styling from seaborn.\n",
        "sns.set(style='darkgrid')\n",
        "\n",
        "# Increase the plot size and font size.\n",
        "sns.set(font_scale=1.5)\n",
        "plt.rcParams[\"figure.figsize\"] = (12,6)\n",
        "\n",
        "# Plot the learning curve.\n",
        "plt.plot(df_stats['Training Loss'], 'b-o', label=\"Training\")\n",
        "plt.plot(df_stats['Valid. Loss'], 'g-o', label=\"Validation\")\n",
        "\n",
        "# Label the plot.\n",
        "plt.title(\"Training & Validation Loss\")\n",
        "plt.xlabel(\"Epoch\")\n",
        "plt.ylabel(\"Loss\")\n",
        "plt.legend()\n",
        "plt.xticks([1, 2, 3, 4])\n",
        "\n",
        "plt.show()"
      ]
    },
    {
      "cell_type": "markdown",
      "metadata": {
        "id": "xsFIFKQxSnTq"
      },
      "source": [
        "# 5. Performance On Test Set"
      ]
    },
    {
      "cell_type": "markdown",
      "metadata": {
        "id": "NqFcV0bxSnTq"
      },
      "source": [
        "Качество на отложенной выборке. Для оценки качества зафайнтьюненой модели оценим качество на тесте с использованием F1_score."
      ]
    },
    {
      "cell_type": "markdown",
      "metadata": {
        "id": "s5mcohRhSnTq"
      },
      "source": [
        "### 5.1. Подготовка данных\n"
      ]
    },
    {
      "cell_type": "markdown",
      "metadata": {
        "id": "pdyK3x9YSnTr"
      },
      "source": [
        "\n",
        "Применим к тестовым данным те же шаги предобработки данных, которые мы применяли для обучающей и валидационной выборкок."
      ]
    },
    {
      "cell_type": "code",
      "execution_count": 146,
      "metadata": {
        "id": "JrhTd3e0SnTr"
      },
      "outputs": [],
      "source": [
        "df = pd.read_csv('drive/MyDrive/test_data.csv')"
      ]
    },
    {
      "cell_type": "code",
      "execution_count": 147,
      "metadata": {
        "colab": {
          "base_uri": "https://localhost:8080/"
        },
        "id": "pHGu8DbPSnTr",
        "outputId": "1019e0a9-6de4-4140-b630-d4c9889ec203"
      },
      "outputs": [
        {
          "name": "stdout",
          "output_type": "stream",
          "text": [
            "Number of test sentences: 52,598\n",
            "\n"
          ]
        }
      ],
      "source": [
        "# Report the number of sentences.\n",
        "print('Number of test sentences: {:,}\\n'.format(df.shape[0]))"
      ]
    },
    {
      "cell_type": "code",
      "execution_count": 148,
      "metadata": {
        "colab": {
          "base_uri": "https://localhost:8080/",
          "height": 269
        },
        "id": "8MWAj5WsL4Gz",
        "outputId": "e4f6d197-47a4-48c7-9e56-60412fb519a6"
      },
      "outputs": [
        {
          "data": {
            "application/vnd.google.colaboratory.intrinsic+json": {
              "summary": "{\n  \"name\": \"df\",\n  \"rows\": 6,\n  \"fields\": [\n    {\n      \"column\": \"category\",\n      \"properties\": {\n        \"dtype\": \"string\",\n        \"num_unique_values\": 6,\n        \"samples\": [\n          \"\\u0410\\u0434\\u043c\\u0438\\u043d\\u0438\\u0441\\u0442\\u0440\\u0430\\u0442\\u0438\\u0432\\u043d\\u0430\\u044f \\u0434\\u0435\\u044f\\u0442\\u0435\\u043b\\u044c\\u043d\\u043e\\u0441\\u0442\\u044c\",\n          \"\\u0412\\u043d\\u0435\\u0443\\u0447\\u0435\\u0431\\u043d\\u0430\\u044f \\u0434\\u0435\\u044f\\u0442\\u0435\\u043b\\u044c\\u043d\\u043e\\u0441\\u0442\\u044c\",\n          \"\\u0424\\u0438\\u043d\\u0430\\u043d\\u0441\\u043e\\u0432\\u043e-\\u044d\\u043a\\u043e\\u043d\\u043e\\u043c\\u0438\\u0447\\u0435\\u0441\\u043a\\u0430\\u044f \\u0434\\u0435\\u044f\\u0442\\u0435\\u043b\\u044c\\u043d\\u043e\\u0441\\u0442\\u044c\"\n        ],\n        \"semantic_type\": \"\",\n        \"description\": \"\"\n      }\n    },\n    {\n      \"column\": \"review\",\n      \"properties\": {\n        \"dtype\": \"number\",\n        \"std\": 10273,\n        \"min\": 2388,\n        \"max\": 29279,\n        \"num_unique_values\": 6,\n        \"samples\": [\n          3753,\n          2388,\n          2761\n        ],\n        \"semantic_type\": \"\",\n        \"description\": \"\"\n      }\n    },\n    {\n      \"column\": \"review_snippet\",\n      \"properties\": {\n        \"dtype\": \"number\",\n        \"std\": 10273,\n        \"min\": 2388,\n        \"max\": 29279,\n        \"num_unique_values\": 6,\n        \"samples\": [\n          3753,\n          2388,\n          2761\n        ],\n        \"semantic_type\": \"\",\n        \"description\": \"\"\n      }\n    }\n  ]\n}",
              "type": "dataframe"
            },
            "text/html": [
              "\n",
              "  <div id=\"df-75b53bb0-9101-4026-b85a-6f7acf7f58f0\" class=\"colab-df-container\">\n",
              "    <div>\n",
              "<style scoped>\n",
              "    .dataframe tbody tr th:only-of-type {\n",
              "        vertical-align: middle;\n",
              "    }\n",
              "\n",
              "    .dataframe tbody tr th {\n",
              "        vertical-align: top;\n",
              "    }\n",
              "\n",
              "    .dataframe thead th {\n",
              "        text-align: right;\n",
              "    }\n",
              "</style>\n",
              "<table border=\"1\" class=\"dataframe\">\n",
              "  <thead>\n",
              "    <tr style=\"text-align: right;\">\n",
              "      <th></th>\n",
              "      <th>review</th>\n",
              "      <th>review_snippet</th>\n",
              "    </tr>\n",
              "    <tr>\n",
              "      <th>category</th>\n",
              "      <th></th>\n",
              "      <th></th>\n",
              "    </tr>\n",
              "  </thead>\n",
              "  <tbody>\n",
              "    <tr>\n",
              "      <th>Административная деятельность</th>\n",
              "      <td>3753</td>\n",
              "      <td>3753</td>\n",
              "    </tr>\n",
              "    <tr>\n",
              "      <th>Внеучебная деятельность</th>\n",
              "      <td>2388</td>\n",
              "      <td>2388</td>\n",
              "    </tr>\n",
              "    <tr>\n",
              "      <th>Инфраструктура</th>\n",
              "      <td>6878</td>\n",
              "      <td>6878</td>\n",
              "    </tr>\n",
              "    <tr>\n",
              "      <th>Лояльность к ВУЗу</th>\n",
              "      <td>7539</td>\n",
              "      <td>7539</td>\n",
              "    </tr>\n",
              "    <tr>\n",
              "      <th>Образовательная деятельность + НИР</th>\n",
              "      <td>29279</td>\n",
              "      <td>29279</td>\n",
              "    </tr>\n",
              "    <tr>\n",
              "      <th>Финансово-экономическая деятельность</th>\n",
              "      <td>2761</td>\n",
              "      <td>2761</td>\n",
              "    </tr>\n",
              "  </tbody>\n",
              "</table>\n",
              "</div>\n",
              "    <div class=\"colab-df-buttons\">\n",
              "\n",
              "  <div class=\"colab-df-container\">\n",
              "    <button class=\"colab-df-convert\" onclick=\"convertToInteractive('df-75b53bb0-9101-4026-b85a-6f7acf7f58f0')\"\n",
              "            title=\"Convert this dataframe to an interactive table.\"\n",
              "            style=\"display:none;\">\n",
              "\n",
              "  <svg xmlns=\"http://www.w3.org/2000/svg\" height=\"24px\" viewBox=\"0 -960 960 960\">\n",
              "    <path d=\"M120-120v-720h720v720H120Zm60-500h600v-160H180v160Zm220 220h160v-160H400v160Zm0 220h160v-160H400v160ZM180-400h160v-160H180v160Zm440 0h160v-160H620v160ZM180-180h160v-160H180v160Zm440 0h160v-160H620v160Z\"/>\n",
              "  </svg>\n",
              "    </button>\n",
              "\n",
              "  <style>\n",
              "    .colab-df-container {\n",
              "      display:flex;\n",
              "      gap: 12px;\n",
              "    }\n",
              "\n",
              "    .colab-df-convert {\n",
              "      background-color: #E8F0FE;\n",
              "      border: none;\n",
              "      border-radius: 50%;\n",
              "      cursor: pointer;\n",
              "      display: none;\n",
              "      fill: #1967D2;\n",
              "      height: 32px;\n",
              "      padding: 0 0 0 0;\n",
              "      width: 32px;\n",
              "    }\n",
              "\n",
              "    .colab-df-convert:hover {\n",
              "      background-color: #E2EBFA;\n",
              "      box-shadow: 0px 1px 2px rgba(60, 64, 67, 0.3), 0px 1px 3px 1px rgba(60, 64, 67, 0.15);\n",
              "      fill: #174EA6;\n",
              "    }\n",
              "\n",
              "    .colab-df-buttons div {\n",
              "      margin-bottom: 4px;\n",
              "    }\n",
              "\n",
              "    [theme=dark] .colab-df-convert {\n",
              "      background-color: #3B4455;\n",
              "      fill: #D2E3FC;\n",
              "    }\n",
              "\n",
              "    [theme=dark] .colab-df-convert:hover {\n",
              "      background-color: #434B5C;\n",
              "      box-shadow: 0px 1px 3px 1px rgba(0, 0, 0, 0.15);\n",
              "      filter: drop-shadow(0px 1px 2px rgba(0, 0, 0, 0.3));\n",
              "      fill: #FFFFFF;\n",
              "    }\n",
              "  </style>\n",
              "\n",
              "    <script>\n",
              "      const buttonEl =\n",
              "        document.querySelector('#df-75b53bb0-9101-4026-b85a-6f7acf7f58f0 button.colab-df-convert');\n",
              "      buttonEl.style.display =\n",
              "        google.colab.kernel.accessAllowed ? 'block' : 'none';\n",
              "\n",
              "      async function convertToInteractive(key) {\n",
              "        const element = document.querySelector('#df-75b53bb0-9101-4026-b85a-6f7acf7f58f0');\n",
              "        const dataTable =\n",
              "          await google.colab.kernel.invokeFunction('convertToInteractive',\n",
              "                                                    [key], {});\n",
              "        if (!dataTable) return;\n",
              "\n",
              "        const docLinkHtml = 'Like what you see? Visit the ' +\n",
              "          '<a target=\"_blank\" href=https://colab.research.google.com/notebooks/data_table.ipynb>data table notebook</a>'\n",
              "          + ' to learn more about interactive tables.';\n",
              "        element.innerHTML = '';\n",
              "        dataTable['output_type'] = 'display_data';\n",
              "        await google.colab.output.renderOutput(dataTable, element);\n",
              "        const docLink = document.createElement('div');\n",
              "        docLink.innerHTML = docLinkHtml;\n",
              "        element.appendChild(docLink);\n",
              "      }\n",
              "    </script>\n",
              "  </div>\n",
              "\n",
              "\n",
              "<div id=\"df-a3eeba04-6934-47f8-9e2a-7b98687d057a\">\n",
              "  <button class=\"colab-df-quickchart\" onclick=\"quickchart('df-a3eeba04-6934-47f8-9e2a-7b98687d057a')\"\n",
              "            title=\"Suggest charts\"\n",
              "            style=\"display:none;\">\n",
              "\n",
              "<svg xmlns=\"http://www.w3.org/2000/svg\" height=\"24px\"viewBox=\"0 0 24 24\"\n",
              "     width=\"24px\">\n",
              "    <g>\n",
              "        <path d=\"M19 3H5c-1.1 0-2 .9-2 2v14c0 1.1.9 2 2 2h14c1.1 0 2-.9 2-2V5c0-1.1-.9-2-2-2zM9 17H7v-7h2v7zm4 0h-2V7h2v10zm4 0h-2v-4h2v4z\"/>\n",
              "    </g>\n",
              "</svg>\n",
              "  </button>\n",
              "\n",
              "<style>\n",
              "  .colab-df-quickchart {\n",
              "      --bg-color: #E8F0FE;\n",
              "      --fill-color: #1967D2;\n",
              "      --hover-bg-color: #E2EBFA;\n",
              "      --hover-fill-color: #174EA6;\n",
              "      --disabled-fill-color: #AAA;\n",
              "      --disabled-bg-color: #DDD;\n",
              "  }\n",
              "\n",
              "  [theme=dark] .colab-df-quickchart {\n",
              "      --bg-color: #3B4455;\n",
              "      --fill-color: #D2E3FC;\n",
              "      --hover-bg-color: #434B5C;\n",
              "      --hover-fill-color: #FFFFFF;\n",
              "      --disabled-bg-color: #3B4455;\n",
              "      --disabled-fill-color: #666;\n",
              "  }\n",
              "\n",
              "  .colab-df-quickchart {\n",
              "    background-color: var(--bg-color);\n",
              "    border: none;\n",
              "    border-radius: 50%;\n",
              "    cursor: pointer;\n",
              "    display: none;\n",
              "    fill: var(--fill-color);\n",
              "    height: 32px;\n",
              "    padding: 0;\n",
              "    width: 32px;\n",
              "  }\n",
              "\n",
              "  .colab-df-quickchart:hover {\n",
              "    background-color: var(--hover-bg-color);\n",
              "    box-shadow: 0 1px 2px rgba(60, 64, 67, 0.3), 0 1px 3px 1px rgba(60, 64, 67, 0.15);\n",
              "    fill: var(--button-hover-fill-color);\n",
              "  }\n",
              "\n",
              "  .colab-df-quickchart-complete:disabled,\n",
              "  .colab-df-quickchart-complete:disabled:hover {\n",
              "    background-color: var(--disabled-bg-color);\n",
              "    fill: var(--disabled-fill-color);\n",
              "    box-shadow: none;\n",
              "  }\n",
              "\n",
              "  .colab-df-spinner {\n",
              "    border: 2px solid var(--fill-color);\n",
              "    border-color: transparent;\n",
              "    border-bottom-color: var(--fill-color);\n",
              "    animation:\n",
              "      spin 1s steps(1) infinite;\n",
              "  }\n",
              "\n",
              "  @keyframes spin {\n",
              "    0% {\n",
              "      border-color: transparent;\n",
              "      border-bottom-color: var(--fill-color);\n",
              "      border-left-color: var(--fill-color);\n",
              "    }\n",
              "    20% {\n",
              "      border-color: transparent;\n",
              "      border-left-color: var(--fill-color);\n",
              "      border-top-color: var(--fill-color);\n",
              "    }\n",
              "    30% {\n",
              "      border-color: transparent;\n",
              "      border-left-color: var(--fill-color);\n",
              "      border-top-color: var(--fill-color);\n",
              "      border-right-color: var(--fill-color);\n",
              "    }\n",
              "    40% {\n",
              "      border-color: transparent;\n",
              "      border-right-color: var(--fill-color);\n",
              "      border-top-color: var(--fill-color);\n",
              "    }\n",
              "    60% {\n",
              "      border-color: transparent;\n",
              "      border-right-color: var(--fill-color);\n",
              "    }\n",
              "    80% {\n",
              "      border-color: transparent;\n",
              "      border-right-color: var(--fill-color);\n",
              "      border-bottom-color: var(--fill-color);\n",
              "    }\n",
              "    90% {\n",
              "      border-color: transparent;\n",
              "      border-bottom-color: var(--fill-color);\n",
              "    }\n",
              "  }\n",
              "</style>\n",
              "\n",
              "  <script>\n",
              "    async function quickchart(key) {\n",
              "      const quickchartButtonEl =\n",
              "        document.querySelector('#' + key + ' button');\n",
              "      quickchartButtonEl.disabled = true;  // To prevent multiple clicks.\n",
              "      quickchartButtonEl.classList.add('colab-df-spinner');\n",
              "      try {\n",
              "        const charts = await google.colab.kernel.invokeFunction(\n",
              "            'suggestCharts', [key], {});\n",
              "      } catch (error) {\n",
              "        console.error('Error during call to suggestCharts:', error);\n",
              "      }\n",
              "      quickchartButtonEl.classList.remove('colab-df-spinner');\n",
              "      quickchartButtonEl.classList.add('colab-df-quickchart-complete');\n",
              "    }\n",
              "    (() => {\n",
              "      let quickchartButtonEl =\n",
              "        document.querySelector('#df-a3eeba04-6934-47f8-9e2a-7b98687d057a button');\n",
              "      quickchartButtonEl.style.display =\n",
              "        google.colab.kernel.accessAllowed ? 'block' : 'none';\n",
              "    })();\n",
              "  </script>\n",
              "</div>\n",
              "    </div>\n",
              "  </div>\n"
            ],
            "text/plain": [
              "                                      review  review_snippet\n",
              "category                                                    \n",
              "Административная деятельность           3753            3753\n",
              "Внеучебная деятельность                 2388            2388\n",
              "Инфраструктура                          6878            6878\n",
              "Лояльность к ВУЗу                       7539            7539\n",
              "Образовательная деятельность + НИР     29279           29279\n",
              "Финансово-экономическая деятельность    2761            2761"
            ]
          },
          "execution_count": 148,
          "metadata": {},
          "output_type": "execute_result"
        }
      ],
      "source": [
        "df.groupby(label_column).count()"
      ]
    },
    {
      "cell_type": "code",
      "execution_count": 149,
      "metadata": {
        "colab": {
          "base_uri": "https://localhost:8080/",
          "height": 458
        },
        "id": "RbX1jF69NO74",
        "outputId": "ce47b409-fa22-4e0f-e1bf-d18803fa6b93"
      },
      "outputs": [
        {
          "data": {
            "text/html": [
              "<div>\n",
              "<style scoped>\n",
              "    .dataframe tbody tr th:only-of-type {\n",
              "        vertical-align: middle;\n",
              "    }\n",
              "\n",
              "    .dataframe tbody tr th {\n",
              "        vertical-align: top;\n",
              "    }\n",
              "\n",
              "    .dataframe thead th {\n",
              "        text-align: right;\n",
              "    }\n",
              "</style>\n",
              "<table border=\"1\" class=\"dataframe\">\n",
              "  <thead>\n",
              "    <tr style=\"text-align: right;\">\n",
              "      <th></th>\n",
              "      <th>category</th>\n",
              "    </tr>\n",
              "  </thead>\n",
              "  <tbody>\n",
              "    <tr>\n",
              "      <th>0</th>\n",
              "      <td>Инфраструктура</td>\n",
              "    </tr>\n",
              "    <tr>\n",
              "      <th>1</th>\n",
              "      <td>Финансово-экономическая деятельность</td>\n",
              "    </tr>\n",
              "    <tr>\n",
              "      <th>2</th>\n",
              "      <td>Лояльность к ВУЗу</td>\n",
              "    </tr>\n",
              "    <tr>\n",
              "      <th>3</th>\n",
              "      <td>Образовательная деятельность + НИР</td>\n",
              "    </tr>\n",
              "    <tr>\n",
              "      <th>4</th>\n",
              "      <td>Инфраструктура</td>\n",
              "    </tr>\n",
              "    <tr>\n",
              "      <th>...</th>\n",
              "      <td>...</td>\n",
              "    </tr>\n",
              "    <tr>\n",
              "      <th>52593</th>\n",
              "      <td>Инфраструктура</td>\n",
              "    </tr>\n",
              "    <tr>\n",
              "      <th>52594</th>\n",
              "      <td>Образовательная деятельность + НИР</td>\n",
              "    </tr>\n",
              "    <tr>\n",
              "      <th>52595</th>\n",
              "      <td>Образовательная деятельность + НИР</td>\n",
              "    </tr>\n",
              "    <tr>\n",
              "      <th>52596</th>\n",
              "      <td>Инфраструктура</td>\n",
              "    </tr>\n",
              "    <tr>\n",
              "      <th>52597</th>\n",
              "      <td>Лояльность к ВУЗу</td>\n",
              "    </tr>\n",
              "  </tbody>\n",
              "</table>\n",
              "<p>52598 rows × 1 columns</p>\n",
              "</div><br><label><b>dtype:</b> object</label>"
            ],
            "text/plain": [
              "0                              Инфраструктура\n",
              "1        Финансово-экономическая деятельность\n",
              "2                           Лояльность к ВУЗу\n",
              "3          Образовательная деятельность + НИР\n",
              "4                              Инфраструктура\n",
              "                         ...                 \n",
              "52593                          Инфраструктура\n",
              "52594      Образовательная деятельность + НИР\n",
              "52595      Образовательная деятельность + НИР\n",
              "52596                          Инфраструктура\n",
              "52597                       Лояльность к ВУЗу\n",
              "Name: category, Length: 52598, dtype: object"
            ]
          },
          "execution_count": 149,
          "metadata": {},
          "output_type": "execute_result"
        }
      ],
      "source": [
        "df[label_column]"
      ]
    },
    {
      "cell_type": "code",
      "execution_count": 150,
      "metadata": {
        "id": "T_mEgwBUnGKW"
      },
      "outputs": [],
      "source": [
        "# Create sentence and label lists\n",
        "texts = df[text_column].astype(str).values\n",
        "labels = encoder.fit_transform(df[label_column])"
      ]
    },
    {
      "cell_type": "code",
      "execution_count": 151,
      "metadata": {
        "colab": {
          "base_uri": "https://localhost:8080/"
        },
        "id": "dEVuH7-OGJEs",
        "outputId": "8ead5569-884b-42a7-bcde-37d010e52407"
      },
      "outputs": [
        {
          "data": {
            "text/plain": [
              "array(['Огромная территория,со своим спорткомплексом, что безумно удобно,прекрасные парки,прям как в санатории, а учиться как здорово в такой красоте!))',\n",
              "       'Студенту некуда деться (разве что перевестись в другой ВУЗ), и он решает остаться здесь, платит постоянно растущие суммы за семестр (но это мелочи'],\n",
              "      dtype=object)"
            ]
          },
          "execution_count": 151,
          "metadata": {},
          "output_type": "execute_result"
        }
      ],
      "source": [
        "texts[:2]"
      ]
    },
    {
      "cell_type": "code",
      "execution_count": 152,
      "metadata": {
        "colab": {
          "base_uri": "https://localhost:8080/"
        },
        "id": "1hxs3u9QGJEs",
        "outputId": "2a7ea767-bc53-4b05-f20c-55dfd29354e9"
      },
      "outputs": [
        {
          "data": {
            "text/plain": [
              "array([2, 5, 3, ..., 4, 2, 3])"
            ]
          },
          "execution_count": 152,
          "metadata": {},
          "output_type": "execute_result"
        }
      ],
      "source": [
        "labels"
      ]
    },
    {
      "cell_type": "code",
      "execution_count": 153,
      "metadata": {
        "id": "L48TWAzfGJEs"
      },
      "outputs": [],
      "source": [
        "# Tokenize all of the texts and map the tokens to thier word IDs.\n",
        "input_ids, attention_masks, labels = preparing_text_and_labels(texts, labels, max_length, truncation=True) #Truncation for evoiding long cases\n"
      ]
    },
    {
      "cell_type": "code",
      "execution_count": 154,
      "metadata": {
        "id": "bgu1IaDNGJEs"
      },
      "outputs": [],
      "source": [
        "# Create the DataLoader.\n",
        "prediction_data = TensorDataset(input_ids, attention_masks, labels)\n",
        "prediction_sampler = SequentialSampler(prediction_data)\n",
        "prediction_dataloader = DataLoader(prediction_data, sampler=prediction_sampler, batch_size=batch_size)"
      ]
    },
    {
      "cell_type": "markdown",
      "metadata": {
        "id": "N_ZPz1HASnTr"
      },
      "source": [
        "## 5.2. Оценка на тесте\n"
      ]
    },
    {
      "cell_type": "markdown",
      "metadata": {
        "id": "HuCrwDG9SnTr"
      },
      "source": [
        "\n",
        "После того, как мы подготовили тестовые данные, сгенерируем предсказания с использованием дообученной модели."
      ]
    },
    {
      "cell_type": "code",
      "execution_count": 155,
      "metadata": {
        "id": "b1fLXxn-SnTr"
      },
      "outputs": [],
      "source": [
        "# Prediction on test set\n",
        "def get_predictions(model, prediction_dataloader):\n",
        "  print('Predicting labels for {:,} test texts...'.format(len(input_ids)))\n",
        "  # Put model in evaluation mode\n",
        "  model.eval()\n",
        "\n",
        "  # Tracking variables\n",
        "  predictions , true_labels = [], []\n",
        "\n",
        "  # Predict\n",
        "  for batch in prediction_dataloader:\n",
        "    # Add batch to GPU\n",
        "    batch = tuple(t.to(device) for t in batch)\n",
        "\n",
        "    # Unpack the inputs from our dataloader\n",
        "    b_input_ids, b_input_mask, b_labels = batch\n",
        "\n",
        "    with torch.no_grad():\n",
        "        # Forward pass, calculate logit predictions\n",
        "        outputs = model(b_input_ids, token_type_ids=None,\n",
        "                        attention_mask=b_input_mask)\n",
        "\n",
        "    logits = outputs[0]\n",
        "\n",
        "    # Move logits and labels to CPU\n",
        "    logits = logits.detach().cpu().numpy()\n",
        "    label_ids = b_labels.to('cpu').numpy()\n",
        "\n",
        "    # Store predictions and true labels\n",
        "    predictions.append(logits)\n",
        "    true_labels.append(label_ids)\n",
        "\n",
        "  print()\n",
        "  print('DONE.')\n",
        "  return predictions, true_labels"
      ]
    },
    {
      "cell_type": "code",
      "execution_count": 156,
      "metadata": {
        "colab": {
          "base_uri": "https://localhost:8080/"
        },
        "id": "y_7lfXRCGJEt",
        "outputId": "3d2c9d3c-47f4-46c3-cd87-aaae567f8e0b"
      },
      "outputs": [
        {
          "name": "stdout",
          "output_type": "stream",
          "text": [
            "Predicting labels for 52,598 test texts...\n",
            "\n",
            "DONE.\n"
          ]
        }
      ],
      "source": [
        "predictions, true_labels = get_predictions(model, prediction_dataloader)"
      ]
    },
    {
      "cell_type": "markdown",
      "metadata": {
        "id": "J1-Jz7LySnTr"
      },
      "source": [
        "В качестве метрики возьмем F1.\n",
        "\n",
        "Данную метрику используют в силу несбалансированности классов в данных:\n"
      ]
    },
    {
      "cell_type": "code",
      "execution_count": 158,
      "metadata": {
        "colab": {
          "base_uri": "https://localhost:8080/"
        },
        "id": "zN6G7LXLSnTs",
        "outputId": "57514a65-b15c-4b9d-8133-251b912ad3a3"
      },
      "outputs": [
        {
          "name": "stdout",
          "output_type": "stream",
          "text": [
            "Calculating F1 Score for each batch...\n"
          ]
        }
      ],
      "source": [
        "f1_set = []\n",
        "\n",
        "# Evaluate each test batch using Matthew's correlation coefficient\n",
        "print('Calculating F1 Score for each batch...')\n",
        "\n",
        "# For each input batch...\n",
        "for i in range(len(true_labels)):\n",
        "\n",
        "  pred_labels_i = np.argmax(predictions[i], axis=1).flatten()\n",
        "\n",
        "  # Calculate and store the coef for this batch.\n",
        "  f1 = f1_score(true_labels[i], pred_labels_i, average='macro')\n",
        "  f1_set.append(f1)"
      ]
    },
    {
      "cell_type": "markdown",
      "metadata": {
        "id": "lqKI9sGTSnTs"
      },
      "source": [
        "Финальный скор считается по всему датасету, дополнительно посмотрим на скоры на отдельных батчах.\n"
      ]
    },
    {
      "cell_type": "code",
      "execution_count": 159,
      "metadata": {
        "colab": {
          "base_uri": "https://localhost:8080/",
          "height": 546
        },
        "id": "4UTUzz9_SnTs",
        "outputId": "a7a9d94a-eca7-433d-cc1a-84c01a74283f"
      },
      "outputs": [
        {
          "data": {
            "image/png": "[encoded data removed]",
            "text/plain": [
              "<Figure size 1200x600 with 1 Axes>"
            ]
          },
          "metadata": {},
          "output_type": "display_data"
        }
      ],
      "source": [
        "# Create a barplot showing the F1 score for each batch of test samples.\n",
        "ax = sns.barplot(x=list(range(len(f1_set))), y=f1_set, errorbar=None)\n",
        "\n",
        "plt.title('F1 Score per Batch')\n",
        "plt.ylabel('F1')\n",
        "plt.xlabel('Batches')\n",
        "\n",
        "plt.show()"
      ]
    },
    {
      "cell_type": "markdown",
      "metadata": {
        "id": "N4WKZyFKSnTs"
      },
      "source": [
        "Объединим результаты и получим общий скор."
      ]
    },
    {
      "cell_type": "code",
      "execution_count": 1,
      "metadata": {
        "colab": {
          "base_uri": "https://localhost:8080/",
          "height": 211
        },
        "id": "5fAGKjUzSnTt",
        "outputId": "9b610287-b2af-45a6-cc38-b06dfa4349bc"
      },
      "outputs": [
        {
          "ename": "NameError",
          "evalue": "name 'np' is not defined",
          "output_type": "error",
          "traceback": [
            "\u001b[0;31m---------------------------------------------------------------------------\u001b[0m",
            "\u001b[0;31mNameError\u001b[0m                                 Traceback (most recent call last)",
            "\u001b[0;32m<ipython-input-1-97f175adb9f9>\u001b[0m in \u001b[0;36m<cell line: 2>\u001b[0;34m()\u001b[0m\n\u001b[1;32m      1\u001b[0m \u001b[0;31m# Combine the results across all batches.\u001b[0m\u001b[0;34m\u001b[0m\u001b[0;34m\u001b[0m\u001b[0m\n\u001b[0;32m----> 2\u001b[0;31m \u001b[0mflat_predictions\u001b[0m \u001b[0;34m=\u001b[0m \u001b[0mnp\u001b[0m\u001b[0;34m.\u001b[0m\u001b[0mconcatenate\u001b[0m\u001b[0;34m(\u001b[0m\u001b[0mpredictions\u001b[0m\u001b[0;34m,\u001b[0m \u001b[0maxis\u001b[0m\u001b[0;34m=\u001b[0m\u001b[0;36m0\u001b[0m\u001b[0;34m)\u001b[0m\u001b[0;34m\u001b[0m\u001b[0;34m\u001b[0m\u001b[0m\n\u001b[0m\u001b[1;32m      3\u001b[0m \u001b[0;34m\u001b[0m\u001b[0m\n\u001b[1;32m      4\u001b[0m \u001b[0;31m# For each sample, pick the label (0 or 1) with the higher score.\u001b[0m\u001b[0;34m\u001b[0m\u001b[0;34m\u001b[0m\u001b[0m\n\u001b[1;32m      5\u001b[0m \u001b[0mflat_predictions\u001b[0m \u001b[0;34m=\u001b[0m \u001b[0mnp\u001b[0m\u001b[0;34m.\u001b[0m\u001b[0margmax\u001b[0m\u001b[0;34m(\u001b[0m\u001b[0mflat_predictions\u001b[0m\u001b[0;34m,\u001b[0m \u001b[0maxis\u001b[0m\u001b[0;34m=\u001b[0m\u001b[0;36m1\u001b[0m\u001b[0;34m)\u001b[0m\u001b[0;34m.\u001b[0m\u001b[0mflatten\u001b[0m\u001b[0;34m(\u001b[0m\u001b[0;34m)\u001b[0m\u001b[0;34m\u001b[0m\u001b[0;34m\u001b[0m\u001b[0m\n",
            "\u001b[0;31mNameError\u001b[0m: name 'np' is not defined"
          ]
        }
      ],
      "source": [
        "# Combine the results across all batches.\n",
        "flat_predictions = np.concatenate(predictions, axis=0)\n",
        "\n",
        "# For each sample, pick the label (0 or 1) with the higher score.\n",
        "flat_predictions = np.argmax(flat_predictions, axis=1).flatten()\n",
        "\n",
        "# Combine the correct labels for each batch into a single list.\n",
        "flat_true_labels = np.concatenate(true_labels, axis=0)\n",
        "\n",
        "# Calculate the F1\n",
        "f1 = f1_score(flat_true_labels, flat_predictions, average='macro')\n",
        "accuracy = accuracy_score(flat_true_labels, flat_predictions)\n",
        "precision = precision_score(flat_true_labels, flat_predictions, average='macro')\n",
        "recall = recall_score(flat_true_labels, flat_predictions, average='macro')\n",
        "\n",
        "\n",
        "print('Total Accuracy: %.3f' % accuracy)\n",
        "print('Total Precision: %.3f' % precision)\n",
        "print('Total Recall: %.3f' % recall)\n",
        "print('Total F1: %.3f' % f1)"
      ]
    },
    {
      "cell_type": "markdown",
      "metadata": {
        "id": "go5NkUYHSnTt"
      },
      "source": [
        "\n",
        "**Успех!** Спустя небольшое количество времени мы получили хорошую модель с качеством выше чем у моделей, обученных с нуля.\n",
        "\n"
      ]
    },
    {
      "cell_type": "markdown",
      "metadata": {
        "id": "q7G0d3Z9SnTt"
      },
      "source": [
        "# Заключение"
      ]
    },
    {
      "cell_type": "markdown",
      "metadata": {
        "id": "7Qoxklclu2U2"
      },
      "source": [
        "Используя предобученную сеть cointegrated/rubert-tiny2 с помощью простого файн тюнинга удается добиться лучшего качества среди всех моделей. А также модель довольно быстро обучается, что позволит в дальнейшем только улучшать её."
      ]
    },
    {
      "cell_type": "markdown",
      "metadata": {
        "id": "1ABT4cppSnTt"
      },
      "source": [
        "##  Сохранение модели\n",
        "\n",
        "Код ниже позволяет сохранить дообученную модель и соотвествующий ей токенайзер на диск.\n",
        "\n",
        "Так как код выполнялся на GPU Google Colab."
      ]
    },
    {
      "cell_type": "code",
      "execution_count": 2,
      "metadata": {
        "colab": {
          "base_uri": "https://localhost:8080/",
          "height": 211
        },
        "id": "ELHgc08GSnTt",
        "outputId": "6b5c8d0d-b834-424b-f2a1-8114974adabd"
      },
      "outputs": [
        {
          "ename": "NameError",
          "evalue": "name 'os' is not defined",
          "output_type": "error",
          "traceback": [
            "\u001b[0;31m---------------------------------------------------------------------------\u001b[0m",
            "\u001b[0;31mNameError\u001b[0m                                 Traceback (most recent call last)",
            "\u001b[0;32m<ipython-input-2-014d1bd68434>\u001b[0m in \u001b[0;36m<cell line: 4>\u001b[0;34m()\u001b[0m\n\u001b[1;32m      2\u001b[0m \u001b[0;34m\u001b[0m\u001b[0m\n\u001b[1;32m      3\u001b[0m \u001b[0;31m# Create output directory if needed\u001b[0m\u001b[0;34m\u001b[0m\u001b[0;34m\u001b[0m\u001b[0m\n\u001b[0;32m----> 4\u001b[0;31m \u001b[0;32mif\u001b[0m \u001b[0;32mnot\u001b[0m \u001b[0mos\u001b[0m\u001b[0;34m.\u001b[0m\u001b[0mpath\u001b[0m\u001b[0;34m.\u001b[0m\u001b[0mexists\u001b[0m\u001b[0;34m(\u001b[0m\u001b[0moutput_dir\u001b[0m\u001b[0;34m)\u001b[0m\u001b[0;34m:\u001b[0m\u001b[0;34m\u001b[0m\u001b[0;34m\u001b[0m\u001b[0m\n\u001b[0m\u001b[1;32m      5\u001b[0m     \u001b[0mos\u001b[0m\u001b[0;34m.\u001b[0m\u001b[0mmakedirs\u001b[0m\u001b[0;34m(\u001b[0m\u001b[0moutput_dir\u001b[0m\u001b[0;34m)\u001b[0m\u001b[0;34m\u001b[0m\u001b[0;34m\u001b[0m\u001b[0m\n\u001b[1;32m      6\u001b[0m \u001b[0;34m\u001b[0m\u001b[0m\n",
            "\u001b[0;31mNameError\u001b[0m: name 'os' is not defined"
          ]
        }
      ],
      "source": [
        "output_dir = './model_save/'\n",
        "\n",
        "# Create output directory if needed\n",
        "if not os.path.exists(output_dir):\n",
        "    os.makedirs(output_dir)\n",
        "\n",
        "print(\"Saving model to %s\" % output_dir)\n",
        "\n",
        "# Save a trained model, configuration and tokenizer using `save_pretrained()`.\n",
        "# They can then be reloaded using `from_pretrained()`\n",
        "model_to_save = model.module if hasattr(model, 'module') else model\n",
        "model_to_save.save_pretrained(output_dir)\n",
        "tokenizer.save_pretrained(output_dir)\n",
        "\n",
        "# Good practice: save your training arguments together with the trained model\n",
        "# torch.save(args, os.path.join(output_dir, 'training_args.bin'))\n"
      ]
    },
    {
      "cell_type": "markdown",
      "metadata": {
        "id": "67fBA9Y6SnTu"
      },
      "source": [
        "Посмотрим размеры файлов."
      ]
    },
    {
      "cell_type": "code",
      "execution_count": 3,
      "metadata": {
        "colab": {
          "base_uri": "https://localhost:8080/"
        },
        "id": "aTBAhl2pSnTu",
        "outputId": "63821588-5e1b-4be1-e0d9-4839c7c4ffb3"
      },
      "outputs": [
        {
          "name": "stdout",
          "output_type": "stream",
          "text": [
            "ls: cannot access './model_save/': No such file or directory\n"
          ]
        }
      ],
      "source": [
        "!ls -l --block-size=K ./model_save/"
      ]
    },
    {
      "cell_type": "code",
      "execution_count": 4,
      "metadata": {
        "colab": {
          "base_uri": "https://localhost:8080/"
        },
        "id": "w9aagJxqSnTu",
        "outputId": "5f003ad8-6c1e-4e57-833a-cc59d40cd734"
      },
      "outputs": [
        {
          "name": "stdout",
          "output_type": "stream",
          "text": [
            "ls: cannot access './model_save/model.safetensors': No such file or directory\n"
          ]
        }
      ],
      "source": [
        "!ls -l --block-size=M ./model_save/model.safetensors"
      ]
    },
    {
      "cell_type": "markdown",
      "metadata": {
        "id": "OBi77IGUusaV"
      },
      "source": [
        "Файл весит всего 112 мб"
      ]
    },
    {
      "cell_type": "markdown",
      "metadata": {
        "id": "LHoUi2OiSnTu"
      },
      "source": [
        "Код ниже позволяет сохранить модель из колаба на Google Disk."
      ]
    },
    {
      "cell_type": "code",
      "execution_count": 5,
      "metadata": {
        "colab": {
          "base_uri": "https://localhost:8080/",
          "height": 339
        },
        "id": "1hP-fUflSnTu",
        "outputId": "b9d6eb7d-5f0e-4961-9be4-6ceb7deadee1"
      },
      "outputs": [
        {
          "ename": "ValueError",
          "evalue": "mount failed",
          "output_type": "error",
          "traceback": [
            "\u001b[0;31m---------------------------------------------------------------------------\u001b[0m",
            "\u001b[0;31mValueError\u001b[0m                                Traceback (most recent call last)",
            "\u001b[0;32m<ipython-input-5-b484c3b6eed3>\u001b[0m in \u001b[0;36m<cell line: 3>\u001b[0;34m()\u001b[0m\n\u001b[1;32m      1\u001b[0m \u001b[0;31m# Mount Google Drive to this Notebook instance.\u001b[0m\u001b[0;34m\u001b[0m\u001b[0;34m\u001b[0m\u001b[0m\n\u001b[1;32m      2\u001b[0m \u001b[0;32mfrom\u001b[0m \u001b[0mgoogle\u001b[0m\u001b[0;34m.\u001b[0m\u001b[0mcolab\u001b[0m \u001b[0;32mimport\u001b[0m \u001b[0mdrive\u001b[0m\u001b[0;34m\u001b[0m\u001b[0;34m\u001b[0m\u001b[0m\n\u001b[0;32m----> 3\u001b[0;31m \u001b[0mdrive\u001b[0m\u001b[0;34m.\u001b[0m\u001b[0mmount\u001b[0m\u001b[0;34m(\u001b[0m\u001b[0;34m'/content/drive'\u001b[0m\u001b[0;34m)\u001b[0m\u001b[0;34m\u001b[0m\u001b[0;34m\u001b[0m\u001b[0m\n\u001b[0m",
            "\u001b[0;32m/usr/local/lib/python3.10/dist-packages/google/colab/drive.py\u001b[0m in \u001b[0;36mmount\u001b[0;34m(mountpoint, force_remount, timeout_ms, readonly)\u001b[0m\n\u001b[1;32m     98\u001b[0m \u001b[0;32mdef\u001b[0m \u001b[0mmount\u001b[0m\u001b[0;34m(\u001b[0m\u001b[0mmountpoint\u001b[0m\u001b[0;34m,\u001b[0m \u001b[0mforce_remount\u001b[0m\u001b[0;34m=\u001b[0m\u001b[0;32mFalse\u001b[0m\u001b[0;34m,\u001b[0m \u001b[0mtimeout_ms\u001b[0m\u001b[0;34m=\u001b[0m\u001b[0;36m120000\u001b[0m\u001b[0;34m,\u001b[0m \u001b[0mreadonly\u001b[0m\u001b[0;34m=\u001b[0m\u001b[0;32mFalse\u001b[0m\u001b[0;34m)\u001b[0m\u001b[0;34m:\u001b[0m\u001b[0;34m\u001b[0m\u001b[0;34m\u001b[0m\u001b[0m\n\u001b[1;32m     99\u001b[0m   \u001b[0;34m\"\"\"Mount your Google Drive at the specified mountpoint path.\"\"\"\u001b[0m\u001b[0;34m\u001b[0m\u001b[0;34m\u001b[0m\u001b[0m\n\u001b[0;32m--> 100\u001b[0;31m   return _mount(\n\u001b[0m\u001b[1;32m    101\u001b[0m       \u001b[0mmountpoint\u001b[0m\u001b[0;34m,\u001b[0m\u001b[0;34m\u001b[0m\u001b[0;34m\u001b[0m\u001b[0m\n\u001b[1;32m    102\u001b[0m       \u001b[0mforce_remount\u001b[0m\u001b[0;34m=\u001b[0m\u001b[0mforce_remount\u001b[0m\u001b[0;34m,\u001b[0m\u001b[0;34m\u001b[0m\u001b[0;34m\u001b[0m\u001b[0m\n",
            "\u001b[0;32m/usr/local/lib/python3.10/dist-packages/google/colab/drive.py\u001b[0m in \u001b[0;36m_mount\u001b[0;34m(mountpoint, force_remount, timeout_ms, ephemeral, readonly)\u001b[0m\n\u001b[1;32m    281\u001b[0m             \u001b[0;34m'https://research.google.com/colaboratory/faq.html#drive-timeout'\u001b[0m\u001b[0;34m\u001b[0m\u001b[0;34m\u001b[0m\u001b[0m\n\u001b[1;32m    282\u001b[0m         )\n\u001b[0;32m--> 283\u001b[0;31m       \u001b[0;32mraise\u001b[0m \u001b[0mValueError\u001b[0m\u001b[0;34m(\u001b[0m\u001b[0;34m'mount failed'\u001b[0m \u001b[0;34m+\u001b[0m \u001b[0mextra_reason\u001b[0m\u001b[0;34m)\u001b[0m\u001b[0;34m\u001b[0m\u001b[0;34m\u001b[0m\u001b[0m\n\u001b[0m\u001b[1;32m    284\u001b[0m     \u001b[0;32melif\u001b[0m \u001b[0mcase\u001b[0m \u001b[0;34m==\u001b[0m \u001b[0;36m4\u001b[0m\u001b[0;34m:\u001b[0m\u001b[0;34m\u001b[0m\u001b[0;34m\u001b[0m\u001b[0m\n\u001b[1;32m    285\u001b[0m       \u001b[0;31m# Terminate the DriveFS binary before killing bash.\u001b[0m\u001b[0;34m\u001b[0m\u001b[0;34m\u001b[0m\u001b[0m\n",
            "\u001b[0;31mValueError\u001b[0m: mount failed"
          ]
        }
      ],
      "source": [
        "# Mount Google Drive to this Notebook instance.\n",
        "from google.colab import drive\n",
        "drive.mount('/content/drive')"
      ]
    },
    {
      "cell_type": "code",
      "execution_count": null,
      "metadata": {
        "id": "LYE15wGnSnTu"
      },
      "outputs": [],
      "source": [
        "# Copy the model files to a directory in your Google Drive.\n",
        "!cp -r ./model_save/ \"./drive/myfile_andreykasha\""
      ]
    },
    {
      "cell_type": "markdown",
      "metadata": {
        "id": "JPFUT4NSSnTv"
      },
      "source": [
        "Код ниже позволяет загрузить сохраненную модель."
      ]
    },
    {
      "cell_type": "code",
      "execution_count": null,
      "metadata": {
        "id": "HhhNkV-9SnTv"
      },
      "outputs": [],
      "source": [
        "# Load a trained model and vocabulary that you have fine-tuned\n",
        "model = BertForSequenceClassification.from_pretrained(output_dir)\n",
        "tokenizer = BertTokenizer.from_pretrained(output_dir)\n",
        "\n",
        "# Copy the model to the GPU.\n",
        "device = torch.device('cuda' if torch.cuda.is_available() else 'cpu')\n",
        "model.to(device)\n"
      ]
    }
  ],
  "metadata": {
    "accelerator": "TPU",
    "colab": {
      "gpuType": "V28",
      "provenance": []
    },
    "kernelspec": {
      "display_name": "Python 3",
      "name": "python3"
    },
    "language_info": {
      "codemirror_mode": {
        "name": "ipython",
        "version": 3
      },
      "file_extension": ".py",
      "mimetype": "text/x-python",
      "name": "python",
      "nbconvert_exporter": "python",
      "pygments_lexer": "ipython3",
      "version": "3.9.8"
    }
  },
  "nbformat": 4,
  "nbformat_minor": 0
}
